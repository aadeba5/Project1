{
 "cells": [
  {
   "cell_type": "code",
   "execution_count": 75,
   "metadata": {},
   "outputs": [],
   "source": [
    "import pandas as pd\n",
    "import matplotlib.pyplot as plt\n",
    "import scipy.stats as sts\n",
    "import numpy as np\n",
    "from scipy.stats import linregress"
   ]
  },
  {
   "cell_type": "code",
   "execution_count": 76,
   "metadata": {},
   "outputs": [],
   "source": [
    "#Item Sales vs Date Added Comparisons - Amusa"
   ]
  },
  {
   "cell_type": "code",
   "execution_count": 77,
   "metadata": {},
   "outputs": [
    {
     "output_type": "execute_result",
     "data": {
      "text/plain": [
       "      Silo Silo_Description Cust_ID                       name_cust id_st  \\\n",
       "0       I        Industrial   22777               USHER OIL COMPANY    MI   \n",
       "1       I        Industrial   22777               USHER OIL COMPANY    MI   \n",
       "2       I        Industrial   22777               USHER OIL COMPANY    MI   \n",
       "3       I        Industrial   22777               USHER OIL COMPANY    MI   \n",
       "4       I        Industrial   22777               USHER OIL COMPANY    MI   \n",
       "...    ...              ...     ...                             ...   ...   \n",
       "23367   I        Industrial    1801                  MSP INDUSTRIES    MI   \n",
       "23368   J            JanSan    1000                    SAMPLE ORDER    OH   \n",
       "23369   J            JanSan    1000                    SAMPLE ORDER    OH   \n",
       "23370   I        Industrial   12663  LIBERTY STEEL INDUSTRIES, INC.    OH   \n",
       "23371   I        Industrial   12663  LIBERTY STEEL INDUSTRIES, INC.    OH   \n",
       "\n",
       "      Date_Invoice     id_item                        descr_1  qty_ship  \\\n",
       "0        3/18/2019  1000ABS550                     ACTIV VIII         8   \n",
       "1        5/21/2019  1000ABS550                     ACTIV VIII         8   \n",
       "2        2/11/2020  1000ABS550                     ACTIV VIII         4   \n",
       "3         4/6/2020  1000ABS550                     ACTIV VIII         4   \n",
       "4        8/19/2020  1000ABS550                     ACTIV VIII         4   \n",
       "...            ...         ...                            ...       ...   \n",
       "23367    9/27/2019       ZS401  BRUSH-SPIRAL WRAP SCRUB BRUSH         2   \n",
       "23368   10/21/2019       ZS402   BRUSH-HI DENSITY SCRUB BRUSH         2   \n",
       "23369   10/21/2019       ZS403         BRUSH-SIDE SCRUB BRUSH         1   \n",
       "23370   10/24/2019       ZS404   BRUSH-GRIT SIDE SCRUB BRUSH.         1   \n",
       "23371    8/31/2020       ZS404   BRUSH-GRIT SIDE SCRUB BRUSH.         1   \n",
       "\n",
       "       price_net code_cat_prdt    category flag_stat_item code_comm  \\\n",
       "0        1750.56            10  AC8000 MOD              A      FNSG   \n",
       "1        1838.08            10  AC8000 MOD              A      FNSG   \n",
       "2         919.04            10  AC8000 MOD              A      FNSG   \n",
       "3         919.04            10  AC8000 MOD              A      FNSG   \n",
       "4         919.04            10  AC8000 MOD              A      FNSG   \n",
       "...          ...           ...         ...            ...       ...   \n",
       "23367    1139.50            ZS   PDQ PARTS              A      FNSG   \n",
       "23368     822.50            ZS   PDQ PARTS              A      FNSG   \n",
       "23369     207.00            ZS   PDQ PARTS              A      FNSG   \n",
       "23370     469.00            ZS   PDQ PARTS              A      FNSG   \n",
       "23371     469.00            ZS   PDQ PARTS              A      FNSG   \n",
       "\n",
       "      Item_Add_date  \n",
       "0         6/12/2015  \n",
       "1         6/12/2015  \n",
       "2         6/12/2015  \n",
       "3         6/12/2015  \n",
       "4         6/12/2015  \n",
       "...             ...  \n",
       "23367     9/24/2019  \n",
       "23368    10/11/2019  \n",
       "23369    10/11/2019  \n",
       "23370    10/14/2019  \n",
       "23371    10/14/2019  \n",
       "\n",
       "[23372 rows x 15 columns]"
      ],
      "text/html": "<div>\n<style scoped>\n    .dataframe tbody tr th:only-of-type {\n        vertical-align: middle;\n    }\n\n    .dataframe tbody tr th {\n        vertical-align: top;\n    }\n\n    .dataframe thead th {\n        text-align: right;\n    }\n</style>\n<table border=\"1\" class=\"dataframe\">\n  <thead>\n    <tr style=\"text-align: right;\">\n      <th></th>\n      <th>Silo</th>\n      <th>Silo_Description</th>\n      <th>Cust_ID</th>\n      <th>name_cust</th>\n      <th>id_st</th>\n      <th>Date_Invoice</th>\n      <th>id_item</th>\n      <th>descr_1</th>\n      <th>qty_ship</th>\n      <th>price_net</th>\n      <th>code_cat_prdt</th>\n      <th>category</th>\n      <th>flag_stat_item</th>\n      <th>code_comm</th>\n      <th>Item_Add_date</th>\n    </tr>\n  </thead>\n  <tbody>\n    <tr>\n      <th>0</th>\n      <td>I</td>\n      <td>Industrial</td>\n      <td>22777</td>\n      <td>USHER OIL COMPANY</td>\n      <td>MI</td>\n      <td>3/18/2019</td>\n      <td>1000ABS550</td>\n      <td>ACTIV VIII</td>\n      <td>8</td>\n      <td>1750.56</td>\n      <td>10</td>\n      <td>AC8000 MOD</td>\n      <td>A</td>\n      <td>FNSG</td>\n      <td>6/12/2015</td>\n    </tr>\n    <tr>\n      <th>1</th>\n      <td>I</td>\n      <td>Industrial</td>\n      <td>22777</td>\n      <td>USHER OIL COMPANY</td>\n      <td>MI</td>\n      <td>5/21/2019</td>\n      <td>1000ABS550</td>\n      <td>ACTIV VIII</td>\n      <td>8</td>\n      <td>1838.08</td>\n      <td>10</td>\n      <td>AC8000 MOD</td>\n      <td>A</td>\n      <td>FNSG</td>\n      <td>6/12/2015</td>\n    </tr>\n    <tr>\n      <th>2</th>\n      <td>I</td>\n      <td>Industrial</td>\n      <td>22777</td>\n      <td>USHER OIL COMPANY</td>\n      <td>MI</td>\n      <td>2/11/2020</td>\n      <td>1000ABS550</td>\n      <td>ACTIV VIII</td>\n      <td>4</td>\n      <td>919.04</td>\n      <td>10</td>\n      <td>AC8000 MOD</td>\n      <td>A</td>\n      <td>FNSG</td>\n      <td>6/12/2015</td>\n    </tr>\n    <tr>\n      <th>3</th>\n      <td>I</td>\n      <td>Industrial</td>\n      <td>22777</td>\n      <td>USHER OIL COMPANY</td>\n      <td>MI</td>\n      <td>4/6/2020</td>\n      <td>1000ABS550</td>\n      <td>ACTIV VIII</td>\n      <td>4</td>\n      <td>919.04</td>\n      <td>10</td>\n      <td>AC8000 MOD</td>\n      <td>A</td>\n      <td>FNSG</td>\n      <td>6/12/2015</td>\n    </tr>\n    <tr>\n      <th>4</th>\n      <td>I</td>\n      <td>Industrial</td>\n      <td>22777</td>\n      <td>USHER OIL COMPANY</td>\n      <td>MI</td>\n      <td>8/19/2020</td>\n      <td>1000ABS550</td>\n      <td>ACTIV VIII</td>\n      <td>4</td>\n      <td>919.04</td>\n      <td>10</td>\n      <td>AC8000 MOD</td>\n      <td>A</td>\n      <td>FNSG</td>\n      <td>6/12/2015</td>\n    </tr>\n    <tr>\n      <th>...</th>\n      <td>...</td>\n      <td>...</td>\n      <td>...</td>\n      <td>...</td>\n      <td>...</td>\n      <td>...</td>\n      <td>...</td>\n      <td>...</td>\n      <td>...</td>\n      <td>...</td>\n      <td>...</td>\n      <td>...</td>\n      <td>...</td>\n      <td>...</td>\n      <td>...</td>\n    </tr>\n    <tr>\n      <th>23367</th>\n      <td>I</td>\n      <td>Industrial</td>\n      <td>1801</td>\n      <td>MSP INDUSTRIES</td>\n      <td>MI</td>\n      <td>9/27/2019</td>\n      <td>ZS401</td>\n      <td>BRUSH-SPIRAL WRAP SCRUB BRUSH</td>\n      <td>2</td>\n      <td>1139.50</td>\n      <td>ZS</td>\n      <td>PDQ PARTS</td>\n      <td>A</td>\n      <td>FNSG</td>\n      <td>9/24/2019</td>\n    </tr>\n    <tr>\n      <th>23368</th>\n      <td>J</td>\n      <td>JanSan</td>\n      <td>1000</td>\n      <td>SAMPLE ORDER</td>\n      <td>OH</td>\n      <td>10/21/2019</td>\n      <td>ZS402</td>\n      <td>BRUSH-HI DENSITY SCRUB BRUSH</td>\n      <td>2</td>\n      <td>822.50</td>\n      <td>ZS</td>\n      <td>PDQ PARTS</td>\n      <td>A</td>\n      <td>FNSG</td>\n      <td>10/11/2019</td>\n    </tr>\n    <tr>\n      <th>23369</th>\n      <td>J</td>\n      <td>JanSan</td>\n      <td>1000</td>\n      <td>SAMPLE ORDER</td>\n      <td>OH</td>\n      <td>10/21/2019</td>\n      <td>ZS403</td>\n      <td>BRUSH-SIDE SCRUB BRUSH</td>\n      <td>1</td>\n      <td>207.00</td>\n      <td>ZS</td>\n      <td>PDQ PARTS</td>\n      <td>A</td>\n      <td>FNSG</td>\n      <td>10/11/2019</td>\n    </tr>\n    <tr>\n      <th>23370</th>\n      <td>I</td>\n      <td>Industrial</td>\n      <td>12663</td>\n      <td>LIBERTY STEEL INDUSTRIES, INC.</td>\n      <td>OH</td>\n      <td>10/24/2019</td>\n      <td>ZS404</td>\n      <td>BRUSH-GRIT SIDE SCRUB BRUSH.</td>\n      <td>1</td>\n      <td>469.00</td>\n      <td>ZS</td>\n      <td>PDQ PARTS</td>\n      <td>A</td>\n      <td>FNSG</td>\n      <td>10/14/2019</td>\n    </tr>\n    <tr>\n      <th>23371</th>\n      <td>I</td>\n      <td>Industrial</td>\n      <td>12663</td>\n      <td>LIBERTY STEEL INDUSTRIES, INC.</td>\n      <td>OH</td>\n      <td>8/31/2020</td>\n      <td>ZS404</td>\n      <td>BRUSH-GRIT SIDE SCRUB BRUSH.</td>\n      <td>1</td>\n      <td>469.00</td>\n      <td>ZS</td>\n      <td>PDQ PARTS</td>\n      <td>A</td>\n      <td>FNSG</td>\n      <td>10/14/2019</td>\n    </tr>\n  </tbody>\n</table>\n<p>23372 rows × 15 columns</p>\n</div>"
     },
     "metadata": {},
     "execution_count": 77
    }
   ],
   "source": [
    "#Import CSV\n",
    "csv = \"Sales_Item_Merged.csv\"\n",
    "sales_data = pd.read_csv(csv)\n",
    "sales_data"
   ]
  },
  {
   "cell_type": "code",
   "execution_count": null,
   "metadata": {},
   "outputs": [],
   "source": [
    "#nuance_df = pd.read_csv(\"Sales_Item_Merged.csv\")\n",
    "#nuance_df['year'] = pd.DatetimeIndex(nuance_df['Date_Invoice']).year.astype(object)\n",
    "#nuance_df['month'] = pd.DatetimeIndex(nuance_df['Date_Invoice']).month.astype(object)"
   ]
  },
  {
   "cell_type": "code",
   "execution_count": 121,
   "metadata": {},
   "outputs": [],
   "source": [
    "sales_data_df = pd.read_csv(\"Sales_Item_Merged.csv\")\n",
    "sales_data['year'] = pd.DatetimeIndex(sales_data['price_net']).year.astype(object)\n",
    "sales_data['month'] = pd.DatetimeIndex(sales_data['price_net']).month.astype(object)"
   ]
  },
  {
   "cell_type": "code",
   "execution_count": 122,
   "metadata": {},
   "outputs": [],
   "source": [
    "#twenty_19_sales = nuance_df.loc[nuance_df['year']== 2019]\n",
    "#twenty_20_sales = nuance_df.loc[nuance_df['year']== 2020]"
   ]
  },
  {
   "cell_type": "code",
   "execution_count": 123,
   "metadata": {},
   "outputs": [],
   "source": [
    "twenty_19_sales = sales_data.loc[sales_data['year']== 2019]\n",
    "twenty_20_sales = sales_data.loc[sales_data['year']== 2020]"
   ]
  },
  {
   "cell_type": "code",
   "execution_count": 125,
   "metadata": {},
   "outputs": [],
   "source": [
    "price_net_2019 = twenty_19_sales.groupby(['price_net']).sum()\n",
    "price_net_2020 = twenty_20_sales.groupby(['price_net']).sum()\n"
   ]
  },
  {
   "cell_type": "code",
   "execution_count": 129,
   "metadata": {},
   "outputs": [
    {
     "output_type": "execute_result",
     "data": {
      "text/plain": [
       "Empty DataFrame\n",
       "Columns: [qty_ship]\n",
       "Index: []"
      ],
      "text/html": "<div>\n<style scoped>\n    .dataframe tbody tr th:only-of-type {\n        vertical-align: middle;\n    }\n\n    .dataframe tbody tr th {\n        vertical-align: top;\n    }\n\n    .dataframe thead th {\n        text-align: right;\n    }\n</style>\n<table border=\"1\" class=\"dataframe\">\n  <thead>\n    <tr style=\"text-align: right;\">\n      <th></th>\n      <th>qty_ship</th>\n    </tr>\n    <tr>\n      <th>price_net</th>\n      <th></th>\n    </tr>\n  </thead>\n  <tbody>\n  </tbody>\n</table>\n</div>"
     },
     "metadata": {},
     "execution_count": 129
    }
   ],
   "source": [
    "top_ten_2019_qty = price_net_2019.sort_values(by = 'price_net', ascending = False)\n",
    "top_ten_2020_qty = price_net_2020.sort_values(by = 'price_net', ascending = False)\n",
    "twenty19_qty_labels = top_ten_2019_qty.head(10).index\n",
    "top_ten_2019_qty.head()"
   ]
  },
  {
   "cell_type": "code",
   "execution_count": 130,
   "metadata": {},
   "outputs": [
    {
     "output_type": "execute_result",
     "data": {
      "text/plain": [
       "Empty DataFrame\n",
       "Columns: [qty_ship]\n",
       "Index: []"
      ],
      "text/html": "<div>\n<style scoped>\n    .dataframe tbody tr th:only-of-type {\n        vertical-align: middle;\n    }\n\n    .dataframe tbody tr th {\n        vertical-align: top;\n    }\n\n    .dataframe thead th {\n        text-align: right;\n    }\n</style>\n<table border=\"1\" class=\"dataframe\">\n  <thead>\n    <tr style=\"text-align: right;\">\n      <th></th>\n      <th>qty_ship</th>\n    </tr>\n    <tr>\n      <th>price_net</th>\n      <th></th>\n    </tr>\n  </thead>\n  <tbody>\n  </tbody>\n</table>\n</div>"
     },
     "metadata": {},
     "execution_count": 130
    }
   ],
   "source": [
    "top_ten_2020_qty = price_net_2020.sort_values(by = 'price_net', ascending = False)\n",
    "top_ten_2020_qty = price_net_2020.sort_values(by = 'price_net', ascending = False)\n",
    "twenty20_qty_labels = top_ten_2020_qty.head(10).index\n",
    "top_ten_2020_qty.head()"
   ]
  },
  {
   "cell_type": "code",
   "execution_count": 120,
   "metadata": {},
   "outputs": [
    {
     "output_type": "execute_result",
     "data": {
      "text/plain": [
       "      Silo Silo_Description Cust_ID                     name_cust id_st  \\\n",
       "11275   C          Contract   21590               TENNANT COMPANY    KY   \n",
       "11280   C          Contract   21590               TENNANT COMPANY    KY   \n",
       "11277   C          Contract   21590               TENNANT COMPANY    KY   \n",
       "11278   I        Industrial   13570  MARK C POPE ASSOCIATES, INC.    GA   \n",
       "11276   C          Contract   21590               TENNANT COMPANY    KY   \n",
       "\n",
       "      Date_Invoice     id_item          descr_1  qty_ship  price_net  \\\n",
       "11275    4/16/2019  9210ABS050  COLD CLEAN PLUS         1       45.3   \n",
       "11280    8/19/2019  9210ABS050  COLD CLEAN PLUS         1       45.3   \n",
       "11277     6/3/2019  9210ABS050  COLD CLEAN PLUS         2       90.6   \n",
       "11278    7/24/2019  9210ABS050  COLD CLEAN PLUS         1       26.1   \n",
       "11276    2/25/2019  9210ABS050  COLD CLEAN PLUS         1       45.3   \n",
       "\n",
       "      code_cat_prdt   category flag_stat_item code_comm Item_Add_date  year  \\\n",
       "11275            92  MISC SPEC              A      FNSG      9/9/2016  1970   \n",
       "11280            92  MISC SPEC              A      FNSG      9/9/2016  1970   \n",
       "11277            92  MISC SPEC              A      FNSG      9/9/2016  1970   \n",
       "11278            92  MISC SPEC              A      FNSG      9/9/2016  1970   \n",
       "11276            92  MISC SPEC              A      FNSG      9/9/2016  1970   \n",
       "\n",
       "      month  \n",
       "11275     1  \n",
       "11280     1  \n",
       "11277     1  \n",
       "11278     1  \n",
       "11276     1  "
      ],
      "text/html": "<div>\n<style scoped>\n    .dataframe tbody tr th:only-of-type {\n        vertical-align: middle;\n    }\n\n    .dataframe tbody tr th {\n        vertical-align: top;\n    }\n\n    .dataframe thead th {\n        text-align: right;\n    }\n</style>\n<table border=\"1\" class=\"dataframe\">\n  <thead>\n    <tr style=\"text-align: right;\">\n      <th></th>\n      <th>Silo</th>\n      <th>Silo_Description</th>\n      <th>Cust_ID</th>\n      <th>name_cust</th>\n      <th>id_st</th>\n      <th>Date_Invoice</th>\n      <th>id_item</th>\n      <th>descr_1</th>\n      <th>qty_ship</th>\n      <th>price_net</th>\n      <th>code_cat_prdt</th>\n      <th>category</th>\n      <th>flag_stat_item</th>\n      <th>code_comm</th>\n      <th>Item_Add_date</th>\n      <th>year</th>\n      <th>month</th>\n    </tr>\n  </thead>\n  <tbody>\n    <tr>\n      <th>11275</th>\n      <td>C</td>\n      <td>Contract</td>\n      <td>21590</td>\n      <td>TENNANT COMPANY</td>\n      <td>KY</td>\n      <td>4/16/2019</td>\n      <td>9210ABS050</td>\n      <td>COLD CLEAN PLUS</td>\n      <td>1</td>\n      <td>45.3</td>\n      <td>92</td>\n      <td>MISC SPEC</td>\n      <td>A</td>\n      <td>FNSG</td>\n      <td>9/9/2016</td>\n      <td>1970</td>\n      <td>1</td>\n    </tr>\n    <tr>\n      <th>11280</th>\n      <td>C</td>\n      <td>Contract</td>\n      <td>21590</td>\n      <td>TENNANT COMPANY</td>\n      <td>KY</td>\n      <td>8/19/2019</td>\n      <td>9210ABS050</td>\n      <td>COLD CLEAN PLUS</td>\n      <td>1</td>\n      <td>45.3</td>\n      <td>92</td>\n      <td>MISC SPEC</td>\n      <td>A</td>\n      <td>FNSG</td>\n      <td>9/9/2016</td>\n      <td>1970</td>\n      <td>1</td>\n    </tr>\n    <tr>\n      <th>11277</th>\n      <td>C</td>\n      <td>Contract</td>\n      <td>21590</td>\n      <td>TENNANT COMPANY</td>\n      <td>KY</td>\n      <td>6/3/2019</td>\n      <td>9210ABS050</td>\n      <td>COLD CLEAN PLUS</td>\n      <td>2</td>\n      <td>90.6</td>\n      <td>92</td>\n      <td>MISC SPEC</td>\n      <td>A</td>\n      <td>FNSG</td>\n      <td>9/9/2016</td>\n      <td>1970</td>\n      <td>1</td>\n    </tr>\n    <tr>\n      <th>11278</th>\n      <td>I</td>\n      <td>Industrial</td>\n      <td>13570</td>\n      <td>MARK C POPE ASSOCIATES, INC.</td>\n      <td>GA</td>\n      <td>7/24/2019</td>\n      <td>9210ABS050</td>\n      <td>COLD CLEAN PLUS</td>\n      <td>1</td>\n      <td>26.1</td>\n      <td>92</td>\n      <td>MISC SPEC</td>\n      <td>A</td>\n      <td>FNSG</td>\n      <td>9/9/2016</td>\n      <td>1970</td>\n      <td>1</td>\n    </tr>\n    <tr>\n      <th>11276</th>\n      <td>C</td>\n      <td>Contract</td>\n      <td>21590</td>\n      <td>TENNANT COMPANY</td>\n      <td>KY</td>\n      <td>2/25/2019</td>\n      <td>9210ABS050</td>\n      <td>COLD CLEAN PLUS</td>\n      <td>1</td>\n      <td>45.3</td>\n      <td>92</td>\n      <td>MISC SPEC</td>\n      <td>A</td>\n      <td>FNSG</td>\n      <td>9/9/2016</td>\n      <td>1970</td>\n      <td>1</td>\n    </tr>\n  </tbody>\n</table>\n</div>"
     },
     "metadata": {},
     "execution_count": 120
    }
   ],
   "source": [
    "# To sort from highest to lowest, ascending=False must be passed in\n",
    "sales_data_Item_Add_date=sales_data.sort_values(\"Item_Add_date\",ascending=False)\n",
    "sales_data_Item_Add_date.head()"
   ]
  },
  {
   "cell_type": "code",
   "execution_count": 94,
   "metadata": {},
   "outputs": [
    {
     "output_type": "execute_result",
     "data": {
      "text/plain": [
       "           qty_ship     price_net\n",
       "count  23372.000000  23372.000000\n",
       "mean     265.313837   2419.787054\n",
       "std      957.139482   5722.500328\n",
       "min        1.000000      1.400000\n",
       "25%        4.000000     99.360000\n",
       "50%       24.000000    340.200000\n",
       "75%      123.000000   1900.000000\n",
       "max    50040.000000  76108.800000"
      ],
      "text/html": "<div>\n<style scoped>\n    .dataframe tbody tr th:only-of-type {\n        vertical-align: middle;\n    }\n\n    .dataframe tbody tr th {\n        vertical-align: top;\n    }\n\n    .dataframe thead th {\n        text-align: right;\n    }\n</style>\n<table border=\"1\" class=\"dataframe\">\n  <thead>\n    <tr style=\"text-align: right;\">\n      <th></th>\n      <th>qty_ship</th>\n      <th>price_net</th>\n    </tr>\n  </thead>\n  <tbody>\n    <tr>\n      <th>count</th>\n      <td>23372.000000</td>\n      <td>23372.000000</td>\n    </tr>\n    <tr>\n      <th>mean</th>\n      <td>265.313837</td>\n      <td>2419.787054</td>\n    </tr>\n    <tr>\n      <th>std</th>\n      <td>957.139482</td>\n      <td>5722.500328</td>\n    </tr>\n    <tr>\n      <th>min</th>\n      <td>1.000000</td>\n      <td>1.400000</td>\n    </tr>\n    <tr>\n      <th>25%</th>\n      <td>4.000000</td>\n      <td>99.360000</td>\n    </tr>\n    <tr>\n      <th>50%</th>\n      <td>24.000000</td>\n      <td>340.200000</td>\n    </tr>\n    <tr>\n      <th>75%</th>\n      <td>123.000000</td>\n      <td>1900.000000</td>\n    </tr>\n    <tr>\n      <th>max</th>\n      <td>50040.000000</td>\n      <td>76108.800000</td>\n    </tr>\n  </tbody>\n</table>\n</div>"
     },
     "metadata": {},
     "execution_count": 94
    }
   ],
   "source": [
    "# Collecting a summary of data for analysis\n",
    "sales_data_Item_Add_date.describe()"
   ]
  },
  {
   "cell_type": "code",
   "execution_count": 95,
   "metadata": {},
   "outputs": [],
   "source": [
    "# Finding the item added dates\n",
    "#sales_data_Item_Add_date[\"Item_Add_date\"].unique()"
   ]
  },
  {
   "cell_type": "code",
   "execution_count": 96,
   "metadata": {},
   "outputs": [],
   "source": [
    "# Finding the shipped\n",
    "#sales_data[\"qty_ship\"].unique()"
   ]
  },
  {
   "cell_type": "code",
   "execution_count": 131,
   "metadata": {},
   "outputs": [],
   "source": [
    "# Finding the item price\n",
    "#sales_data[\"price_net\"].unique()"
   ]
  },
  {
   "cell_type": "code",
   "execution_count": 132,
   "metadata": {},
   "outputs": [
    {
     "output_type": "execute_result",
     "data": {
      "text/plain": [
       "Empty DataFrame\n",
       "Columns: [Item_Add_date, qty_ship, price_net]\n",
       "Index: []"
      ],
      "text/html": "<div>\n<style scoped>\n    .dataframe tbody tr th:only-of-type {\n        vertical-align: middle;\n    }\n\n    .dataframe tbody tr th {\n        vertical-align: top;\n    }\n\n    .dataframe thead th {\n        text-align: right;\n    }\n</style>\n<table border=\"1\" class=\"dataframe\">\n  <thead>\n    <tr style=\"text-align: right;\">\n      <th></th>\n      <th>Item_Add_date</th>\n      <th>qty_ship</th>\n      <th>price_net</th>\n    </tr>\n    <tr>\n      <th>id_item</th>\n      <th></th>\n      <th></th>\n      <th></th>\n    </tr>\n  </thead>\n  <tbody>\n  </tbody>\n</table>\n</div>"
     },
     "metadata": {},
     "execution_count": 132
    }
   ],
   "source": [
    "id_item_group_2020 = twenty_20_sales.groupby([\"id_item\", \"Item_Add_date\"]).sum().sort_values(by=\"price_net\",ascending = False)\n",
    "\n",
    "id_item_group_2020=id_item_group_2020.reset_index(level=1, drop=False)\n",
    "id_item_group_2020.head(10)"
   ]
  },
  {
   "cell_type": "code",
   "execution_count": 133,
   "metadata": {},
   "outputs": [
    {
     "output_type": "execute_result",
     "data": {
      "text/plain": [
       "Empty DataFrame\n",
       "Columns: [Item_Add_date, qty_ship, price_net]\n",
       "Index: []"
      ],
      "text/html": "<div>\n<style scoped>\n    .dataframe tbody tr th:only-of-type {\n        vertical-align: middle;\n    }\n\n    .dataframe tbody tr th {\n        vertical-align: top;\n    }\n\n    .dataframe thead th {\n        text-align: right;\n    }\n</style>\n<table border=\"1\" class=\"dataframe\">\n  <thead>\n    <tr style=\"text-align: right;\">\n      <th></th>\n      <th>Item_Add_date</th>\n      <th>qty_ship</th>\n      <th>price_net</th>\n    </tr>\n    <tr>\n      <th>id_item</th>\n      <th></th>\n      <th></th>\n      <th></th>\n    </tr>\n  </thead>\n  <tbody>\n  </tbody>\n</table>\n</div>"
     },
     "metadata": {},
     "execution_count": 133
    }
   ],
   "source": [
    "# Dataframe of the average stats for each year sales\n",
    "#twenty_19_sales = sales_data.loc[sales_data['year']== 2019]\n",
    "#twenty_20_sales = sales_data.loc[sales_data['year']== 2020]\n",
    "id_item_group_2019 = twenty_19_sales.groupby([\"id_item\", \"Item_Add_date\"]).sum().sort_values(by=\"price_net\",ascending = False)\n",
    "\n",
    "id_item_group_2019=id_item_group_2019.reset_index(level=1, drop=False)\n",
    "id_item_group_2019.head(10)\n"
   ]
  },
  {
   "cell_type": "code",
   "execution_count": null,
   "metadata": {},
   "outputs": [],
   "source": []
  },
  {
   "cell_type": "code",
   "execution_count": 101,
   "metadata": {},
   "outputs": [],
   "source": [
    "    #id_item_group_2019 = pd.DataFrame({\n",
    "   # \"Item_Add_date\": [\"12/30/1994\", \"9/24/2014\", \"6/18/2015\", \"7/16/2018\", \"12/30/1994\", \"7/25/2013\",\"12/30/1994\", \"2/21/         2014\", \"12/15/1999\", \"6/7/2011\"],\n",
    "    #\"qty_ship\": [1135086, 205989, 570819, 16740, 39514,110, 29394, 1077, 24899, 425],\n",
    "    #\"price_net\": [2154237.70,  1434360.43, 696399.18, 567486.00, 538575.82, 518650.00, 504694.98, 390951.00, 383652.7,            381862.50]\n",
    "    #}\n",
    "    #id_item_group_2019\n"
   ]
  },
  {
   "cell_type": "code",
   "execution_count": null,
   "metadata": {},
   "outputs": [],
   "source": [
    "#index=[1, 2, 3, 4, 5])"
   ]
  },
  {
   "cell_type": "code",
   "execution_count": 17,
   "metadata": {},
   "outputs": [],
   "source": [
    "\n",
    "#matplotlib.pyplot.bar(x, height, width=0.8, bottom=None, * align='center', data=None, **kwargs)[source]"
   ]
  },
  {
   "cell_type": "code",
   "execution_count": 60,
   "metadata": {},
   "outputs": [
    {
     "output_type": "stream",
     "name": "stdout",
     "text": [
      "The mean 2019_quantity shipped is: 2302.97\nThe standard deviation of 2019_quantity shipped is: 20493.85\n"
     ]
    },
    {
     "output_type": "display_data",
     "data": {
      "text/plain": "<Figure size 432x288 with 1 Axes>",
      "image/svg+xml": "<?xml version=\"1.0\" encoding=\"utf-8\" standalone=\"no\"?>\n<!DOCTYPE svg PUBLIC \"-//W3C//DTD SVG 1.1//EN\"\n  \"http://www.w3.org/Graphics/SVG/1.1/DTD/svg11.dtd\">\n<!-- Created with matplotlib (https://matplotlib.org/) -->\n<svg height=\"262.474375pt\" version=\"1.1\" viewBox=\"0 0 395.60625 262.474375\" width=\"395.60625pt\" xmlns=\"http://www.w3.org/2000/svg\" xmlns:xlink=\"http://www.w3.org/1999/xlink\">\n <metadata>\n  <rdf:RDF xmlns:cc=\"http://creativecommons.org/ns#\" xmlns:dc=\"http://purl.org/dc/elements/1.1/\" xmlns:rdf=\"http://www.w3.org/1999/02/22-rdf-syntax-ns#\">\n   <cc:Work>\n    <dc:type rdf:resource=\"http://purl.org/dc/dcmitype/StillImage\"/>\n    <dc:date>2021-02-16T01:01:54.002702</dc:date>\n    <dc:format>image/svg+xml</dc:format>\n    <dc:creator>\n     <cc:Agent>\n      <dc:title>Matplotlib v3.3.2, https://matplotlib.org/</dc:title>\n     </cc:Agent>\n    </dc:creator>\n   </cc:Work>\n  </rdf:RDF>\n </metadata>\n <defs>\n  <style type=\"text/css\">*{stroke-linecap:butt;stroke-linejoin:round;}</style>\n </defs>\n <g id=\"figure_1\">\n  <g id=\"patch_1\">\n   <path d=\"M 0 262.474375 \nL 395.60625 262.474375 \nL 395.60625 0 \nL 0 0 \nz\n\" style=\"fill:none;\"/>\n  </g>\n  <g id=\"axes_1\">\n   <g id=\"patch_2\">\n    <path d=\"M 53.60625 224.64 \nL 388.40625 224.64 \nL 388.40625 7.2 \nL 53.60625 7.2 \nz\n\" style=\"fill:#ffffff;\"/>\n   </g>\n   <g id=\"patch_3\">\n    <path clip-path=\"url(#p2ee8ee4225)\" d=\"M 68.824432 224.64 \nL 99.260795 224.64 \nL 99.260795 17.554286 \nL 68.824432 17.554286 \nz\n\" style=\"fill:#1f77b4;\"/>\n   </g>\n   <g id=\"patch_4\">\n    <path clip-path=\"url(#p2ee8ee4225)\" d=\"M 99.260795 224.64 \nL 129.697159 224.64 \nL 129.697159 223.14749 \nL 99.260795 223.14749 \nz\n\" style=\"fill:#1f77b4;\"/>\n   </g>\n   <g id=\"patch_5\">\n    <path clip-path=\"url(#p2ee8ee4225)\" d=\"M 129.697159 224.64 \nL 160.133523 224.64 \nL 160.133523 224.266873 \nL 129.697159 224.266873 \nz\n\" style=\"fill:#1f77b4;\"/>\n   </g>\n   <g id=\"patch_6\">\n    <path clip-path=\"url(#p2ee8ee4225)\" d=\"M 160.133523 224.64 \nL 190.569886 224.64 \nL 190.569886 224.453436 \nL 160.133523 224.453436 \nz\n\" style=\"fill:#1f77b4;\"/>\n   </g>\n   <g id=\"patch_7\">\n    <path clip-path=\"url(#p2ee8ee4225)\" d=\"M 190.569886 224.64 \nL 221.00625 224.64 \nL 221.00625 224.64 \nL 190.569886 224.64 \nz\n\" style=\"fill:#1f77b4;\"/>\n   </g>\n   <g id=\"patch_8\">\n    <path clip-path=\"url(#p2ee8ee4225)\" d=\"M 221.00625 224.64 \nL 251.442614 224.64 \nL 251.442614 224.64 \nL 221.00625 224.64 \nz\n\" style=\"fill:#1f77b4;\"/>\n   </g>\n   <g id=\"patch_9\">\n    <path clip-path=\"url(#p2ee8ee4225)\" d=\"M 251.442614 224.64 \nL 281.878977 224.64 \nL 281.878977 224.64 \nL 251.442614 224.64 \nz\n\" style=\"fill:#1f77b4;\"/>\n   </g>\n   <g id=\"patch_10\">\n    <path clip-path=\"url(#p2ee8ee4225)\" d=\"M 281.878977 224.64 \nL 312.315341 224.64 \nL 312.315341 224.64 \nL 281.878977 224.64 \nz\n\" style=\"fill:#1f77b4;\"/>\n   </g>\n   <g id=\"patch_11\">\n    <path clip-path=\"url(#p2ee8ee4225)\" d=\"M 312.315341 224.64 \nL 342.751705 224.64 \nL 342.751705 224.64 \nL 312.315341 224.64 \nz\n\" style=\"fill:#1f77b4;\"/>\n   </g>\n   <g id=\"patch_12\">\n    <path clip-path=\"url(#p2ee8ee4225)\" d=\"M 342.751705 224.64 \nL 373.188068 224.64 \nL 373.188068 224.453436 \nL 342.751705 224.453436 \nz\n\" style=\"fill:#1f77b4;\"/>\n   </g>\n   <g id=\"matplotlib.axis_1\">\n    <g id=\"xtick_1\">\n     <g id=\"line2d_1\">\n      <defs>\n       <path d=\"M 0 0 \nL 0 3.5 \n\" id=\"mf824d29296\" style=\"stroke:#000000;stroke-width:0.8;\"/>\n      </defs>\n      <g>\n       <use style=\"stroke:#000000;stroke-width:0.8;\" x=\"68.823899\" xlink:href=\"#mf824d29296\" y=\"224.64\"/>\n      </g>\n     </g>\n     <g id=\"text_1\">\n      <!-- 0 -->\n      <g transform=\"translate(65.642649 239.238438)scale(0.1 -0.1)\">\n       <defs>\n        <path d=\"M 31.78125 66.40625 \nQ 24.171875 66.40625 20.328125 58.90625 \nQ 16.5 51.421875 16.5 36.375 \nQ 16.5 21.390625 20.328125 13.890625 \nQ 24.171875 6.390625 31.78125 6.390625 \nQ 39.453125 6.390625 43.28125 13.890625 \nQ 47.125 21.390625 47.125 36.375 \nQ 47.125 51.421875 43.28125 58.90625 \nQ 39.453125 66.40625 31.78125 66.40625 \nz\nM 31.78125 74.21875 \nQ 44.046875 74.21875 50.515625 64.515625 \nQ 56.984375 54.828125 56.984375 36.375 \nQ 56.984375 17.96875 50.515625 8.265625 \nQ 44.046875 -1.421875 31.78125 -1.421875 \nQ 19.53125 -1.421875 13.0625 8.265625 \nQ 6.59375 17.96875 6.59375 36.375 \nQ 6.59375 54.828125 13.0625 64.515625 \nQ 19.53125 74.21875 31.78125 74.21875 \nz\n\" id=\"DejaVuSans-48\"/>\n       </defs>\n       <use xlink:href=\"#DejaVuSans-48\"/>\n      </g>\n     </g>\n    </g>\n    <g id=\"xtick_2\">\n     <g id=\"line2d_2\">\n      <g>\n       <use style=\"stroke:#000000;stroke-width:0.8;\" x=\"122.144508\" xlink:href=\"#mf824d29296\" y=\"224.64\"/>\n      </g>\n     </g>\n     <g id=\"text_2\">\n      <!-- 100000 -->\n      <g transform=\"translate(103.057008 239.238438)scale(0.1 -0.1)\">\n       <defs>\n        <path d=\"M 12.40625 8.296875 \nL 28.515625 8.296875 \nL 28.515625 63.921875 \nL 10.984375 60.40625 \nL 10.984375 69.390625 \nL 28.421875 72.90625 \nL 38.28125 72.90625 \nL 38.28125 8.296875 \nL 54.390625 8.296875 \nL 54.390625 0 \nL 12.40625 0 \nz\n\" id=\"DejaVuSans-49\"/>\n       </defs>\n       <use xlink:href=\"#DejaVuSans-49\"/>\n       <use x=\"63.623047\" xlink:href=\"#DejaVuSans-48\"/>\n       <use x=\"127.246094\" xlink:href=\"#DejaVuSans-48\"/>\n       <use x=\"190.869141\" xlink:href=\"#DejaVuSans-48\"/>\n       <use x=\"254.492188\" xlink:href=\"#DejaVuSans-48\"/>\n       <use x=\"318.115234\" xlink:href=\"#DejaVuSans-48\"/>\n      </g>\n     </g>\n    </g>\n    <g id=\"xtick_3\">\n     <g id=\"line2d_3\">\n      <g>\n       <use style=\"stroke:#000000;stroke-width:0.8;\" x=\"175.465117\" xlink:href=\"#mf824d29296\" y=\"224.64\"/>\n      </g>\n     </g>\n     <g id=\"text_3\">\n      <!-- 200000 -->\n      <g transform=\"translate(156.377617 239.238438)scale(0.1 -0.1)\">\n       <defs>\n        <path d=\"M 19.1875 8.296875 \nL 53.609375 8.296875 \nL 53.609375 0 \nL 7.328125 0 \nL 7.328125 8.296875 \nQ 12.9375 14.109375 22.625 23.890625 \nQ 32.328125 33.6875 34.8125 36.53125 \nQ 39.546875 41.84375 41.421875 45.53125 \nQ 43.3125 49.21875 43.3125 52.78125 \nQ 43.3125 58.59375 39.234375 62.25 \nQ 35.15625 65.921875 28.609375 65.921875 \nQ 23.96875 65.921875 18.8125 64.3125 \nQ 13.671875 62.703125 7.8125 59.421875 \nL 7.8125 69.390625 \nQ 13.765625 71.78125 18.9375 73 \nQ 24.125 74.21875 28.421875 74.21875 \nQ 39.75 74.21875 46.484375 68.546875 \nQ 53.21875 62.890625 53.21875 53.421875 \nQ 53.21875 48.921875 51.53125 44.890625 \nQ 49.859375 40.875 45.40625 35.40625 \nQ 44.1875 33.984375 37.640625 27.21875 \nQ 31.109375 20.453125 19.1875 8.296875 \nz\n\" id=\"DejaVuSans-50\"/>\n       </defs>\n       <use xlink:href=\"#DejaVuSans-50\"/>\n       <use x=\"63.623047\" xlink:href=\"#DejaVuSans-48\"/>\n       <use x=\"127.246094\" xlink:href=\"#DejaVuSans-48\"/>\n       <use x=\"190.869141\" xlink:href=\"#DejaVuSans-48\"/>\n       <use x=\"254.492188\" xlink:href=\"#DejaVuSans-48\"/>\n       <use x=\"318.115234\" xlink:href=\"#DejaVuSans-48\"/>\n      </g>\n     </g>\n    </g>\n    <g id=\"xtick_4\">\n     <g id=\"line2d_4\">\n      <g>\n       <use style=\"stroke:#000000;stroke-width:0.8;\" x=\"228.785727\" xlink:href=\"#mf824d29296\" y=\"224.64\"/>\n      </g>\n     </g>\n     <g id=\"text_4\">\n      <!-- 300000 -->\n      <g transform=\"translate(209.698227 239.238438)scale(0.1 -0.1)\">\n       <defs>\n        <path d=\"M 40.578125 39.3125 \nQ 47.65625 37.796875 51.625 33 \nQ 55.609375 28.21875 55.609375 21.1875 \nQ 55.609375 10.40625 48.1875 4.484375 \nQ 40.765625 -1.421875 27.09375 -1.421875 \nQ 22.515625 -1.421875 17.65625 -0.515625 \nQ 12.796875 0.390625 7.625 2.203125 \nL 7.625 11.71875 \nQ 11.71875 9.328125 16.59375 8.109375 \nQ 21.484375 6.890625 26.8125 6.890625 \nQ 36.078125 6.890625 40.9375 10.546875 \nQ 45.796875 14.203125 45.796875 21.1875 \nQ 45.796875 27.640625 41.28125 31.265625 \nQ 36.765625 34.90625 28.71875 34.90625 \nL 20.21875 34.90625 \nL 20.21875 43.015625 \nL 29.109375 43.015625 \nQ 36.375 43.015625 40.234375 45.921875 \nQ 44.09375 48.828125 44.09375 54.296875 \nQ 44.09375 59.90625 40.109375 62.90625 \nQ 36.140625 65.921875 28.71875 65.921875 \nQ 24.65625 65.921875 20.015625 65.03125 \nQ 15.375 64.15625 9.8125 62.3125 \nL 9.8125 71.09375 \nQ 15.4375 72.65625 20.34375 73.4375 \nQ 25.25 74.21875 29.59375 74.21875 \nQ 40.828125 74.21875 47.359375 69.109375 \nQ 53.90625 64.015625 53.90625 55.328125 \nQ 53.90625 49.265625 50.4375 45.09375 \nQ 46.96875 40.921875 40.578125 39.3125 \nz\n\" id=\"DejaVuSans-51\"/>\n       </defs>\n       <use xlink:href=\"#DejaVuSans-51\"/>\n       <use x=\"63.623047\" xlink:href=\"#DejaVuSans-48\"/>\n       <use x=\"127.246094\" xlink:href=\"#DejaVuSans-48\"/>\n       <use x=\"190.869141\" xlink:href=\"#DejaVuSans-48\"/>\n       <use x=\"254.492188\" xlink:href=\"#DejaVuSans-48\"/>\n       <use x=\"318.115234\" xlink:href=\"#DejaVuSans-48\"/>\n      </g>\n     </g>\n    </g>\n    <g id=\"xtick_5\">\n     <g id=\"line2d_5\">\n      <g>\n       <use style=\"stroke:#000000;stroke-width:0.8;\" x=\"282.106336\" xlink:href=\"#mf824d29296\" y=\"224.64\"/>\n      </g>\n     </g>\n     <g id=\"text_5\">\n      <!-- 400000 -->\n      <g transform=\"translate(263.018836 239.238438)scale(0.1 -0.1)\">\n       <defs>\n        <path d=\"M 37.796875 64.3125 \nL 12.890625 25.390625 \nL 37.796875 25.390625 \nz\nM 35.203125 72.90625 \nL 47.609375 72.90625 \nL 47.609375 25.390625 \nL 58.015625 25.390625 \nL 58.015625 17.1875 \nL 47.609375 17.1875 \nL 47.609375 0 \nL 37.796875 0 \nL 37.796875 17.1875 \nL 4.890625 17.1875 \nL 4.890625 26.703125 \nz\n\" id=\"DejaVuSans-52\"/>\n       </defs>\n       <use xlink:href=\"#DejaVuSans-52\"/>\n       <use x=\"63.623047\" xlink:href=\"#DejaVuSans-48\"/>\n       <use x=\"127.246094\" xlink:href=\"#DejaVuSans-48\"/>\n       <use x=\"190.869141\" xlink:href=\"#DejaVuSans-48\"/>\n       <use x=\"254.492188\" xlink:href=\"#DejaVuSans-48\"/>\n       <use x=\"318.115234\" xlink:href=\"#DejaVuSans-48\"/>\n      </g>\n     </g>\n    </g>\n    <g id=\"xtick_6\">\n     <g id=\"line2d_6\">\n      <g>\n       <use style=\"stroke:#000000;stroke-width:0.8;\" x=\"335.426946\" xlink:href=\"#mf824d29296\" y=\"224.64\"/>\n      </g>\n     </g>\n     <g id=\"text_6\">\n      <!-- 500000 -->\n      <g transform=\"translate(316.339446 239.238438)scale(0.1 -0.1)\">\n       <defs>\n        <path d=\"M 10.796875 72.90625 \nL 49.515625 72.90625 \nL 49.515625 64.59375 \nL 19.828125 64.59375 \nL 19.828125 46.734375 \nQ 21.96875 47.46875 24.109375 47.828125 \nQ 26.265625 48.1875 28.421875 48.1875 \nQ 40.625 48.1875 47.75 41.5 \nQ 54.890625 34.8125 54.890625 23.390625 \nQ 54.890625 11.625 47.5625 5.09375 \nQ 40.234375 -1.421875 26.90625 -1.421875 \nQ 22.3125 -1.421875 17.546875 -0.640625 \nQ 12.796875 0.140625 7.71875 1.703125 \nL 7.71875 11.625 \nQ 12.109375 9.234375 16.796875 8.0625 \nQ 21.484375 6.890625 26.703125 6.890625 \nQ 35.15625 6.890625 40.078125 11.328125 \nQ 45.015625 15.765625 45.015625 23.390625 \nQ 45.015625 31 40.078125 35.4375 \nQ 35.15625 39.890625 26.703125 39.890625 \nQ 22.75 39.890625 18.8125 39.015625 \nQ 14.890625 38.140625 10.796875 36.28125 \nz\n\" id=\"DejaVuSans-53\"/>\n       </defs>\n       <use xlink:href=\"#DejaVuSans-53\"/>\n       <use x=\"63.623047\" xlink:href=\"#DejaVuSans-48\"/>\n       <use x=\"127.246094\" xlink:href=\"#DejaVuSans-48\"/>\n       <use x=\"190.869141\" xlink:href=\"#DejaVuSans-48\"/>\n       <use x=\"254.492188\" xlink:href=\"#DejaVuSans-48\"/>\n       <use x=\"318.115234\" xlink:href=\"#DejaVuSans-48\"/>\n      </g>\n     </g>\n    </g>\n    <g id=\"text_7\">\n     <!-- Item_Add_date -->\n     <g transform=\"translate(183.667969 252.916562)scale(0.1 -0.1)\">\n      <defs>\n       <path d=\"M 9.8125 72.90625 \nL 19.671875 72.90625 \nL 19.671875 0 \nL 9.8125 0 \nz\n\" id=\"DejaVuSans-73\"/>\n       <path d=\"M 18.3125 70.21875 \nL 18.3125 54.6875 \nL 36.8125 54.6875 \nL 36.8125 47.703125 \nL 18.3125 47.703125 \nL 18.3125 18.015625 \nQ 18.3125 11.328125 20.140625 9.421875 \nQ 21.96875 7.515625 27.59375 7.515625 \nL 36.8125 7.515625 \nL 36.8125 0 \nL 27.59375 0 \nQ 17.1875 0 13.234375 3.875 \nQ 9.28125 7.765625 9.28125 18.015625 \nL 9.28125 47.703125 \nL 2.6875 47.703125 \nL 2.6875 54.6875 \nL 9.28125 54.6875 \nL 9.28125 70.21875 \nz\n\" id=\"DejaVuSans-116\"/>\n       <path d=\"M 56.203125 29.59375 \nL 56.203125 25.203125 \nL 14.890625 25.203125 \nQ 15.484375 15.921875 20.484375 11.0625 \nQ 25.484375 6.203125 34.421875 6.203125 \nQ 39.59375 6.203125 44.453125 7.46875 \nQ 49.3125 8.734375 54.109375 11.28125 \nL 54.109375 2.78125 \nQ 49.265625 0.734375 44.1875 -0.34375 \nQ 39.109375 -1.421875 33.890625 -1.421875 \nQ 20.796875 -1.421875 13.15625 6.1875 \nQ 5.515625 13.8125 5.515625 26.8125 \nQ 5.515625 40.234375 12.765625 48.109375 \nQ 20.015625 56 32.328125 56 \nQ 43.359375 56 49.78125 48.890625 \nQ 56.203125 41.796875 56.203125 29.59375 \nz\nM 47.21875 32.234375 \nQ 47.125 39.59375 43.09375 43.984375 \nQ 39.0625 48.390625 32.421875 48.390625 \nQ 24.90625 48.390625 20.390625 44.140625 \nQ 15.875 39.890625 15.1875 32.171875 \nz\n\" id=\"DejaVuSans-101\"/>\n       <path d=\"M 52 44.1875 \nQ 55.375 50.25 60.0625 53.125 \nQ 64.75 56 71.09375 56 \nQ 79.640625 56 84.28125 50.015625 \nQ 88.921875 44.046875 88.921875 33.015625 \nL 88.921875 0 \nL 79.890625 0 \nL 79.890625 32.71875 \nQ 79.890625 40.578125 77.09375 44.375 \nQ 74.3125 48.1875 68.609375 48.1875 \nQ 61.625 48.1875 57.5625 43.546875 \nQ 53.515625 38.921875 53.515625 30.90625 \nL 53.515625 0 \nL 44.484375 0 \nL 44.484375 32.71875 \nQ 44.484375 40.625 41.703125 44.40625 \nQ 38.921875 48.1875 33.109375 48.1875 \nQ 26.21875 48.1875 22.15625 43.53125 \nQ 18.109375 38.875 18.109375 30.90625 \nL 18.109375 0 \nL 9.078125 0 \nL 9.078125 54.6875 \nL 18.109375 54.6875 \nL 18.109375 46.1875 \nQ 21.1875 51.21875 25.484375 53.609375 \nQ 29.78125 56 35.6875 56 \nQ 41.65625 56 45.828125 52.96875 \nQ 50 49.953125 52 44.1875 \nz\n\" id=\"DejaVuSans-109\"/>\n       <path d=\"M 50.984375 -16.609375 \nL 50.984375 -23.578125 \nL -0.984375 -23.578125 \nL -0.984375 -16.609375 \nz\n\" id=\"DejaVuSans-95\"/>\n       <path d=\"M 34.1875 63.1875 \nL 20.796875 26.90625 \nL 47.609375 26.90625 \nz\nM 28.609375 72.90625 \nL 39.796875 72.90625 \nL 67.578125 0 \nL 57.328125 0 \nL 50.6875 18.703125 \nL 17.828125 18.703125 \nL 11.1875 0 \nL 0.78125 0 \nz\n\" id=\"DejaVuSans-65\"/>\n       <path d=\"M 45.40625 46.390625 \nL 45.40625 75.984375 \nL 54.390625 75.984375 \nL 54.390625 0 \nL 45.40625 0 \nL 45.40625 8.203125 \nQ 42.578125 3.328125 38.25 0.953125 \nQ 33.9375 -1.421875 27.875 -1.421875 \nQ 17.96875 -1.421875 11.734375 6.484375 \nQ 5.515625 14.40625 5.515625 27.296875 \nQ 5.515625 40.1875 11.734375 48.09375 \nQ 17.96875 56 27.875 56 \nQ 33.9375 56 38.25 53.625 \nQ 42.578125 51.265625 45.40625 46.390625 \nz\nM 14.796875 27.296875 \nQ 14.796875 17.390625 18.875 11.75 \nQ 22.953125 6.109375 30.078125 6.109375 \nQ 37.203125 6.109375 41.296875 11.75 \nQ 45.40625 17.390625 45.40625 27.296875 \nQ 45.40625 37.203125 41.296875 42.84375 \nQ 37.203125 48.484375 30.078125 48.484375 \nQ 22.953125 48.484375 18.875 42.84375 \nQ 14.796875 37.203125 14.796875 27.296875 \nz\n\" id=\"DejaVuSans-100\"/>\n       <path d=\"M 34.28125 27.484375 \nQ 23.390625 27.484375 19.1875 25 \nQ 14.984375 22.515625 14.984375 16.5 \nQ 14.984375 11.71875 18.140625 8.90625 \nQ 21.296875 6.109375 26.703125 6.109375 \nQ 34.1875 6.109375 38.703125 11.40625 \nQ 43.21875 16.703125 43.21875 25.484375 \nL 43.21875 27.484375 \nz\nM 52.203125 31.203125 \nL 52.203125 0 \nL 43.21875 0 \nL 43.21875 8.296875 \nQ 40.140625 3.328125 35.546875 0.953125 \nQ 30.953125 -1.421875 24.3125 -1.421875 \nQ 15.921875 -1.421875 10.953125 3.296875 \nQ 6 8.015625 6 15.921875 \nQ 6 25.140625 12.171875 29.828125 \nQ 18.359375 34.515625 30.609375 34.515625 \nL 43.21875 34.515625 \nL 43.21875 35.40625 \nQ 43.21875 41.609375 39.140625 45 \nQ 35.0625 48.390625 27.6875 48.390625 \nQ 23 48.390625 18.546875 47.265625 \nQ 14.109375 46.140625 10.015625 43.890625 \nL 10.015625 52.203125 \nQ 14.9375 54.109375 19.578125 55.046875 \nQ 24.21875 56 28.609375 56 \nQ 40.484375 56 46.34375 49.84375 \nQ 52.203125 43.703125 52.203125 31.203125 \nz\n\" id=\"DejaVuSans-97\"/>\n      </defs>\n      <use xlink:href=\"#DejaVuSans-73\"/>\n      <use x=\"29.492188\" xlink:href=\"#DejaVuSans-116\"/>\n      <use x=\"68.701172\" xlink:href=\"#DejaVuSans-101\"/>\n      <use x=\"130.224609\" xlink:href=\"#DejaVuSans-109\"/>\n      <use x=\"227.636719\" xlink:href=\"#DejaVuSans-95\"/>\n      <use x=\"277.636719\" xlink:href=\"#DejaVuSans-65\"/>\n      <use x=\"344.294922\" xlink:href=\"#DejaVuSans-100\"/>\n      <use x=\"407.771484\" xlink:href=\"#DejaVuSans-100\"/>\n      <use x=\"471.248047\" xlink:href=\"#DejaVuSans-95\"/>\n      <use x=\"521.248047\" xlink:href=\"#DejaVuSans-100\"/>\n      <use x=\"584.724609\" xlink:href=\"#DejaVuSans-97\"/>\n      <use x=\"646.003906\" xlink:href=\"#DejaVuSans-116\"/>\n      <use x=\"685.212891\" xlink:href=\"#DejaVuSans-101\"/>\n     </g>\n    </g>\n   </g>\n   <g id=\"matplotlib.axis_2\">\n    <g id=\"ytick_1\">\n     <g id=\"line2d_7\">\n      <defs>\n       <path d=\"M 0 0 \nL -3.5 0 \n\" id=\"mbde1f51ae1\" style=\"stroke:#000000;stroke-width:0.8;\"/>\n      </defs>\n      <g>\n       <use style=\"stroke:#000000;stroke-width:0.8;\" x=\"53.60625\" xlink:href=\"#mbde1f51ae1\" y=\"224.64\"/>\n      </g>\n     </g>\n     <g id=\"text_8\">\n      <!-- 0 -->\n      <g transform=\"translate(40.24375 228.439219)scale(0.1 -0.1)\">\n       <use xlink:href=\"#DejaVuSans-48\"/>\n      </g>\n     </g>\n    </g>\n    <g id=\"ytick_2\">\n     <g id=\"line2d_8\">\n      <g>\n       <use style=\"stroke:#000000;stroke-width:0.8;\" x=\"53.60625\" xlink:href=\"#mbde1f51ae1\" y=\"187.327259\"/>\n      </g>\n     </g>\n     <g id=\"text_9\">\n      <!-- 200 -->\n      <g transform=\"translate(27.51875 191.126477)scale(0.1 -0.1)\">\n       <use xlink:href=\"#DejaVuSans-50\"/>\n       <use x=\"63.623047\" xlink:href=\"#DejaVuSans-48\"/>\n       <use x=\"127.246094\" xlink:href=\"#DejaVuSans-48\"/>\n      </g>\n     </g>\n    </g>\n    <g id=\"ytick_3\">\n     <g id=\"line2d_9\">\n      <g>\n       <use style=\"stroke:#000000;stroke-width:0.8;\" x=\"53.60625\" xlink:href=\"#mbde1f51ae1\" y=\"150.014517\"/>\n      </g>\n     </g>\n     <g id=\"text_10\">\n      <!-- 400 -->\n      <g transform=\"translate(27.51875 153.813736)scale(0.1 -0.1)\">\n       <use xlink:href=\"#DejaVuSans-52\"/>\n       <use x=\"63.623047\" xlink:href=\"#DejaVuSans-48\"/>\n       <use x=\"127.246094\" xlink:href=\"#DejaVuSans-48\"/>\n      </g>\n     </g>\n    </g>\n    <g id=\"ytick_4\">\n     <g id=\"line2d_10\">\n      <g>\n       <use style=\"stroke:#000000;stroke-width:0.8;\" x=\"53.60625\" xlink:href=\"#mbde1f51ae1\" y=\"112.701776\"/>\n      </g>\n     </g>\n     <g id=\"text_11\">\n      <!-- 600 -->\n      <g transform=\"translate(27.51875 116.500995)scale(0.1 -0.1)\">\n       <defs>\n        <path d=\"M 33.015625 40.375 \nQ 26.375 40.375 22.484375 35.828125 \nQ 18.609375 31.296875 18.609375 23.390625 \nQ 18.609375 15.53125 22.484375 10.953125 \nQ 26.375 6.390625 33.015625 6.390625 \nQ 39.65625 6.390625 43.53125 10.953125 \nQ 47.40625 15.53125 47.40625 23.390625 \nQ 47.40625 31.296875 43.53125 35.828125 \nQ 39.65625 40.375 33.015625 40.375 \nz\nM 52.59375 71.296875 \nL 52.59375 62.3125 \nQ 48.875 64.0625 45.09375 64.984375 \nQ 41.3125 65.921875 37.59375 65.921875 \nQ 27.828125 65.921875 22.671875 59.328125 \nQ 17.53125 52.734375 16.796875 39.40625 \nQ 19.671875 43.65625 24.015625 45.921875 \nQ 28.375 48.1875 33.59375 48.1875 \nQ 44.578125 48.1875 50.953125 41.515625 \nQ 57.328125 34.859375 57.328125 23.390625 \nQ 57.328125 12.15625 50.6875 5.359375 \nQ 44.046875 -1.421875 33.015625 -1.421875 \nQ 20.359375 -1.421875 13.671875 8.265625 \nQ 6.984375 17.96875 6.984375 36.375 \nQ 6.984375 53.65625 15.1875 63.9375 \nQ 23.390625 74.21875 37.203125 74.21875 \nQ 40.921875 74.21875 44.703125 73.484375 \nQ 48.484375 72.75 52.59375 71.296875 \nz\n\" id=\"DejaVuSans-54\"/>\n       </defs>\n       <use xlink:href=\"#DejaVuSans-54\"/>\n       <use x=\"63.623047\" xlink:href=\"#DejaVuSans-48\"/>\n       <use x=\"127.246094\" xlink:href=\"#DejaVuSans-48\"/>\n      </g>\n     </g>\n    </g>\n    <g id=\"ytick_5\">\n     <g id=\"line2d_11\">\n      <g>\n       <use style=\"stroke:#000000;stroke-width:0.8;\" x=\"53.60625\" xlink:href=\"#mbde1f51ae1\" y=\"75.389035\"/>\n      </g>\n     </g>\n     <g id=\"text_12\">\n      <!-- 800 -->\n      <g transform=\"translate(27.51875 79.188253)scale(0.1 -0.1)\">\n       <defs>\n        <path d=\"M 31.78125 34.625 \nQ 24.75 34.625 20.71875 30.859375 \nQ 16.703125 27.09375 16.703125 20.515625 \nQ 16.703125 13.921875 20.71875 10.15625 \nQ 24.75 6.390625 31.78125 6.390625 \nQ 38.8125 6.390625 42.859375 10.171875 \nQ 46.921875 13.96875 46.921875 20.515625 \nQ 46.921875 27.09375 42.890625 30.859375 \nQ 38.875 34.625 31.78125 34.625 \nz\nM 21.921875 38.8125 \nQ 15.578125 40.375 12.03125 44.71875 \nQ 8.5 49.078125 8.5 55.328125 \nQ 8.5 64.0625 14.71875 69.140625 \nQ 20.953125 74.21875 31.78125 74.21875 \nQ 42.671875 74.21875 48.875 69.140625 \nQ 55.078125 64.0625 55.078125 55.328125 \nQ 55.078125 49.078125 51.53125 44.71875 \nQ 48 40.375 41.703125 38.8125 \nQ 48.828125 37.15625 52.796875 32.3125 \nQ 56.78125 27.484375 56.78125 20.515625 \nQ 56.78125 9.90625 50.3125 4.234375 \nQ 43.84375 -1.421875 31.78125 -1.421875 \nQ 19.734375 -1.421875 13.25 4.234375 \nQ 6.78125 9.90625 6.78125 20.515625 \nQ 6.78125 27.484375 10.78125 32.3125 \nQ 14.796875 37.15625 21.921875 38.8125 \nz\nM 18.3125 54.390625 \nQ 18.3125 48.734375 21.84375 45.5625 \nQ 25.390625 42.390625 31.78125 42.390625 \nQ 38.140625 42.390625 41.71875 45.5625 \nQ 45.3125 48.734375 45.3125 54.390625 \nQ 45.3125 60.0625 41.71875 63.234375 \nQ 38.140625 66.40625 31.78125 66.40625 \nQ 25.390625 66.40625 21.84375 63.234375 \nQ 18.3125 60.0625 18.3125 54.390625 \nz\n\" id=\"DejaVuSans-56\"/>\n       </defs>\n       <use xlink:href=\"#DejaVuSans-56\"/>\n       <use x=\"63.623047\" xlink:href=\"#DejaVuSans-48\"/>\n       <use x=\"127.246094\" xlink:href=\"#DejaVuSans-48\"/>\n      </g>\n     </g>\n    </g>\n    <g id=\"ytick_6\">\n     <g id=\"line2d_12\">\n      <g>\n       <use style=\"stroke:#000000;stroke-width:0.8;\" x=\"53.60625\" xlink:href=\"#mbde1f51ae1\" y=\"38.076293\"/>\n      </g>\n     </g>\n     <g id=\"text_13\">\n      <!-- 1000 -->\n      <g transform=\"translate(21.15625 41.875512)scale(0.1 -0.1)\">\n       <use xlink:href=\"#DejaVuSans-49\"/>\n       <use x=\"63.623047\" xlink:href=\"#DejaVuSans-48\"/>\n       <use x=\"127.246094\" xlink:href=\"#DejaVuSans-48\"/>\n       <use x=\"190.869141\" xlink:href=\"#DejaVuSans-48\"/>\n      </g>\n     </g>\n    </g>\n    <g id=\"text_14\">\n     <!-- qty_shiped -->\n     <g transform=\"translate(14.798437 143.10125)rotate(-90)scale(0.1 -0.1)\">\n      <defs>\n       <path d=\"M 14.796875 27.296875 \nQ 14.796875 17.390625 18.875 11.75 \nQ 22.953125 6.109375 30.078125 6.109375 \nQ 37.203125 6.109375 41.296875 11.75 \nQ 45.40625 17.390625 45.40625 27.296875 \nQ 45.40625 37.203125 41.296875 42.84375 \nQ 37.203125 48.484375 30.078125 48.484375 \nQ 22.953125 48.484375 18.875 42.84375 \nQ 14.796875 37.203125 14.796875 27.296875 \nz\nM 45.40625 8.203125 \nQ 42.578125 3.328125 38.25 0.953125 \nQ 33.9375 -1.421875 27.875 -1.421875 \nQ 17.96875 -1.421875 11.734375 6.484375 \nQ 5.515625 14.40625 5.515625 27.296875 \nQ 5.515625 40.1875 11.734375 48.09375 \nQ 17.96875 56 27.875 56 \nQ 33.9375 56 38.25 53.625 \nQ 42.578125 51.265625 45.40625 46.390625 \nL 45.40625 54.6875 \nL 54.390625 54.6875 \nL 54.390625 -20.796875 \nL 45.40625 -20.796875 \nz\n\" id=\"DejaVuSans-113\"/>\n       <path d=\"M 32.171875 -5.078125 \nQ 28.375 -14.84375 24.75 -17.8125 \nQ 21.140625 -20.796875 15.09375 -20.796875 \nL 7.90625 -20.796875 \nL 7.90625 -13.28125 \nL 13.1875 -13.28125 \nQ 16.890625 -13.28125 18.9375 -11.515625 \nQ 21 -9.765625 23.484375 -3.21875 \nL 25.09375 0.875 \nL 2.984375 54.6875 \nL 12.5 54.6875 \nL 29.59375 11.921875 \nL 46.6875 54.6875 \nL 56.203125 54.6875 \nz\n\" id=\"DejaVuSans-121\"/>\n       <path d=\"M 44.28125 53.078125 \nL 44.28125 44.578125 \nQ 40.484375 46.53125 36.375 47.5 \nQ 32.28125 48.484375 27.875 48.484375 \nQ 21.1875 48.484375 17.84375 46.4375 \nQ 14.5 44.390625 14.5 40.28125 \nQ 14.5 37.15625 16.890625 35.375 \nQ 19.28125 33.59375 26.515625 31.984375 \nL 29.59375 31.296875 \nQ 39.15625 29.25 43.1875 25.515625 \nQ 47.21875 21.78125 47.21875 15.09375 \nQ 47.21875 7.46875 41.1875 3.015625 \nQ 35.15625 -1.421875 24.609375 -1.421875 \nQ 20.21875 -1.421875 15.453125 -0.5625 \nQ 10.6875 0.296875 5.421875 2 \nL 5.421875 11.28125 \nQ 10.40625 8.6875 15.234375 7.390625 \nQ 20.0625 6.109375 24.8125 6.109375 \nQ 31.15625 6.109375 34.5625 8.28125 \nQ 37.984375 10.453125 37.984375 14.40625 \nQ 37.984375 18.0625 35.515625 20.015625 \nQ 33.0625 21.96875 24.703125 23.78125 \nL 21.578125 24.515625 \nQ 13.234375 26.265625 9.515625 29.90625 \nQ 5.8125 33.546875 5.8125 39.890625 \nQ 5.8125 47.609375 11.28125 51.796875 \nQ 16.75 56 26.8125 56 \nQ 31.78125 56 36.171875 55.265625 \nQ 40.578125 54.546875 44.28125 53.078125 \nz\n\" id=\"DejaVuSans-115\"/>\n       <path d=\"M 54.890625 33.015625 \nL 54.890625 0 \nL 45.90625 0 \nL 45.90625 32.71875 \nQ 45.90625 40.484375 42.875 44.328125 \nQ 39.84375 48.1875 33.796875 48.1875 \nQ 26.515625 48.1875 22.3125 43.546875 \nQ 18.109375 38.921875 18.109375 30.90625 \nL 18.109375 0 \nL 9.078125 0 \nL 9.078125 75.984375 \nL 18.109375 75.984375 \nL 18.109375 46.1875 \nQ 21.34375 51.125 25.703125 53.5625 \nQ 30.078125 56 35.796875 56 \nQ 45.21875 56 50.046875 50.171875 \nQ 54.890625 44.34375 54.890625 33.015625 \nz\n\" id=\"DejaVuSans-104\"/>\n       <path d=\"M 9.421875 54.6875 \nL 18.40625 54.6875 \nL 18.40625 0 \nL 9.421875 0 \nz\nM 9.421875 75.984375 \nL 18.40625 75.984375 \nL 18.40625 64.59375 \nL 9.421875 64.59375 \nz\n\" id=\"DejaVuSans-105\"/>\n       <path d=\"M 18.109375 8.203125 \nL 18.109375 -20.796875 \nL 9.078125 -20.796875 \nL 9.078125 54.6875 \nL 18.109375 54.6875 \nL 18.109375 46.390625 \nQ 20.953125 51.265625 25.265625 53.625 \nQ 29.59375 56 35.59375 56 \nQ 45.5625 56 51.78125 48.09375 \nQ 58.015625 40.1875 58.015625 27.296875 \nQ 58.015625 14.40625 51.78125 6.484375 \nQ 45.5625 -1.421875 35.59375 -1.421875 \nQ 29.59375 -1.421875 25.265625 0.953125 \nQ 20.953125 3.328125 18.109375 8.203125 \nz\nM 48.6875 27.296875 \nQ 48.6875 37.203125 44.609375 42.84375 \nQ 40.53125 48.484375 33.40625 48.484375 \nQ 26.265625 48.484375 22.1875 42.84375 \nQ 18.109375 37.203125 18.109375 27.296875 \nQ 18.109375 17.390625 22.1875 11.75 \nQ 26.265625 6.109375 33.40625 6.109375 \nQ 40.53125 6.109375 44.609375 11.75 \nQ 48.6875 17.390625 48.6875 27.296875 \nz\n\" id=\"DejaVuSans-112\"/>\n      </defs>\n      <use xlink:href=\"#DejaVuSans-113\"/>\n      <use x=\"63.476562\" xlink:href=\"#DejaVuSans-116\"/>\n      <use x=\"102.685547\" xlink:href=\"#DejaVuSans-121\"/>\n      <use x=\"161.865234\" xlink:href=\"#DejaVuSans-95\"/>\n      <use x=\"211.865234\" xlink:href=\"#DejaVuSans-115\"/>\n      <use x=\"263.964844\" xlink:href=\"#DejaVuSans-104\"/>\n      <use x=\"327.34375\" xlink:href=\"#DejaVuSans-105\"/>\n      <use x=\"355.126953\" xlink:href=\"#DejaVuSans-112\"/>\n      <use x=\"418.603516\" xlink:href=\"#DejaVuSans-101\"/>\n      <use x=\"480.126953\" xlink:href=\"#DejaVuSans-100\"/>\n     </g>\n    </g>\n   </g>\n   <g id=\"patch_13\">\n    <path d=\"M 53.60625 224.64 \nL 53.60625 7.2 \n\" style=\"fill:none;stroke:#000000;stroke-linecap:square;stroke-linejoin:miter;stroke-width:0.8;\"/>\n   </g>\n   <g id=\"patch_14\">\n    <path d=\"M 388.40625 224.64 \nL 388.40625 7.2 \n\" style=\"fill:none;stroke:#000000;stroke-linecap:square;stroke-linejoin:miter;stroke-width:0.8;\"/>\n   </g>\n   <g id=\"patch_15\">\n    <path d=\"M 53.60625 224.64 \nL 388.40625 224.64 \n\" style=\"fill:none;stroke:#000000;stroke-linecap:square;stroke-linejoin:miter;stroke-width:0.8;\"/>\n   </g>\n   <g id=\"patch_16\">\n    <path d=\"M 53.60625 7.2 \nL 388.40625 7.2 \n\" style=\"fill:none;stroke:#000000;stroke-linecap:square;stroke-linejoin:miter;stroke-width:0.8;\"/>\n   </g>\n  </g>\n </g>\n <defs>\n  <clipPath id=\"p2ee8ee4225\">\n   <rect height=\"217.44\" width=\"334.8\" x=\"53.60625\" y=\"7.2\"/>\n  </clipPath>\n </defs>\n</svg>\n",
      "image/png": "[encoded data removed]"
     },
     "metadata": {
      "needs_background": "light"
     }
    }
   ],
   "source": [
    "# Calculate the summary statistics and plot the histogram of the entire population data\n",
    "\n",
    "print(f\"The mean 2019_quantity shipped is: {round(id_item_group_2019.qty_ship.mean(),2)}\")\n",
    "print(f\"The standard deviation of 2019_quantity shipped is: {round(id_item_group_2019.qty_ship.std(),2)}\")\n",
    "plt.hist(id_item_group_2019.qty_ship)\n",
    "plt.xlabel(\"Item_Add_date\")\n",
    "plt.ylabel(\"qty_shiped\") \n",
    "plt.show()"
   ]
  },
  {
   "cell_type": "code",
   "execution_count": null,
   "metadata": {},
   "outputs": [],
   "source": []
  },
  {
   "cell_type": "code",
   "execution_count": null,
   "metadata": {},
   "outputs": [],
   "source": []
  },
  {
   "cell_type": "code",
   "execution_count": 355,
   "metadata": {},
   "outputs": [
    {
     "output_type": "execute_result",
     "data": {
      "text/plain": [
       "           Item_Add_date  qty_ship   price_net\n",
       "id_item                                       \n",
       "1805EUP010     1/12/2020     90190  2931175.00\n",
       "1600NUC040    12/30/1994    114768  1825958.88\n",
       "6378SEV034     9/24/2014    148560  1175026.38\n",
       "7073MMM030     7/29/2020    137873  1126422.41\n",
       "1805EUP080     1/12/2020    149567  1112778.82\n",
       "6378SEV037     5/21/2020    121394   965766.16\n",
       "8289PLI600     6/18/2015    519108   633311.76\n",
       "1680NUC030     7/16/2018     14587   494963.58\n",
       "7076CUS031     3/16/2020     14115   491101.27\n",
       "8289PLI612     2/21/2014      1245   454863.75"
      ],
      "text/html": "<div>\n<style scoped>\n    .dataframe tbody tr th:only-of-type {\n        vertical-align: middle;\n    }\n\n    .dataframe tbody tr th {\n        vertical-align: top;\n    }\n\n    .dataframe thead th {\n        text-align: right;\n    }\n</style>\n<table border=\"1\" class=\"dataframe\">\n  <thead>\n    <tr style=\"text-align: right;\">\n      <th></th>\n      <th>Item_Add_date</th>\n      <th>qty_ship</th>\n      <th>price_net</th>\n    </tr>\n    <tr>\n      <th>id_item</th>\n      <th></th>\n      <th></th>\n      <th></th>\n    </tr>\n  </thead>\n  <tbody>\n    <tr>\n      <th>1805EUP010</th>\n      <td>1/12/2020</td>\n      <td>90190</td>\n      <td>2931175.00</td>\n    </tr>\n    <tr>\n      <th>1600NUC040</th>\n      <td>12/30/1994</td>\n      <td>114768</td>\n      <td>1825958.88</td>\n    </tr>\n    <tr>\n      <th>6378SEV034</th>\n      <td>9/24/2014</td>\n      <td>148560</td>\n      <td>1175026.38</td>\n    </tr>\n    <tr>\n      <th>7073MMM030</th>\n      <td>7/29/2020</td>\n      <td>137873</td>\n      <td>1126422.41</td>\n    </tr>\n    <tr>\n      <th>1805EUP080</th>\n      <td>1/12/2020</td>\n      <td>149567</td>\n      <td>1112778.82</td>\n    </tr>\n    <tr>\n      <th>6378SEV037</th>\n      <td>5/21/2020</td>\n      <td>121394</td>\n      <td>965766.16</td>\n    </tr>\n    <tr>\n      <th>8289PLI600</th>\n      <td>6/18/2015</td>\n      <td>519108</td>\n      <td>633311.76</td>\n    </tr>\n    <tr>\n      <th>1680NUC030</th>\n      <td>7/16/2018</td>\n      <td>14587</td>\n      <td>494963.58</td>\n    </tr>\n    <tr>\n      <th>7076CUS031</th>\n      <td>3/16/2020</td>\n      <td>14115</td>\n      <td>491101.27</td>\n    </tr>\n    <tr>\n      <th>8289PLI612</th>\n      <td>2/21/2014</td>\n      <td>1245</td>\n      <td>454863.75</td>\n    </tr>\n  </tbody>\n</table>\n</div>"
     },
     "metadata": {},
     "execution_count": 355
    }
   ],
   "source": [
    "id_item_group_2020 = twenty_20_sales.groupby([\"id_item\", \"Item_Add_date\"]).sum().sort_values(by=\"price_net\",ascending = False)\n",
    "\n",
    "id_item_group_2020=id_item_group_2020.reset_index(level=1, drop=False)\n",
    "id_item_group_2020.head(10)"
   ]
  },
  {
   "cell_type": "code",
   "execution_count": null,
   "metadata": {},
   "outputs": [],
   "source": []
  },
  {
   "cell_type": "code",
   "execution_count": null,
   "metadata": {},
   "outputs": [],
   "source": []
  },
  {
   "cell_type": "code",
   "execution_count": null,
   "metadata": {},
   "outputs": [],
   "source": []
  },
  {
   "cell_type": "code",
   "execution_count": null,
   "metadata": {},
   "outputs": [],
   "source": []
  },
  {
   "cell_type": "code",
   "execution_count": null,
   "metadata": {},
   "outputs": [],
   "source": []
  },
  {
   "cell_type": "code",
   "execution_count": 285,
   "metadata": {},
   "outputs": [],
   "source": [
    "#Item_Add_date_group = Item_Add_date_group.groupby([\"Item_Add_date\"])\n"
   ]
  },
  {
   "cell_type": "code",
   "execution_count": 65,
   "metadata": {},
   "outputs": [],
   "source": [
    "# Sorting Item add date from lowest to highest if no other parameter is passed\n",
    "#Item_Add_date_group=Item_Add_date_group.sort_values(\"Item_Add_date\")\n",
    "#Item_Add_date_group.head()"
   ]
  },
  {
   "cell_type": "code",
   "execution_count": 66,
   "metadata": {},
   "outputs": [],
   "source": [
    "# Sorting Item add date from lowest to highest if no other parameter is passed\n",
    "#Item_Add_date_group=Item_Add_date_group.sort_values(\"Item_Add_date\")\n",
    "#Item_Add_date_group"
   ]
  },
  {
   "cell_type": "code",
   "execution_count": 327,
   "metadata": {},
   "outputs": [],
   "source": [
    "#df.index = pd.to_datetime(df.index)\n",
    "#df_Date = Item_Add_date_group\n",
    "#Item_Add_date = pd.to_datetime('Item_Add_date'.index)\n",
    "#df_Date()"
   ]
  },
  {
   "cell_type": "code",
   "execution_count": 328,
   "metadata": {},
   "outputs": [
    {
     "output_type": "execute_result",
     "data": {
      "text/plain": [
       "    Item_Add_date     qty_ship     price_net\n",
       "0       1/10/1995     6.276596   2243.495319\n",
       "1       1/11/2006    55.250000   2603.750000\n",
       "2       1/11/2012     4.181818   1530.814545\n",
       "3       1/11/2013    38.285714   1099.292857\n",
       "4       1/12/2020  1849.298701  28922.021883\n",
       "..            ...          ...           ...\n",
       "696      9/6/2019     4.500000   3662.750000\n",
       "697      9/7/2017    20.093023    767.162791\n",
       "698      9/8/2020     1.925926    187.368889\n",
       "699      9/9/1999   316.833333   4751.738333\n",
       "700      9/9/2016     1.727273     82.879091\n",
       "\n",
       "[701 rows x 3 columns]"
      ],
      "text/html": "<div>\n<style scoped>\n    .dataframe tbody tr th:only-of-type {\n        vertical-align: middle;\n    }\n\n    .dataframe tbody tr th {\n        vertical-align: top;\n    }\n\n    .dataframe thead th {\n        text-align: right;\n    }\n</style>\n<table border=\"1\" class=\"dataframe\">\n  <thead>\n    <tr style=\"text-align: right;\">\n      <th></th>\n      <th>Item_Add_date</th>\n      <th>qty_ship</th>\n      <th>price_net</th>\n    </tr>\n  </thead>\n  <tbody>\n    <tr>\n      <th>0</th>\n      <td>1/10/1995</td>\n      <td>6.276596</td>\n      <td>2243.495319</td>\n    </tr>\n    <tr>\n      <th>1</th>\n      <td>1/11/2006</td>\n      <td>55.250000</td>\n      <td>2603.750000</td>\n    </tr>\n    <tr>\n      <th>2</th>\n      <td>1/11/2012</td>\n      <td>4.181818</td>\n      <td>1530.814545</td>\n    </tr>\n    <tr>\n      <th>3</th>\n      <td>1/11/2013</td>\n      <td>38.285714</td>\n      <td>1099.292857</td>\n    </tr>\n    <tr>\n      <th>4</th>\n      <td>1/12/2020</td>\n      <td>1849.298701</td>\n      <td>28922.021883</td>\n    </tr>\n    <tr>\n      <th>...</th>\n      <td>...</td>\n      <td>...</td>\n      <td>...</td>\n    </tr>\n    <tr>\n      <th>696</th>\n      <td>9/6/2019</td>\n      <td>4.500000</td>\n      <td>3662.750000</td>\n    </tr>\n    <tr>\n      <th>697</th>\n      <td>9/7/2017</td>\n      <td>20.093023</td>\n      <td>767.162791</td>\n    </tr>\n    <tr>\n      <th>698</th>\n      <td>9/8/2020</td>\n      <td>1.925926</td>\n      <td>187.368889</td>\n    </tr>\n    <tr>\n      <th>699</th>\n      <td>9/9/1999</td>\n      <td>316.833333</td>\n      <td>4751.738333</td>\n    </tr>\n    <tr>\n      <th>700</th>\n      <td>9/9/2016</td>\n      <td>1.727273</td>\n      <td>82.879091</td>\n    </tr>\n  </tbody>\n</table>\n<p>701 rows × 3 columns</p>\n</div>"
     },
     "metadata": {},
     "execution_count": 328
    }
   ],
   "source": [
    "df_index_reset = Item_Add_date_group.reset_index(drop=False)\n",
    "df_index_reset\n"
   ]
  },
  {
   "cell_type": "code",
   "execution_count": 68,
   "metadata": {},
   "outputs": [
    {
     "output_type": "error",
     "ename": "NameError",
     "evalue": "name 'df_index_reset' is not defined",
     "traceback": [
      "\u001b[0;31m---------------------------------------------------------------------------\u001b[0m",
      "\u001b[0;31mNameError\u001b[0m                                 Traceback (most recent call last)",
      "\u001b[0;32m<ipython-input-68-2cab88c9ba87>\u001b[0m in \u001b[0;36m<module>\u001b[0;34m\u001b[0m\n\u001b[0;32m----> 1\u001b[0;31m \u001b[0mdf_index_reset\u001b[0m\u001b[0;34m[\u001b[0m\u001b[0;34m'year'\u001b[0m\u001b[0;34m]\u001b[0m \u001b[0;34m=\u001b[0m \u001b[0mpd\u001b[0m\u001b[0;34m.\u001b[0m\u001b[0mDatetimeIndex\u001b[0m\u001b[0;34m(\u001b[0m\u001b[0mdf_index_reset\u001b[0m\u001b[0;34m[\u001b[0m\u001b[0;34m'Item_Add_date'\u001b[0m\u001b[0;34m]\u001b[0m\u001b[0;34m)\u001b[0m\u001b[0;34m.\u001b[0m\u001b[0myear\u001b[0m\u001b[0;34m.\u001b[0m\u001b[0mastype\u001b[0m\u001b[0;34m(\u001b[0m\u001b[0mobject\u001b[0m\u001b[0;34m)\u001b[0m\u001b[0;34m\u001b[0m\u001b[0;34m\u001b[0m\u001b[0m\n\u001b[0m\u001b[1;32m      2\u001b[0m \u001b[0mdf_index_reset\u001b[0m\u001b[0;34m[\u001b[0m\u001b[0;34m'month'\u001b[0m\u001b[0;34m]\u001b[0m \u001b[0;34m=\u001b[0m \u001b[0mpd\u001b[0m\u001b[0;34m.\u001b[0m\u001b[0mDatetimeIndex\u001b[0m\u001b[0;34m(\u001b[0m\u001b[0mdf_index_reset\u001b[0m\u001b[0;34m[\u001b[0m\u001b[0;34m'Item_Add_date'\u001b[0m\u001b[0;34m]\u001b[0m\u001b[0;34m)\u001b[0m\u001b[0;34m.\u001b[0m\u001b[0mmonth\u001b[0m\u001b[0;34m.\u001b[0m\u001b[0mastype\u001b[0m\u001b[0;34m(\u001b[0m\u001b[0mobject\u001b[0m\u001b[0;34m)\u001b[0m\u001b[0;34m\u001b[0m\u001b[0;34m\u001b[0m\u001b[0m\n",
      "\u001b[0;31mNameError\u001b[0m: name 'df_index_reset' is not defined"
     ]
    }
   ],
   "source": [
    "\n",
    "df_index_reset['year'] = pd.DatetimeIndex(df_index_reset['Item_Add_date']).year.astype(object)\n",
    "df_index_reset['month'] = pd.DatetimeIndex(df_index_reset['Item_Add_date']).month.astype(object)"
   ]
  },
  {
   "cell_type": "code",
   "execution_count": 334,
   "metadata": {},
   "outputs": [],
   "source": [
    "top_ten_2019_qty = category_sales_2019.sort_values(by = 'qty_ship', ascending = False)\n",
    "top_ten_2020_qty = category_sales_2020.sort_values(by = 'qty_ship', ascending = False)\n",
    "twenty19_qty_labels = top_ten_2019_qty.head(10).index\n",
    "twenty20_qty_labels = top_ten_2020_qty.head(10).index"
   ]
  },
  {
   "cell_type": "code",
   "execution_count": null,
   "metadata": {},
   "outputs": [],
   "source": []
  },
  {
   "cell_type": "code",
   "execution_count": 332,
   "metadata": {},
   "outputs": [
    {
     "output_type": "display_data",
     "data": {
      "text/plain": "<Figure size 432x288 with 1 Axes>",
      "image/svg+xml": "<?xml version=\"1.0\" encoding=\"utf-8\" standalone=\"no\"?>\n<!DOCTYPE svg PUBLIC \"-//W3C//DTD SVG 1.1//EN\"\n  \"http://www.w3.org/Graphics/SVG/1.1/DTD/svg11.dtd\">\n<!-- Created with matplotlib (https://matplotlib.org/) -->\n<svg height=\"248.518125pt\" version=\"1.1\" viewBox=\"0 0 394.361779 248.518125\" width=\"394.361779pt\" xmlns=\"http://www.w3.org/2000/svg\" xmlns:xlink=\"http://www.w3.org/1999/xlink\">\n <metadata>\n  <rdf:RDF xmlns:cc=\"http://creativecommons.org/ns#\" xmlns:dc=\"http://purl.org/dc/elements/1.1/\" xmlns:rdf=\"http://www.w3.org/1999/02/22-rdf-syntax-ns#\">\n   <cc:Work>\n    <dc:type rdf:resource=\"http://purl.org/dc/dcmitype/StillImage\"/>\n    <dc:date>2021-02-15T19:57:55.913657</dc:date>\n    <dc:format>image/svg+xml</dc:format>\n    <dc:creator>\n     <cc:Agent>\n      <dc:title>Matplotlib v3.3.2, https://matplotlib.org/</dc:title>\n     </cc:Agent>\n    </dc:creator>\n   </cc:Work>\n  </rdf:RDF>\n </metadata>\n <defs>\n  <style type=\"text/css\">*{stroke-linecap:butt;stroke-linejoin:round;}</style>\n </defs>\n <g id=\"figure_1\">\n  <g id=\"patch_1\">\n   <path d=\"M -0 248.518125 \nL 394.361779 248.518125 \nL 394.361779 0 \nL -0 0 \nz\n\" style=\"fill:none;\"/>\n  </g>\n  <g id=\"axes_1\">\n   <g id=\"patch_2\">\n    <path d=\"M 39.65 224.64 \nL 374.45 224.64 \nL 374.45 7.2 \nL 39.65 7.2 \nz\n\" style=\"fill:#ffffff;\"/>\n   </g>\n   <g id=\"PathCollection_1\">\n    <defs>\n     <path d=\"M 0 3 \nC 0.795609 3 1.55874 2.683901 2.12132 2.12132 \nC 2.683901 1.55874 3 0.795609 3 0 \nC 3 -0.795609 2.683901 -1.55874 2.12132 -2.12132 \nC 1.55874 -2.683901 0.795609 -3 0 -3 \nC -0.795609 -3 -1.55874 -2.683901 -2.12132 -2.12132 \nC -2.683901 -1.55874 -3 -0.795609 -3 0 \nC -3 0.795609 -2.683901 1.55874 -2.12132 2.12132 \nC -1.55874 2.683901 -0.795609 3 0 3 \nz\n\" id=\"ma3f9b2ed28\" style=\"stroke:#1f77b4;\"/>\n    </defs>\n    <g clip-path=\"url(#pc0125a9969)\">\n     <use style=\"fill:#1f77b4;stroke:#1f77b4;\" x=\"66.673279\" xlink:href=\"#ma3f9b2ed28\" y=\"214.581555\"/>\n     <use style=\"fill:#1f77b4;stroke:#1f77b4;\" x=\"68.573103\" xlink:href=\"#ma3f9b2ed28\" y=\"212.959113\"/>\n     <use style=\"fill:#1f77b4;stroke:#1f77b4;\" x=\"62.914916\" xlink:href=\"#ma3f9b2ed28\" y=\"214.650953\"/>\n     <use style=\"fill:#1f77b4;stroke:#1f77b4;\" x=\"60.639262\" xlink:href=\"#ma3f9b2ed28\" y=\"213.521124\"/>\n     <use style=\"fill:#1f77b4;stroke:#1f77b4;\" x=\"207.364024\" xlink:href=\"#ma3f9b2ed28\" y=\"153.523993\"/>\n     <use style=\"fill:#1f77b4;stroke:#1f77b4;\" x=\"93.027433\" xlink:href=\"#ma3f9b2ed28\" y=\"208.561232\"/>\n     <use style=\"fill:#1f77b4;stroke:#1f77b4;\" x=\"55.10246\" xlink:href=\"#ma3f9b2ed28\" y=\"214.607283\"/>\n     <use style=\"fill:#1f77b4;stroke:#1f77b4;\" x=\"73.927063\" xlink:href=\"#ma3f9b2ed28\" y=\"214.696129\"/>\n     <use style=\"fill:#1f77b4;stroke:#1f77b4;\" x=\"68.004596\" xlink:href=\"#ma3f9b2ed28\" y=\"214.679063\"/>\n     <use style=\"fill:#1f77b4;stroke:#1f77b4;\" x=\"56.028595\" xlink:href=\"#ma3f9b2ed28\" y=\"214.74394\"/>\n     <use style=\"fill:#1f77b4;stroke:#1f77b4;\" x=\"69.370236\" xlink:href=\"#ma3f9b2ed28\" y=\"214.480288\"/>\n     <use style=\"fill:#1f77b4;stroke:#1f77b4;\" x=\"63.237634\" xlink:href=\"#ma3f9b2ed28\" y=\"214.684584\"/>\n     <use style=\"fill:#1f77b4;stroke:#1f77b4;\" x=\"60.001736\" xlink:href=\"#ma3f9b2ed28\" y=\"213.037075\"/>\n     <use style=\"fill:#1f77b4;stroke:#1f77b4;\" x=\"254.505716\" xlink:href=\"#ma3f9b2ed28\" y=\"170.794121\"/>\n     <use style=\"fill:#1f77b4;stroke:#1f77b4;\" x=\"70.893325\" xlink:href=\"#ma3f9b2ed28\" y=\"212.799541\"/>\n     <use style=\"fill:#1f77b4;stroke:#1f77b4;\" x=\"60.126182\" xlink:href=\"#ma3f9b2ed28\" y=\"214.656977\"/>\n     <use style=\"fill:#1f77b4;stroke:#1f77b4;\" x=\"73.133623\" xlink:href=\"#ma3f9b2ed28\" y=\"214.041723\"/>\n     <use style=\"fill:#1f77b4;stroke:#1f77b4;\" x=\"62.172982\" xlink:href=\"#ma3f9b2ed28\" y=\"214.739799\"/>\n     <use style=\"fill:#1f77b4;stroke:#1f77b4;\" x=\"57.786041\" xlink:href=\"#ma3f9b2ed28\" y=\"214.756364\"/>\n     <use style=\"fill:#1f77b4;stroke:#1f77b4;\" x=\"60.223119\" xlink:href=\"#ma3f9b2ed28\" y=\"213.135656\"/>\n     <use style=\"fill:#1f77b4;stroke:#1f77b4;\" x=\"61.320786\" xlink:href=\"#ma3f9b2ed28\" y=\"213.708855\"/>\n     <use style=\"fill:#1f77b4;stroke:#1f77b4;\" x=\"62.891619\" xlink:href=\"#ma3f9b2ed28\" y=\"213.063233\"/>\n     <use style=\"fill:#1f77b4;stroke:#1f77b4;\" x=\"61.514153\" xlink:href=\"#ma3f9b2ed28\" y=\"214.22998\"/>\n     <use style=\"fill:#1f77b4;stroke:#1f77b4;\" x=\"224.124289\" xlink:href=\"#ma3f9b2ed28\" y=\"67.29314\"/>\n     <use style=\"fill:#1f77b4;stroke:#1f77b4;\" x=\"239.416591\" xlink:href=\"#ma3f9b2ed28\" y=\"214.126912\"/>\n     <use style=\"fill:#1f77b4;stroke:#1f77b4;\" x=\"55.203316\" xlink:href=\"#ma3f9b2ed28\" y=\"213.629976\"/>\n     <use style=\"fill:#1f77b4;stroke:#1f77b4;\" x=\"83.759256\" xlink:href=\"#ma3f9b2ed28\" y=\"208.145613\"/>\n     <use style=\"fill:#1f77b4;stroke:#1f77b4;\" x=\"63.385241\" xlink:href=\"#ma3f9b2ed28\" y=\"213.596847\"/>\n     <use style=\"fill:#1f77b4;stroke:#1f77b4;\" x=\"55.619927\" xlink:href=\"#ma3f9b2ed28\" y=\"213.13304\"/>\n     <use style=\"fill:#1f77b4;stroke:#1f77b4;\" x=\"61.818994\" xlink:href=\"#ma3f9b2ed28\" y=\"214.656977\"/>\n     <use style=\"fill:#1f77b4;stroke:#1f77b4;\" x=\"66.611076\" xlink:href=\"#ma3f9b2ed28\" y=\"211.940395\"/>\n     <use style=\"fill:#1f77b4;stroke:#1f77b4;\" x=\"56.144726\" xlink:href=\"#ma3f9b2ed28\" y=\"214.690106\"/>\n     <use style=\"fill:#1f77b4;stroke:#1f77b4;\" x=\"61.569597\" xlink:href=\"#ma3f9b2ed28\" y=\"213.066782\"/>\n     <use style=\"fill:#1f77b4;stroke:#1f77b4;\" x=\"85.566539\" xlink:href=\"#ma3f9b2ed28\" y=\"204.090252\"/>\n     <use style=\"fill:#1f77b4;stroke:#1f77b4;\" x=\"58.637879\" xlink:href=\"#ma3f9b2ed28\" y=\"214.182127\"/>\n     <use style=\"fill:#1f77b4;stroke:#1f77b4;\" x=\"56.100632\" xlink:href=\"#ma3f9b2ed28\" y=\"211.072731\"/>\n     <use style=\"fill:#1f77b4;stroke:#1f77b4;\" x=\"56.177936\" xlink:href=\"#ma3f9b2ed28\" y=\"214.746011\"/>\n     <use style=\"fill:#1f77b4;stroke:#1f77b4;\" x=\"60.817862\" xlink:href=\"#ma3f9b2ed28\" y=\"212.90445\"/>\n     <use style=\"fill:#1f77b4;stroke:#1f77b4;\" x=\"57.221694\" xlink:href=\"#ma3f9b2ed28\" y=\"214.695179\"/>\n     <use style=\"fill:#1f77b4;stroke:#1f77b4;\" x=\"72.987176\" xlink:href=\"#ma3f9b2ed28\" y=\"213.378011\"/>\n     <use style=\"fill:#1f77b4;stroke:#1f77b4;\" x=\"66.549375\" xlink:href=\"#ma3f9b2ed28\" y=\"212.80175\"/>\n     <use style=\"fill:#1f77b4;stroke:#1f77b4;\" x=\"59.633105\" xlink:href=\"#ma3f9b2ed28\" y=\"214.673541\"/>\n     <use style=\"fill:#1f77b4;stroke:#1f77b4;\" x=\"55.064132\" xlink:href=\"#ma3f9b2ed28\" y=\"214.103248\"/>\n     <use style=\"fill:#1f77b4;stroke:#1f77b4;\" x=\"93.522273\" xlink:href=\"#ma3f9b2ed28\" y=\"214.622844\"/>\n     <use style=\"fill:#1f77b4;stroke:#1f77b4;\" x=\"71.603092\" xlink:href=\"#ma3f9b2ed28\" y=\"214.665259\"/>\n     <use style=\"fill:#1f77b4;stroke:#1f77b4;\" x=\"60.266591\" xlink:href=\"#ma3f9b2ed28\" y=\"213.041936\"/>\n     <use style=\"fill:#1f77b4;stroke:#1f77b4;\" x=\"70.016318\" xlink:href=\"#ma3f9b2ed28\" y=\"214.723235\"/>\n     <use style=\"fill:#1f77b4;stroke:#1f77b4;\" x=\"61.900866\" xlink:href=\"#ma3f9b2ed28\" y=\"214.640412\"/>\n     <use style=\"fill:#1f77b4;stroke:#1f77b4;\" x=\"58.14539\" xlink:href=\"#ma3f9b2ed28\" y=\"214.688528\"/>\n     <use style=\"fill:#1f77b4;stroke:#1f77b4;\" x=\"260.745205\" xlink:href=\"#ma3f9b2ed28\" y=\"169.419266\"/>\n     <use style=\"fill:#1f77b4;stroke:#1f77b4;\" x=\"61.932119\" xlink:href=\"#ma3f9b2ed28\" y=\"213.937694\"/>\n     <use style=\"fill:#1f77b4;stroke:#1f77b4;\" x=\"79.205913\" xlink:href=\"#ma3f9b2ed28\" y=\"213.574761\"/>\n     <use style=\"fill:#1f77b4;stroke:#1f77b4;\" x=\"56.318315\" xlink:href=\"#ma3f9b2ed28\" y=\"214.506239\"/>\n     <use style=\"fill:#1f77b4;stroke:#1f77b4;\" x=\"70.543766\" xlink:href=\"#ma3f9b2ed28\" y=\"212.343465\"/>\n     <use style=\"fill:#1f77b4;stroke:#1f77b4;\" x=\"96.68334\" xlink:href=\"#ma3f9b2ed28\" y=\"211.905609\"/>\n     <use style=\"fill:#1f77b4;stroke:#1f77b4;\" x=\"65.557514\" xlink:href=\"#ma3f9b2ed28\" y=\"213.529899\"/>\n     <use style=\"fill:#1f77b4;stroke:#1f77b4;\" x=\"72.793007\" xlink:href=\"#ma3f9b2ed28\" y=\"214.71638\"/>\n     <use style=\"fill:#1f77b4;stroke:#1f77b4;\" x=\"72.462352\" xlink:href=\"#ma3f9b2ed28\" y=\"212.304814\"/>\n     <use style=\"fill:#1f77b4;stroke:#1f77b4;\" x=\"73.603708\" xlink:href=\"#ma3f9b2ed28\" y=\"214.52446\"/>\n     <use style=\"fill:#1f77b4;stroke:#1f77b4;\" x=\"66.899408\" xlink:href=\"#ma3f9b2ed28\" y=\"213.282121\"/>\n     <use style=\"fill:#1f77b4;stroke:#1f77b4;\" x=\"163.189381\" xlink:href=\"#ma3f9b2ed28\" y=\"214.273626\"/>\n     <use style=\"fill:#1f77b4;stroke:#1f77b4;\" x=\"156.204522\" xlink:href=\"#ma3f9b2ed28\" y=\"196.910852\"/>\n     <use style=\"fill:#1f77b4;stroke:#1f77b4;\" x=\"66.245072\" xlink:href=\"#ma3f9b2ed28\" y=\"212.33917\"/>\n     <use style=\"fill:#1f77b4;stroke:#1f77b4;\" x=\"57.556641\" xlink:href=\"#ma3f9b2ed28\" y=\"214.739799\"/>\n     <use style=\"fill:#1f77b4;stroke:#1f77b4;\" x=\"56.777341\" xlink:href=\"#ma3f9b2ed28\" y=\"214.739799\"/>\n     <use style=\"fill:#1f77b4;stroke:#1f77b4;\" x=\"127.816683\" xlink:href=\"#ma3f9b2ed28\" y=\"210.582104\"/>\n     <use style=\"fill:#1f77b4;stroke:#1f77b4;\" x=\"143.879505\" xlink:href=\"#ma3f9b2ed28\" y=\"197.578954\"/>\n     <use style=\"fill:#1f77b4;stroke:#1f77b4;\" x=\"72.199053\" xlink:href=\"#ma3f9b2ed28\" y=\"213.436488\"/>\n     <use style=\"fill:#1f77b4;stroke:#1f77b4;\" x=\"139.309904\" xlink:href=\"#ma3f9b2ed28\" y=\"184.776156\"/>\n     <use style=\"fill:#1f77b4;stroke:#1f77b4;\" x=\"71.811573\" xlink:href=\"#ma3f9b2ed28\" y=\"213.294226\"/>\n     <use style=\"fill:#1f77b4;stroke:#1f77b4;\" x=\"60.114581\" xlink:href=\"#ma3f9b2ed28\" y=\"214.70667\"/>\n     <use style=\"fill:#1f77b4;stroke:#1f77b4;\" x=\"55.298806\" xlink:href=\"#ma3f9b2ed28\" y=\"214.720976\"/>\n     <use style=\"fill:#1f77b4;stroke:#1f77b4;\" x=\"60.31081\" xlink:href=\"#ma3f9b2ed28\" y=\"214.26771\"/>\n     <use style=\"fill:#1f77b4;stroke:#1f77b4;\" x=\"61.136807\" xlink:href=\"#ma3f9b2ed28\" y=\"214.093783\"/>\n     <use style=\"fill:#1f77b4;stroke:#1f77b4;\" x=\"58.515638\" xlink:href=\"#ma3f9b2ed28\" y=\"213.895008\"/>\n     <use style=\"fill:#1f77b4;stroke:#1f77b4;\" x=\"67.55557\" xlink:href=\"#ma3f9b2ed28\" y=\"214.723235\"/>\n     <use style=\"fill:#1f77b4;stroke:#1f77b4;\" x=\"65.656907\" xlink:href=\"#ma3f9b2ed28\" y=\"213.410815\"/>\n     <use style=\"fill:#1f77b4;stroke:#1f77b4;\" x=\"60.928351\" xlink:href=\"#ma3f9b2ed28\" y=\"214.131645\"/>\n     <use style=\"fill:#1f77b4;stroke:#1f77b4;\" x=\"55.070599\" xlink:href=\"#ma3f9b2ed28\" y=\"214.215256\"/>\n     <use style=\"fill:#1f77b4;stroke:#1f77b4;\" x=\"71.960196\" xlink:href=\"#ma3f9b2ed28\" y=\"209.391061\"/>\n     <use style=\"fill:#1f77b4;stroke:#1f77b4;\" x=\"63.80477\" xlink:href=\"#ma3f9b2ed28\" y=\"212.702363\"/>\n     <use style=\"fill:#1f77b4;stroke:#1f77b4;\" x=\"58.868966\" xlink:href=\"#ma3f9b2ed28\" y=\"214.41472\"/>\n     <use style=\"fill:#1f77b4;stroke:#1f77b4;\" x=\"62.193839\" xlink:href=\"#ma3f9b2ed28\" y=\"214.547846\"/>\n     <use style=\"fill:#1f77b4;stroke:#1f77b4;\" x=\"55.800052\" xlink:href=\"#ma3f9b2ed28\" y=\"213.776337\"/>\n     <use style=\"fill:#1f77b4;stroke:#1f77b4;\" x=\"62.608638\" xlink:href=\"#ma3f9b2ed28\" y=\"214.275018\"/>\n     <use style=\"fill:#1f77b4;stroke:#1f77b4;\" x=\"62.172323\" xlink:href=\"#ma3f9b2ed28\" y=\"213.13304\"/>\n     <use style=\"fill:#1f77b4;stroke:#1f77b4;\" x=\"55.05302\" xlink:href=\"#ma3f9b2ed28\" y=\"214.458202\"/>\n     <use style=\"fill:#1f77b4;stroke:#1f77b4;\" x=\"62.273166\" xlink:href=\"#ma3f9b2ed28\" y=\"212.197145\"/>\n     <use style=\"fill:#1f77b4;stroke:#1f77b4;\" x=\"54.974971\" xlink:href=\"#ma3f9b2ed28\" y=\"214.590718\"/>\n     <use style=\"fill:#1f77b4;stroke:#1f77b4;\" x=\"61.030413\" xlink:href=\"#ma3f9b2ed28\" y=\"213.820468\"/>\n     <use style=\"fill:#1f77b4;stroke:#1f77b4;\" x=\"68.966774\" xlink:href=\"#ma3f9b2ed28\" y=\"214.756364\"/>\n     <use style=\"fill:#1f77b4;stroke:#1f77b4;\" x=\"55.535109\" xlink:href=\"#ma3f9b2ed28\" y=\"214.753352\"/>\n     <use style=\"fill:#1f77b4;stroke:#1f77b4;\" x=\"58.794293\" xlink:href=\"#ma3f9b2ed28\" y=\"214.52446\"/>\n     <use style=\"fill:#1f77b4;stroke:#1f77b4;\" x=\"55.640457\" xlink:href=\"#ma3f9b2ed28\" y=\"213.592114\"/>\n     <use style=\"fill:#1f77b4;stroke:#1f77b4;\" x=\"64.218463\" xlink:href=\"#ma3f9b2ed28\" y=\"214.723235\"/>\n     <use style=\"fill:#1f77b4;stroke:#1f77b4;\" x=\"62.600799\" xlink:href=\"#ma3f9b2ed28\" y=\"214.756364\"/>\n     <use style=\"fill:#1f77b4;stroke:#1f77b4;\" x=\"56.558621\" xlink:href=\"#ma3f9b2ed28\" y=\"214.613306\"/>\n     <use style=\"fill:#1f77b4;stroke:#1f77b4;\" x=\"60.147804\" xlink:href=\"#ma3f9b2ed28\" y=\"214.63213\"/>\n     <use style=\"fill:#1f77b4;stroke:#1f77b4;\" x=\"125.394905\" xlink:href=\"#ma3f9b2ed28\" y=\"161.607437\"/>\n     <use style=\"fill:#1f77b4;stroke:#1f77b4;\" x=\"55.672136\" xlink:href=\"#ma3f9b2ed28\" y=\"214.756364\"/>\n     <use style=\"fill:#1f77b4;stroke:#1f77b4;\" x=\"61.658151\" xlink:href=\"#ma3f9b2ed28\" y=\"214.756364\"/>\n     <use style=\"fill:#1f77b4;stroke:#1f77b4;\" x=\"169.431575\" xlink:href=\"#ma3f9b2ed28\" y=\"130.19921\"/>\n     <use style=\"fill:#1f77b4;stroke:#1f77b4;\" x=\"61.581579\" xlink:href=\"#ma3f9b2ed28\" y=\"212.863275\"/>\n     <use style=\"fill:#1f77b4;stroke:#1f77b4;\" x=\"64.940149\" xlink:href=\"#ma3f9b2ed28\" y=\"214.686708\"/>\n     <use style=\"fill:#1f77b4;stroke:#1f77b4;\" x=\"61.574512\" xlink:href=\"#ma3f9b2ed28\" y=\"213.480895\"/>\n     <use style=\"fill:#1f77b4;stroke:#1f77b4;\" x=\"62.436001\" xlink:href=\"#ma3f9b2ed28\" y=\"212.80175\"/>\n     <use style=\"fill:#1f77b4;stroke:#1f77b4;\" x=\"63.523619\" xlink:href=\"#ma3f9b2ed28\" y=\"214.568632\"/>\n     <use style=\"fill:#1f77b4;stroke:#1f77b4;\" x=\"60.052774\" xlink:href=\"#ma3f9b2ed28\" y=\"214.749738\"/>\n     <use style=\"fill:#1f77b4;stroke:#1f77b4;\" x=\"55.755765\" xlink:href=\"#ma3f9b2ed28\" y=\"213.871197\"/>\n     <use style=\"fill:#1f77b4;stroke:#1f77b4;\" x=\"70.745798\" xlink:href=\"#ma3f9b2ed28\" y=\"213.895008\"/>\n     <use style=\"fill:#1f77b4;stroke:#1f77b4;\" x=\"57.823009\" xlink:href=\"#ma3f9b2ed28\" y=\"214.739799\"/>\n     <use style=\"fill:#1f77b4;stroke:#1f77b4;\" x=\"101.212469\" xlink:href=\"#ma3f9b2ed28\" y=\"211.211556\"/>\n     <use style=\"fill:#1f77b4;stroke:#1f77b4;\" x=\"57.916535\" xlink:href=\"#ma3f9b2ed28\" y=\"214.734278\"/>\n     <use style=\"fill:#1f77b4;stroke:#1f77b4;\" x=\"67.74911\" xlink:href=\"#ma3f9b2ed28\" y=\"211.841008\"/>\n     <use style=\"fill:#1f77b4;stroke:#1f77b4;\" x=\"90.496638\" xlink:href=\"#ma3f9b2ed28\" y=\"201.048038\"/>\n     <use style=\"fill:#1f77b4;stroke:#1f77b4;\" x=\"69.865631\" xlink:href=\"#ma3f9b2ed28\" y=\"212.082187\"/>\n     <use style=\"fill:#1f77b4;stroke:#1f77b4;\" x=\"62.723563\" xlink:href=\"#ma3f9b2ed28\" y=\"213.604376\"/>\n     <use style=\"fill:#1f77b4;stroke:#1f77b4;\" x=\"56.45315\" xlink:href=\"#ma3f9b2ed28\" y=\"214.696731\"/>\n     <use style=\"fill:#1f77b4;stroke:#1f77b4;\" x=\"58.402243\" xlink:href=\"#ma3f9b2ed28\" y=\"214.756364\"/>\n     <use style=\"fill:#1f77b4;stroke:#1f77b4;\" x=\"67.701542\" xlink:href=\"#ma3f9b2ed28\" y=\"212.536718\"/>\n     <use style=\"fill:#1f77b4;stroke:#1f77b4;\" x=\"58.833962\" xlink:href=\"#ma3f9b2ed28\" y=\"214.199016\"/>\n     <use style=\"fill:#1f77b4;stroke:#1f77b4;\" x=\"61.342433\" xlink:href=\"#ma3f9b2ed28\" y=\"213.729363\"/>\n     <use style=\"fill:#1f77b4;stroke:#1f77b4;\" x=\"63.94312\" xlink:href=\"#ma3f9b2ed28\" y=\"214.647819\"/>\n     <use style=\"fill:#1f77b4;stroke:#1f77b4;\" x=\"64.733162\" xlink:href=\"#ma3f9b2ed28\" y=\"214.656977\"/>\n     <use style=\"fill:#1f77b4;stroke:#1f77b4;\" x=\"56.048668\" xlink:href=\"#ma3f9b2ed28\" y=\"214.756364\"/>\n     <use style=\"fill:#1f77b4;stroke:#1f77b4;\" x=\"55.724871\" xlink:href=\"#ma3f9b2ed28\" y=\"214.690106\"/>\n     <use style=\"fill:#1f77b4;stroke:#1f77b4;\" x=\"61.334486\" xlink:href=\"#ma3f9b2ed28\" y=\"214.70667\"/>\n     <use style=\"fill:#1f77b4;stroke:#1f77b4;\" x=\"58.581972\" xlink:href=\"#ma3f9b2ed28\" y=\"214.756364\"/>\n     <use style=\"fill:#1f77b4;stroke:#1f77b4;\" x=\"55.185386\" xlink:href=\"#ma3f9b2ed28\" y=\"213.557092\"/>\n     <use style=\"fill:#1f77b4;stroke:#1f77b4;\" x=\"61.160222\" xlink:href=\"#ma3f9b2ed28\" y=\"213.994396\"/>\n     <use style=\"fill:#1f77b4;stroke:#1f77b4;\" x=\"58.718828\" xlink:href=\"#ma3f9b2ed28\" y=\"214.756364\"/>\n     <use style=\"fill:#1f77b4;stroke:#1f77b4;\" x=\"55.349949\" xlink:href=\"#ma3f9b2ed28\" y=\"214.693072\"/>\n     <use style=\"fill:#1f77b4;stroke:#1f77b4;\" x=\"60.746566\" xlink:href=\"#ma3f9b2ed28\" y=\"208.938272\"/>\n     <use style=\"fill:#1f77b4;stroke:#1f77b4;\" x=\"56.224429\" xlink:href=\"#ma3f9b2ed28\" y=\"214.627989\"/>\n     <use style=\"fill:#1f77b4;stroke:#1f77b4;\" x=\"58.717703\" xlink:href=\"#ma3f9b2ed28\" y=\"214.723235\"/>\n     <use style=\"fill:#1f77b4;stroke:#1f77b4;\" x=\"61.354921\" xlink:href=\"#ma3f9b2ed28\" y=\"214.746425\"/>\n     <use style=\"fill:#1f77b4;stroke:#1f77b4;\" x=\"237.998004\" xlink:href=\"#ma3f9b2ed28\" y=\"184.973352\"/>\n     <use style=\"fill:#1f77b4;stroke:#1f77b4;\" x=\"65.357882\" xlink:href=\"#ma3f9b2ed28\" y=\"214.72667\"/>\n     <use style=\"fill:#1f77b4;stroke:#1f77b4;\" x=\"64.082774\" xlink:href=\"#ma3f9b2ed28\" y=\"213.49746\"/>\n     <use style=\"fill:#1f77b4;stroke:#1f77b4;\" x=\"58.990886\" xlink:href=\"#ma3f9b2ed28\" y=\"214.746425\"/>\n     <use style=\"fill:#1f77b4;stroke:#1f77b4;\" x=\"68.126696\" xlink:href=\"#ma3f9b2ed28\" y=\"214.723235\"/>\n     <use style=\"fill:#1f77b4;stroke:#1f77b4;\" x=\"77.705586\" xlink:href=\"#ma3f9b2ed28\" y=\"212.868008\"/>\n     <use style=\"fill:#1f77b4;stroke:#1f77b4;\" x=\"58.60629\" xlink:href=\"#ma3f9b2ed28\" y=\"214.72986\"/>\n     <use style=\"fill:#1f77b4;stroke:#1f77b4;\" x=\"55.124506\" xlink:href=\"#ma3f9b2ed28\" y=\"214.662761\"/>\n     <use style=\"fill:#1f77b4;stroke:#1f77b4;\" x=\"59.598879\" xlink:href=\"#ma3f9b2ed28\" y=\"213.60789\"/>\n     <use style=\"fill:#1f77b4;stroke:#1f77b4;\" x=\"99.648011\" xlink:href=\"#ma3f9b2ed28\" y=\"198.330381\"/>\n     <use style=\"fill:#1f77b4;stroke:#1f77b4;\" x=\"77.577494\" xlink:href=\"#ma3f9b2ed28\" y=\"209.577728\"/>\n     <use style=\"fill:#1f77b4;stroke:#1f77b4;\" x=\"58.376191\" xlink:href=\"#ma3f9b2ed28\" y=\"213.753457\"/>\n     <use style=\"fill:#1f77b4;stroke:#1f77b4;\" x=\"119.803839\" xlink:href=\"#ma3f9b2ed28\" y=\"188.062242\"/>\n     <use style=\"fill:#1f77b4;stroke:#1f77b4;\" x=\"57.857234\" xlink:href=\"#ma3f9b2ed28\" y=\"213.961267\"/>\n     <use style=\"fill:#1f77b4;stroke:#1f77b4;\" x=\"63.63593\" xlink:href=\"#ma3f9b2ed28\" y=\"213.05509\"/>\n     <use style=\"fill:#1f77b4;stroke:#1f77b4;\" x=\"68.679988\" xlink:href=\"#ma3f9b2ed28\" y=\"213.590221\"/>\n     <use style=\"fill:#1f77b4;stroke:#1f77b4;\" x=\"61.213588\" xlink:href=\"#ma3f9b2ed28\" y=\"212.978863\"/>\n     <use style=\"fill:#1f77b4;stroke:#1f77b4;\" x=\"60.465378\" xlink:href=\"#ma3f9b2ed28\" y=\"213.596847\"/>\n     <use style=\"fill:#1f77b4;stroke:#1f77b4;\" x=\"112.40164\" xlink:href=\"#ma3f9b2ed28\" y=\"214.491331\"/>\n     <use style=\"fill:#1f77b4;stroke:#1f77b4;\" x=\"97.281032\" xlink:href=\"#ma3f9b2ed28\" y=\"214.739799\"/>\n     <use style=\"fill:#1f77b4;stroke:#1f77b4;\" x=\"88.952565\" xlink:href=\"#ma3f9b2ed28\" y=\"214.678413\"/>\n     <use style=\"fill:#1f77b4;stroke:#1f77b4;\" x=\"54.958096\" xlink:href=\"#ma3f9b2ed28\" y=\"214.698388\"/>\n     <use style=\"fill:#1f77b4;stroke:#1f77b4;\" x=\"58.682101\" xlink:href=\"#ma3f9b2ed28\" y=\"214.429806\"/>\n     <use style=\"fill:#1f77b4;stroke:#1f77b4;\" x=\"55.360996\" xlink:href=\"#ma3f9b2ed28\" y=\"213.994396\"/>\n     <use style=\"fill:#1f77b4;stroke:#1f77b4;\" x=\"97.071883\" xlink:href=\"#ma3f9b2ed28\" y=\"206.540361\"/>\n     <use style=\"fill:#1f77b4;stroke:#1f77b4;\" x=\"59.708517\" xlink:href=\"#ma3f9b2ed28\" y=\"212.80175\"/>\n     <use style=\"fill:#1f77b4;stroke:#1f77b4;\" x=\"59.245444\" xlink:href=\"#ma3f9b2ed28\" y=\"214.640111\"/>\n     <use style=\"fill:#1f77b4;stroke:#1f77b4;\" x=\"64.357263\" xlink:href=\"#ma3f9b2ed28\" y=\"213.199299\"/>\n     <use style=\"fill:#1f77b4;stroke:#1f77b4;\" x=\"59.157831\" xlink:href=\"#ma3f9b2ed28\" y=\"213.57697\"/>\n     <use style=\"fill:#1f77b4;stroke:#1f77b4;\" x=\"55.854586\" xlink:href=\"#ma3f9b2ed28\" y=\"214.461214\"/>\n     <use style=\"fill:#1f77b4;stroke:#1f77b4;\" x=\"109.199128\" xlink:href=\"#ma3f9b2ed28\" y=\"204.195226\"/>\n     <use style=\"fill:#1f77b4;stroke:#1f77b4;\" x=\"125.497201\" xlink:href=\"#ma3f9b2ed28\" y=\"214.391944\"/>\n     <use style=\"fill:#1f77b4;stroke:#1f77b4;\" x=\"65.968394\" xlink:href=\"#ma3f9b2ed28\" y=\"214.735658\"/>\n     <use style=\"fill:#1f77b4;stroke:#1f77b4;\" x=\"83.185417\" xlink:href=\"#ma3f9b2ed28\" y=\"212.729468\"/>\n     <use style=\"fill:#1f77b4;stroke:#1f77b4;\" x=\"115.022202\" xlink:href=\"#ma3f9b2ed28\" y=\"209.033321\"/>\n     <use style=\"fill:#1f77b4;stroke:#1f77b4;\" x=\"61.429806\" xlink:href=\"#ma3f9b2ed28\" y=\"214.656977\"/>\n     <use style=\"fill:#1f77b4;stroke:#1f77b4;\" x=\"72.261271\" xlink:href=\"#ma3f9b2ed28\" y=\"211.00726\"/>\n     <use style=\"fill:#1f77b4;stroke:#1f77b4;\" x=\"55.898846\" xlink:href=\"#ma3f9b2ed28\" y=\"214.756364\"/>\n     <use style=\"fill:#1f77b4;stroke:#1f77b4;\" x=\"82.324845\" xlink:href=\"#ma3f9b2ed28\" y=\"208.300268\"/>\n     <use style=\"fill:#1f77b4;stroke:#1f77b4;\" x=\"60.886946\" xlink:href=\"#ma3f9b2ed28\" y=\"214.723235\"/>\n     <use style=\"fill:#1f77b4;stroke:#1f77b4;\" x=\"141.172759\" xlink:href=\"#ma3f9b2ed28\" y=\"214.19317\"/>\n     <use style=\"fill:#1f77b4;stroke:#1f77b4;\" x=\"71.927771\" xlink:href=\"#ma3f9b2ed28\" y=\"214.240497\"/>\n     <use style=\"fill:#1f77b4;stroke:#1f77b4;\" x=\"71.070924\" xlink:href=\"#ma3f9b2ed28\" y=\"214.391944\"/>\n     <use style=\"fill:#1f77b4;stroke:#1f77b4;\" x=\"124.186722\" xlink:href=\"#ma3f9b2ed28\" y=\"214.723235\"/>\n     <use style=\"fill:#1f77b4;stroke:#1f77b4;\" x=\"96.735446\" xlink:href=\"#ma3f9b2ed28\" y=\"213.051492\"/>\n     <use style=\"fill:#1f77b4;stroke:#1f77b4;\" x=\"56.932552\" xlink:href=\"#ma3f9b2ed28\" y=\"214.72034\"/>\n     <use style=\"fill:#1f77b4;stroke:#1f77b4;\" x=\"57.591711\" xlink:href=\"#ma3f9b2ed28\" y=\"210.416459\"/>\n     <use style=\"fill:#1f77b4;stroke:#1f77b4;\" x=\"61.223082\" xlink:href=\"#ma3f9b2ed28\" y=\"214.66802\"/>\n     <use style=\"fill:#1f77b4;stroke:#1f77b4;\" x=\"131.124642\" xlink:href=\"#ma3f9b2ed28\" y=\"183.801036\"/>\n     <use style=\"fill:#1f77b4;stroke:#1f77b4;\" x=\"60.927417\" xlink:href=\"#ma3f9b2ed28\" y=\"213.13304\"/>\n     <use style=\"fill:#1f77b4;stroke:#1f77b4;\" x=\"55.721004\" xlink:href=\"#ma3f9b2ed28\" y=\"200.985724\"/>\n     <use style=\"fill:#1f77b4;stroke:#1f77b4;\" x=\"61.758348\" xlink:href=\"#ma3f9b2ed28\" y=\"212.768621\"/>\n     <use style=\"fill:#1f77b4;stroke:#1f77b4;\" x=\"170.599197\" xlink:href=\"#ma3f9b2ed28\" y=\"191.643333\"/>\n     <use style=\"fill:#1f77b4;stroke:#1f77b4;\" x=\"61.701484\" xlink:href=\"#ma3f9b2ed28\" y=\"212.691901\"/>\n     <use style=\"fill:#1f77b4;stroke:#1f77b4;\" x=\"88.810187\" xlink:href=\"#ma3f9b2ed28\" y=\"210.375968\"/>\n     <use style=\"fill:#1f77b4;stroke:#1f77b4;\" x=\"154.728267\" xlink:href=\"#ma3f9b2ed28\" y=\"184.239781\"/>\n     <use style=\"fill:#1f77b4;stroke:#1f77b4;\" x=\"57.7409\" xlink:href=\"#ma3f9b2ed28\" y=\"213.126415\"/>\n     <use style=\"fill:#1f77b4;stroke:#1f77b4;\" x=\"63.526176\" xlink:href=\"#ma3f9b2ed28\" y=\"214.102372\"/>\n     <use style=\"fill:#1f77b4;stroke:#1f77b4;\" x=\"72.038279\" xlink:href=\"#ma3f9b2ed28\" y=\"214.690106\"/>\n     <use style=\"fill:#1f77b4;stroke:#1f77b4;\" x=\"82.002323\" xlink:href=\"#ma3f9b2ed28\" y=\"213.977831\"/>\n     <use style=\"fill:#1f77b4;stroke:#1f77b4;\" x=\"59.43084\" xlink:href=\"#ma3f9b2ed28\" y=\"213.753457\"/>\n     <use style=\"fill:#1f77b4;stroke:#1f77b4;\" x=\"82.396911\" xlink:href=\"#ma3f9b2ed28\" y=\"208.07582\"/>\n     <use style=\"fill:#1f77b4;stroke:#1f77b4;\" x=\"55.000284\" xlink:href=\"#ma3f9b2ed28\" y=\"214.756364\"/>\n     <use style=\"fill:#1f77b4;stroke:#1f77b4;\" x=\"55.189254\" xlink:href=\"#ma3f9b2ed28\" y=\"214.712192\"/>\n     <use style=\"fill:#1f77b4;stroke:#1f77b4;\" x=\"55.741219\" xlink:href=\"#ma3f9b2ed28\" y=\"213.762492\"/>\n     <use style=\"fill:#1f77b4;stroke:#1f77b4;\" x=\"58.961781\" xlink:href=\"#ma3f9b2ed28\" y=\"214.656977\"/>\n     <use style=\"fill:#1f77b4;stroke:#1f77b4;\" x=\"58.388018\" xlink:href=\"#ma3f9b2ed28\" y=\"213.464331\"/>\n     <use style=\"fill:#1f77b4;stroke:#1f77b4;\" x=\"55.148287\" xlink:href=\"#ma3f9b2ed28\" y=\"214.756364\"/>\n     <use style=\"fill:#1f77b4;stroke:#1f77b4;\" x=\"55.079282\" xlink:href=\"#ma3f9b2ed28\" y=\"214.723235\"/>\n     <use style=\"fill:#1f77b4;stroke:#1f77b4;\" x=\"130.768022\" xlink:href=\"#ma3f9b2ed28\" y=\"184.862503\"/>\n     <use style=\"fill:#1f77b4;stroke:#1f77b4;\" x=\"59.529368\" xlink:href=\"#ma3f9b2ed28\" y=\"214.502374\"/>\n     <use style=\"fill:#1f77b4;stroke:#1f77b4;\" x=\"61.663029\" xlink:href=\"#ma3f9b2ed28\" y=\"213.215863\"/>\n     <use style=\"fill:#1f77b4;stroke:#1f77b4;\" x=\"55.348925\" xlink:href=\"#ma3f9b2ed28\" y=\"209.333139\"/>\n     <use style=\"fill:#1f77b4;stroke:#1f77b4;\" x=\"78.421754\" xlink:href=\"#ma3f9b2ed28\" y=\"214.504155\"/>\n     <use style=\"fill:#1f77b4;stroke:#1f77b4;\" x=\"67.65619\" xlink:href=\"#ma3f9b2ed28\" y=\"214.422865\"/>\n     <use style=\"fill:#1f77b4;stroke:#1f77b4;\" x=\"68.48817\" xlink:href=\"#ma3f9b2ed28\" y=\"213.324453\"/>\n     <use style=\"fill:#1f77b4;stroke:#1f77b4;\" x=\"95.501259\" xlink:href=\"#ma3f9b2ed28\" y=\"213.550466\"/>\n     <use style=\"fill:#1f77b4;stroke:#1f77b4;\" x=\"55.848142\" xlink:href=\"#ma3f9b2ed28\" y=\"214.73103\"/>\n     <use style=\"fill:#1f77b4;stroke:#1f77b4;\" x=\"60.184156\" xlink:href=\"#ma3f9b2ed28\" y=\"214.496064\"/>\n     <use style=\"fill:#1f77b4;stroke:#1f77b4;\" x=\"61.396479\" xlink:href=\"#ma3f9b2ed28\" y=\"214.036243\"/>\n     <use style=\"fill:#1f77b4;stroke:#1f77b4;\" x=\"70.998149\" xlink:href=\"#ma3f9b2ed28\" y=\"214.312434\"/>\n     <use style=\"fill:#1f77b4;stroke:#1f77b4;\" x=\"55.00888\" xlink:href=\"#ma3f9b2ed28\" y=\"214.756364\"/>\n     <use style=\"fill:#1f77b4;stroke:#1f77b4;\" x=\"56.048831\" xlink:href=\"#ma3f9b2ed28\" y=\"214.01096\"/>\n     <use style=\"fill:#1f77b4;stroke:#1f77b4;\" x=\"56.885594\" xlink:href=\"#ma3f9b2ed28\" y=\"209.652834\"/>\n     <use style=\"fill:#1f77b4;stroke:#1f77b4;\" x=\"61.607888\" xlink:href=\"#ma3f9b2ed28\" y=\"214.421392\"/>\n     <use style=\"fill:#1f77b4;stroke:#1f77b4;\" x=\"68.584935\" xlink:href=\"#ma3f9b2ed28\" y=\"211.579373\"/>\n     <use style=\"fill:#1f77b4;stroke:#1f77b4;\" x=\"54.929046\" xlink:href=\"#ma3f9b2ed28\" y=\"213.937603\"/>\n     <use style=\"fill:#1f77b4;stroke:#1f77b4;\" x=\"58.487037\" xlink:href=\"#ma3f9b2ed28\" y=\"214.636839\"/>\n     <use style=\"fill:#1f77b4;stroke:#1f77b4;\" x=\"57.478856\" xlink:href=\"#ma3f9b2ed28\" y=\"213.13304\"/>\n     <use style=\"fill:#1f77b4;stroke:#1f77b4;\" x=\"68.553327\" xlink:href=\"#ma3f9b2ed28\" y=\"214.52446\"/>\n     <use style=\"fill:#1f77b4;stroke:#1f77b4;\" x=\"80.822827\" xlink:href=\"#ma3f9b2ed28\" y=\"214.728756\"/>\n     <use style=\"fill:#1f77b4;stroke:#1f77b4;\" x=\"55.789569\" xlink:href=\"#ma3f9b2ed28\" y=\"214.072701\"/>\n     <use style=\"fill:#1f77b4;stroke:#1f77b4;\" x=\"55.028762\" xlink:href=\"#ma3f9b2ed28\" y=\"214.391944\"/>\n     <use style=\"fill:#1f77b4;stroke:#1f77b4;\" x=\"82.290341\" xlink:href=\"#ma3f9b2ed28\" y=\"207.044658\"/>\n     <use style=\"fill:#1f77b4;stroke:#1f77b4;\" x=\"58.436429\" xlink:href=\"#ma3f9b2ed28\" y=\"214.756364\"/>\n     <use style=\"fill:#1f77b4;stroke:#1f77b4;\" x=\"65.501256\" xlink:href=\"#ma3f9b2ed28\" y=\"213.166169\"/>\n     <use style=\"fill:#1f77b4;stroke:#1f77b4;\" x=\"57.729931\" xlink:href=\"#ma3f9b2ed28\" y=\"214.756364\"/>\n     <use style=\"fill:#1f77b4;stroke:#1f77b4;\" x=\"55.870421\" xlink:href=\"#ma3f9b2ed28\" y=\"214.756364\"/>\n     <use style=\"fill:#1f77b4;stroke:#1f77b4;\" x=\"65.701387\" xlink:href=\"#ma3f9b2ed28\" y=\"213.49746\"/>\n     <use style=\"fill:#1f77b4;stroke:#1f77b4;\" x=\"84.654448\" xlink:href=\"#ma3f9b2ed28\" y=\"213.089559\"/>\n     <use style=\"fill:#1f77b4;stroke:#1f77b4;\" x=\"306.612261\" xlink:href=\"#ma3f9b2ed28\" y=\"17.083636\"/>\n     <use style=\"fill:#1f77b4;stroke:#1f77b4;\" x=\"72.488456\" xlink:href=\"#ma3f9b2ed28\" y=\"214.19317\"/>\n     <use style=\"fill:#1f77b4;stroke:#1f77b4;\" x=\"55.417286\" xlink:href=\"#ma3f9b2ed28\" y=\"214.699849\"/>\n     <use style=\"fill:#1f77b4;stroke:#1f77b4;\" x=\"70.249598\" xlink:href=\"#ma3f9b2ed28\" y=\"213.111604\"/>\n     <use style=\"fill:#1f77b4;stroke:#1f77b4;\" x=\"55.895998\" xlink:href=\"#ma3f9b2ed28\" y=\"214.756364\"/>\n     <use style=\"fill:#1f77b4;stroke:#1f77b4;\" x=\"59.365619\" xlink:href=\"#ma3f9b2ed28\" y=\"214.755221\"/>\n     <use style=\"fill:#1f77b4;stroke:#1f77b4;\" x=\"61.563023\" xlink:href=\"#ma3f9b2ed28\" y=\"213.080981\"/>\n     <use style=\"fill:#1f77b4;stroke:#1f77b4;\" x=\"57.64928\" xlink:href=\"#ma3f9b2ed28\" y=\"214.756364\"/>\n     <use style=\"fill:#1f77b4;stroke:#1f77b4;\" x=\"92.921593\" xlink:href=\"#ma3f9b2ed28\" y=\"214.690106\"/>\n     <use style=\"fill:#1f77b4;stroke:#1f77b4;\" x=\"96.921821\" xlink:href=\"#ma3f9b2ed28\" y=\"214.063779\"/>\n     <use style=\"fill:#1f77b4;stroke:#1f77b4;\" x=\"65.85034\" xlink:href=\"#ma3f9b2ed28\" y=\"214.711901\"/>\n     <use style=\"fill:#1f77b4;stroke:#1f77b4;\" x=\"56.375223\" xlink:href=\"#ma3f9b2ed28\" y=\"213.963404\"/>\n     <use style=\"fill:#1f77b4;stroke:#1f77b4;\" x=\"88.011746\" xlink:href=\"#ma3f9b2ed28\" y=\"211.257108\"/>\n     <use style=\"fill:#1f77b4;stroke:#1f77b4;\" x=\"55.180482\" xlink:href=\"#ma3f9b2ed28\" y=\"214.726916\"/>\n     <use style=\"fill:#1f77b4;stroke:#1f77b4;\" x=\"76.617256\" xlink:href=\"#ma3f9b2ed28\" y=\"214.660289\"/>\n     <use style=\"fill:#1f77b4;stroke:#1f77b4;\" x=\"62.726331\" xlink:href=\"#ma3f9b2ed28\" y=\"213.040279\"/>\n     <use style=\"fill:#1f77b4;stroke:#1f77b4;\" x=\"71.990808\" xlink:href=\"#ma3f9b2ed28\" y=\"213.585804\"/>\n     <use style=\"fill:#1f77b4;stroke:#1f77b4;\" x=\"197.222805\" xlink:href=\"#ma3f9b2ed28\" y=\"202.929295\"/>\n     <use style=\"fill:#1f77b4;stroke:#1f77b4;\" x=\"147.44882\" xlink:href=\"#ma3f9b2ed28\" y=\"197.694906\"/>\n     <use style=\"fill:#1f77b4;stroke:#1f77b4;\" x=\"56.318674\" xlink:href=\"#ma3f9b2ed28\" y=\"214.756364\"/>\n     <use style=\"fill:#1f77b4;stroke:#1f77b4;\" x=\"58.653805\" xlink:href=\"#ma3f9b2ed28\" y=\"214.756364\"/>\n     <use style=\"fill:#1f77b4;stroke:#1f77b4;\" x=\"67.739512\" xlink:href=\"#ma3f9b2ed28\" y=\"214.234581\"/>\n     <use style=\"fill:#1f77b4;stroke:#1f77b4;\" x=\"66.736014\" xlink:href=\"#ma3f9b2ed28\" y=\"208.778937\"/>\n     <use style=\"fill:#1f77b4;stroke:#1f77b4;\" x=\"55.40793\" xlink:href=\"#ma3f9b2ed28\" y=\"214.756364\"/>\n     <use style=\"fill:#1f77b4;stroke:#1f77b4;\" x=\"114.38128\" xlink:href=\"#ma3f9b2ed28\" y=\"207.037296\"/>\n     <use style=\"fill:#1f77b4;stroke:#1f77b4;\" x=\"61.618599\" xlink:href=\"#ma3f9b2ed28\" y=\"214.756364\"/>\n     <use style=\"fill:#1f77b4;stroke:#1f77b4;\" x=\"67.816965\" xlink:href=\"#ma3f9b2ed28\" y=\"214.727009\"/>\n     <use style=\"fill:#1f77b4;stroke:#1f77b4;\" x=\"57.377455\" xlink:href=\"#ma3f9b2ed28\" y=\"214.74256\"/>\n     <use style=\"fill:#1f77b4;stroke:#1f77b4;\" x=\"59.050377\" xlink:href=\"#ma3f9b2ed28\" y=\"214.656977\"/>\n     <use style=\"fill:#1f77b4;stroke:#1f77b4;\" x=\"62.631641\" xlink:href=\"#ma3f9b2ed28\" y=\"213.144083\"/>\n     <use style=\"fill:#1f77b4;stroke:#1f77b4;\" x=\"59.588279\" xlink:href=\"#ma3f9b2ed28\" y=\"206.507232\"/>\n     <use style=\"fill:#1f77b4;stroke:#1f77b4;\" x=\"55.420397\" xlink:href=\"#ma3f9b2ed28\" y=\"214.676854\"/>\n     <use style=\"fill:#1f77b4;stroke:#1f77b4;\" x=\"67.9205\" xlink:href=\"#ma3f9b2ed28\" y=\"214.259428\"/>\n     <use style=\"fill:#1f77b4;stroke:#1f77b4;\" x=\"65.610711\" xlink:href=\"#ma3f9b2ed28\" y=\"212.913184\"/>\n     <use style=\"fill:#1f77b4;stroke:#1f77b4;\" x=\"55.796592\" xlink:href=\"#ma3f9b2ed28\" y=\"214.701149\"/>\n     <use style=\"fill:#1f77b4;stroke:#1f77b4;\" x=\"55.183804\" xlink:href=\"#ma3f9b2ed28\" y=\"214.679063\"/>\n     <use style=\"fill:#1f77b4;stroke:#1f77b4;\" x=\"91.137751\" xlink:href=\"#ma3f9b2ed28\" y=\"203.280972\"/>\n     <use style=\"fill:#1f77b4;stroke:#1f77b4;\" x=\"55.845856\" xlink:href=\"#ma3f9b2ed28\" y=\"214.208229\"/>\n     <use style=\"fill:#1f77b4;stroke:#1f77b4;\" x=\"55.351855\" xlink:href=\"#ma3f9b2ed28\" y=\"214.756364\"/>\n     <use style=\"fill:#1f77b4;stroke:#1f77b4;\" x=\"63.279348\" xlink:href=\"#ma3f9b2ed28\" y=\"212.934266\"/>\n     <use style=\"fill:#1f77b4;stroke:#1f77b4;\" x=\"68.872072\" xlink:href=\"#ma3f9b2ed28\" y=\"79.732979\"/>\n     <use style=\"fill:#1f77b4;stroke:#1f77b4;\" x=\"67.498616\" xlink:href=\"#ma3f9b2ed28\" y=\"214.723235\"/>\n     <use style=\"fill:#1f77b4;stroke:#1f77b4;\" x=\"76.441251\" xlink:href=\"#ma3f9b2ed28\" y=\"211.633951\"/>\n     <use style=\"fill:#1f77b4;stroke:#1f77b4;\" x=\"64.916366\" xlink:href=\"#ma3f9b2ed28\" y=\"214.649614\"/>\n     <use style=\"fill:#1f77b4;stroke:#1f77b4;\" x=\"74.192342\" xlink:href=\"#ma3f9b2ed28\" y=\"213.000524\"/>\n     <use style=\"fill:#1f77b4;stroke:#1f77b4;\" x=\"56.866935\" xlink:href=\"#ma3f9b2ed28\" y=\"212.687113\"/>\n     <use style=\"fill:#1f77b4;stroke:#1f77b4;\" x=\"69.397096\" xlink:href=\"#ma3f9b2ed28\" y=\"214.690106\"/>\n     <use style=\"fill:#1f77b4;stroke:#1f77b4;\" x=\"54.884266\" xlink:href=\"#ma3f9b2ed28\" y=\"214.756364\"/>\n     <use style=\"fill:#1f77b4;stroke:#1f77b4;\" x=\"67.661107\" xlink:href=\"#ma3f9b2ed28\" y=\"211.567693\"/>\n     <use style=\"fill:#1f77b4;stroke:#1f77b4;\" x=\"68.994268\" xlink:href=\"#ma3f9b2ed28\" y=\"212.234211\"/>\n     <use style=\"fill:#1f77b4;stroke:#1f77b4;\" x=\"61.530087\" xlink:href=\"#ma3f9b2ed28\" y=\"213.47186\"/>\n     <use style=\"fill:#1f77b4;stroke:#1f77b4;\" x=\"77.718649\" xlink:href=\"#ma3f9b2ed28\" y=\"212.89604\"/>\n     <use style=\"fill:#1f77b4;stroke:#1f77b4;\" x=\"74.922466\" xlink:href=\"#ma3f9b2ed28\" y=\"213.033653\"/>\n     <use style=\"fill:#1f77b4;stroke:#1f77b4;\" x=\"205.973324\" xlink:href=\"#ma3f9b2ed28\" y=\"188.650676\"/>\n     <use style=\"fill:#1f77b4;stroke:#1f77b4;\" x=\"62.578613\" xlink:href=\"#ma3f9b2ed28\" y=\"214.675907\"/>\n     <use style=\"fill:#1f77b4;stroke:#1f77b4;\" x=\"107.232235\" xlink:href=\"#ma3f9b2ed28\" y=\"212.337943\"/>\n     <use style=\"fill:#1f77b4;stroke:#1f77b4;\" x=\"54.868182\" xlink:href=\"#ma3f9b2ed28\" y=\"214.756364\"/>\n     <use style=\"fill:#1f77b4;stroke:#1f77b4;\" x=\"55.237595\" xlink:href=\"#ma3f9b2ed28\" y=\"214.391944\"/>\n     <use style=\"fill:#1f77b4;stroke:#1f77b4;\" x=\"75.12418\" xlink:href=\"#ma3f9b2ed28\" y=\"214.656977\"/>\n     <use style=\"fill:#1f77b4;stroke:#1f77b4;\" x=\"146.623548\" xlink:href=\"#ma3f9b2ed28\" y=\"199.848294\"/>\n     <use style=\"fill:#1f77b4;stroke:#1f77b4;\" x=\"55.629103\" xlink:href=\"#ma3f9b2ed28\" y=\"213.318563\"/>\n     <use style=\"fill:#1f77b4;stroke:#1f77b4;\" x=\"71.374681\" xlink:href=\"#ma3f9b2ed28\" y=\"214.63213\"/>\n     <use style=\"fill:#1f77b4;stroke:#1f77b4;\" x=\"59.976857\" xlink:href=\"#ma3f9b2ed28\" y=\"214.745902\"/>\n     <use style=\"fill:#1f77b4;stroke:#1f77b4;\" x=\"62.848182\" xlink:href=\"#ma3f9b2ed28\" y=\"214.52446\"/>\n     <use style=\"fill:#1f77b4;stroke:#1f77b4;\" x=\"55.211227\" xlink:href=\"#ma3f9b2ed28\" y=\"214.557589\"/>\n     <use style=\"fill:#1f77b4;stroke:#1f77b4;\" x=\"55.540485\" xlink:href=\"#ma3f9b2ed28\" y=\"214.756364\"/>\n     <use style=\"fill:#1f77b4;stroke:#1f77b4;\" x=\"76.124508\" xlink:href=\"#ma3f9b2ed28\" y=\"214.253216\"/>\n     <use style=\"fill:#1f77b4;stroke:#1f77b4;\" x=\"61.788724\" xlink:href=\"#ma3f9b2ed28\" y=\"214.756364\"/>\n     <use style=\"fill:#1f77b4;stroke:#1f77b4;\" x=\"87.36358\" xlink:href=\"#ma3f9b2ed28\" y=\"212.039782\"/>\n     <use style=\"fill:#1f77b4;stroke:#1f77b4;\" x=\"58.568548\" xlink:href=\"#ma3f9b2ed28\" y=\"212.532931\"/>\n     <use style=\"fill:#1f77b4;stroke:#1f77b4;\" x=\"80.602791\" xlink:href=\"#ma3f9b2ed28\" y=\"211.388244\"/>\n     <use style=\"fill:#1f77b4;stroke:#1f77b4;\" x=\"57.038514\" xlink:href=\"#ma3f9b2ed28\" y=\"214.701149\"/>\n     <use style=\"fill:#1f77b4;stroke:#1f77b4;\" x=\"56.75899\" xlink:href=\"#ma3f9b2ed28\" y=\"211.298428\"/>\n     <use style=\"fill:#1f77b4;stroke:#1f77b4;\" x=\"54.919203\" xlink:href=\"#ma3f9b2ed28\" y=\"214.541025\"/>\n     <use style=\"fill:#1f77b4;stroke:#1f77b4;\" x=\"159.806584\" xlink:href=\"#ma3f9b2ed28\" y=\"182.513521\"/>\n     <use style=\"fill:#1f77b4;stroke:#1f77b4;\" x=\"74.220142\" xlink:href=\"#ma3f9b2ed28\" y=\"214.619115\"/>\n     <use style=\"fill:#1f77b4;stroke:#1f77b4;\" x=\"55.51269\" xlink:href=\"#ma3f9b2ed28\" y=\"214.756364\"/>\n     <use style=\"fill:#1f77b4;stroke:#1f77b4;\" x=\"94.619309\" xlink:href=\"#ma3f9b2ed28\" y=\"164.532732\"/>\n     <use style=\"fill:#1f77b4;stroke:#1f77b4;\" x=\"73.718102\" xlink:href=\"#ma3f9b2ed28\" y=\"214.332312\"/>\n     <use style=\"fill:#1f77b4;stroke:#1f77b4;\" x=\"68.678616\" xlink:href=\"#ma3f9b2ed28\" y=\"214.731953\"/>\n     <use style=\"fill:#1f77b4;stroke:#1f77b4;\" x=\"120.71653\" xlink:href=\"#ma3f9b2ed28\" y=\"189.445774\"/>\n     <use style=\"fill:#1f77b4;stroke:#1f77b4;\" x=\"84.374874\" xlink:href=\"#ma3f9b2ed28\" y=\"206.943431\"/>\n     <use style=\"fill:#1f77b4;stroke:#1f77b4;\" x=\"56.73406\" xlink:href=\"#ma3f9b2ed28\" y=\"213.122274\"/>\n     <use style=\"fill:#1f77b4;stroke:#1f77b4;\" x=\"62.157557\" xlink:href=\"#ma3f9b2ed28\" y=\"214.660035\"/>\n     <use style=\"fill:#1f77b4;stroke:#1f77b4;\" x=\"75.592894\" xlink:href=\"#ma3f9b2ed28\" y=\"214.656977\"/>\n     <use style=\"fill:#1f77b4;stroke:#1f77b4;\" x=\"59.560824\" xlink:href=\"#ma3f9b2ed28\" y=\"213.434357\"/>\n     <use style=\"fill:#1f77b4;stroke:#1f77b4;\" x=\"56.789998\" xlink:href=\"#ma3f9b2ed28\" y=\"214.739799\"/>\n     <use style=\"fill:#1f77b4;stroke:#1f77b4;\" x=\"138.406659\" xlink:href=\"#ma3f9b2ed28\" y=\"188.087483\"/>\n     <use style=\"fill:#1f77b4;stroke:#1f77b4;\" x=\"60.351096\" xlink:href=\"#ma3f9b2ed28\" y=\"214.246686\"/>\n     <use style=\"fill:#1f77b4;stroke:#1f77b4;\" x=\"61.20568\" xlink:href=\"#ma3f9b2ed28\" y=\"212.967395\"/>\n     <use style=\"fill:#1f77b4;stroke:#1f77b4;\" x=\"55.439108\" xlink:href=\"#ma3f9b2ed28\" y=\"214.723235\"/>\n     <use style=\"fill:#1f77b4;stroke:#1f77b4;\" x=\"55.30444\" xlink:href=\"#ma3f9b2ed28\" y=\"213.830236\"/>\n     <use style=\"fill:#1f77b4;stroke:#1f77b4;\" x=\"56.466333\" xlink:href=\"#ma3f9b2ed28\" y=\"214.325686\"/>\n     <use style=\"fill:#1f77b4;stroke:#1f77b4;\" x=\"93.38883\" xlink:href=\"#ma3f9b2ed28\" y=\"214.259428\"/>\n     <use style=\"fill:#1f77b4;stroke:#1f77b4;\" x=\"54.88511\" xlink:href=\"#ma3f9b2ed28\" y=\"214.391944\"/>\n     <use style=\"fill:#1f77b4;stroke:#1f77b4;\" x=\"57.303337\" xlink:href=\"#ma3f9b2ed28\" y=\"214.701701\"/>\n     <use style=\"fill:#1f77b4;stroke:#1f77b4;\" x=\"68.346505\" xlink:href=\"#ma3f9b2ed28\" y=\"214.603142\"/>\n     <use style=\"fill:#1f77b4;stroke:#1f77b4;\" x=\"54.955625\" xlink:href=\"#ma3f9b2ed28\" y=\"214.713769\"/>\n     <use style=\"fill:#1f77b4;stroke:#1f77b4;\" x=\"58.989625\" xlink:href=\"#ma3f9b2ed28\" y=\"212.868008\"/>\n     <use style=\"fill:#1f77b4;stroke:#1f77b4;\" x=\"56.851393\" xlink:href=\"#ma3f9b2ed28\" y=\"214.343403\"/>\n     <use style=\"fill:#1f77b4;stroke:#1f77b4;\" x=\"97.312997\" xlink:href=\"#ma3f9b2ed28\" y=\"198.977429\"/>\n     <use style=\"fill:#1f77b4;stroke:#1f77b4;\" x=\"59.620068\" xlink:href=\"#ma3f9b2ed28\" y=\"214.639692\"/>\n     <use style=\"fill:#1f77b4;stroke:#1f77b4;\" x=\"139.761373\" xlink:href=\"#ma3f9b2ed28\" y=\"81.783004\"/>\n     <use style=\"fill:#1f77b4;stroke:#1f77b4;\" x=\"54.888485\" xlink:href=\"#ma3f9b2ed28\" y=\"214.723235\"/>\n     <use style=\"fill:#1f77b4;stroke:#1f77b4;\" x=\"56.7396\" xlink:href=\"#ma3f9b2ed28\" y=\"214.006443\"/>\n     <use style=\"fill:#1f77b4;stroke:#1f77b4;\" x=\"55.000759\" xlink:href=\"#ma3f9b2ed28\" y=\"214.507896\"/>\n     <use style=\"fill:#1f77b4;stroke:#1f77b4;\" x=\"57.544711\" xlink:href=\"#ma3f9b2ed28\" y=\"214.730597\"/>\n     <use style=\"fill:#1f77b4;stroke:#1f77b4;\" x=\"61.813966\" xlink:href=\"#ma3f9b2ed28\" y=\"213.472126\"/>\n     <use style=\"fill:#1f77b4;stroke:#1f77b4;\" x=\"76.637638\" xlink:href=\"#ma3f9b2ed28\" y=\"206.567466\"/>\n     <use style=\"fill:#1f77b4;stroke:#1f77b4;\" x=\"55.12685\" xlink:href=\"#ma3f9b2ed28\" y=\"214.690106\"/>\n     <use style=\"fill:#1f77b4;stroke:#1f77b4;\" x=\"70.018678\" xlink:href=\"#ma3f9b2ed28\" y=\"211.893462\"/>\n     <use style=\"fill:#1f77b4;stroke:#1f77b4;\" x=\"55.70486\" xlink:href=\"#ma3f9b2ed28\" y=\"214.577467\"/>\n     <use style=\"fill:#1f77b4;stroke:#1f77b4;\" x=\"55.144411\" xlink:href=\"#ma3f9b2ed28\" y=\"214.491331\"/>\n     <use style=\"fill:#1f77b4;stroke:#1f77b4;\" x=\"68.835959\" xlink:href=\"#ma3f9b2ed28\" y=\"212.263927\"/>\n     <use style=\"fill:#1f77b4;stroke:#1f77b4;\" x=\"55.152954\" xlink:href=\"#ma3f9b2ed28\" y=\"214.756364\"/>\n     <use style=\"fill:#1f77b4;stroke:#1f77b4;\" x=\"359.231818\" xlink:href=\"#ma3f9b2ed28\" y=\"155.952309\"/>\n     <use style=\"fill:#1f77b4;stroke:#1f77b4;\" x=\"56.506993\" xlink:href=\"#ma3f9b2ed28\" y=\"214.756364\"/>\n     <use style=\"fill:#1f77b4;stroke:#1f77b4;\" x=\"59.643652\" xlink:href=\"#ma3f9b2ed28\" y=\"214.723235\"/>\n     <use style=\"fill:#1f77b4;stroke:#1f77b4;\" x=\"92.455735\" xlink:href=\"#ma3f9b2ed28\" y=\"208.002531\"/>\n     <use style=\"fill:#1f77b4;stroke:#1f77b4;\" x=\"60.450506\" xlink:href=\"#ma3f9b2ed28\" y=\"213.795621\"/>\n     <use style=\"fill:#1f77b4;stroke:#1f77b4;\" x=\"64.050284\" xlink:href=\"#ma3f9b2ed28\" y=\"214.699141\"/>\n     <use style=\"fill:#1f77b4;stroke:#1f77b4;\" x=\"61.45735\" xlink:href=\"#ma3f9b2ed28\" y=\"214.649331\"/>\n     <use style=\"fill:#1f77b4;stroke:#1f77b4;\" x=\"55.487639\" xlink:href=\"#ma3f9b2ed28\" y=\"214.714621\"/>\n     <use style=\"fill:#1f77b4;stroke:#1f77b4;\" x=\"105.340961\" xlink:href=\"#ma3f9b2ed28\" y=\"213.994396\"/>\n     <use style=\"fill:#1f77b4;stroke:#1f77b4;\" x=\"55.190133\" xlink:href=\"#ma3f9b2ed28\" y=\"214.391944\"/>\n     <use style=\"fill:#1f77b4;stroke:#1f77b4;\" x=\"59.720118\" xlink:href=\"#ma3f9b2ed28\" y=\"213.563718\"/>\n     <use style=\"fill:#1f77b4;stroke:#1f77b4;\" x=\"56.152478\" xlink:href=\"#ma3f9b2ed28\" y=\"214.549307\"/>\n     <use style=\"fill:#1f77b4;stroke:#1f77b4;\" x=\"75.819365\" xlink:href=\"#ma3f9b2ed28\" y=\"73.088923\"/>\n     <use style=\"fill:#1f77b4;stroke:#1f77b4;\" x=\"59.12505\" xlink:href=\"#ma3f9b2ed28\" y=\"213.596847\"/>\n     <use style=\"fill:#1f77b4;stroke:#1f77b4;\" x=\"57.587843\" xlink:href=\"#ma3f9b2ed28\" y=\"214.728756\"/>\n     <use style=\"fill:#1f77b4;stroke:#1f77b4;\" x=\"57.252946\" xlink:href=\"#ma3f9b2ed28\" y=\"214.635315\"/>\n     <use style=\"fill:#1f77b4;stroke:#1f77b4;\" x=\"90.539105\" xlink:href=\"#ma3f9b2ed28\" y=\"213.364944\"/>\n     <use style=\"fill:#1f77b4;stroke:#1f77b4;\" x=\"68.751455\" xlink:href=\"#ma3f9b2ed28\" y=\"211.344072\"/>\n     <use style=\"fill:#1f77b4;stroke:#1f77b4;\" x=\"56.711198\" xlink:href=\"#ma3f9b2ed28\" y=\"214.642483\"/>\n     <use style=\"fill:#1f77b4;stroke:#1f77b4;\" x=\"66.148475\" xlink:href=\"#ma3f9b2ed28\" y=\"214.728756\"/>\n     <use style=\"fill:#1f77b4;stroke:#1f77b4;\" x=\"57.634189\" xlink:href=\"#ma3f9b2ed28\" y=\"214.748081\"/>\n     <use style=\"fill:#1f77b4;stroke:#1f77b4;\" x=\"55.580376\" xlink:href=\"#ma3f9b2ed28\" y=\"214.656977\"/>\n     <use style=\"fill:#1f77b4;stroke:#1f77b4;\" x=\"55.123334\" xlink:href=\"#ma3f9b2ed28\" y=\"214.745321\"/>\n     <use style=\"fill:#1f77b4;stroke:#1f77b4;\" x=\"67.266579\" xlink:href=\"#ma3f9b2ed28\" y=\"214.723235\"/>\n     <use style=\"fill:#1f77b4;stroke:#1f77b4;\" x=\"58.364814\" xlink:href=\"#ma3f9b2ed28\" y=\"214.723235\"/>\n     <use style=\"fill:#1f77b4;stroke:#1f77b4;\" x=\"55.101141\" xlink:href=\"#ma3f9b2ed28\" y=\"214.739799\"/>\n     <use style=\"fill:#1f77b4;stroke:#1f77b4;\" x=\"56.315281\" xlink:href=\"#ma3f9b2ed28\" y=\"214.74164\"/>\n     <use style=\"fill:#1f77b4;stroke:#1f77b4;\" x=\"58.413779\" xlink:href=\"#ma3f9b2ed28\" y=\"214.731517\"/>\n     <use style=\"fill:#1f77b4;stroke:#1f77b4;\" x=\"54.929091\" xlink:href=\"#ma3f9b2ed28\" y=\"214.690106\"/>\n     <use style=\"fill:#1f77b4;stroke:#1f77b4;\" x=\"58.153872\" xlink:href=\"#ma3f9b2ed28\" y=\"214.656977\"/>\n     <use style=\"fill:#1f77b4;stroke:#1f77b4;\" x=\"55.147522\" xlink:href=\"#ma3f9b2ed28\" y=\"214.723235\"/>\n     <use style=\"fill:#1f77b4;stroke:#1f77b4;\" x=\"60.447658\" xlink:href=\"#ma3f9b2ed28\" y=\"213.994396\"/>\n     <use style=\"fill:#1f77b4;stroke:#1f77b4;\" x=\"135.88611\" xlink:href=\"#ma3f9b2ed28\" y=\"184.752492\"/>\n     <use style=\"fill:#1f77b4;stroke:#1f77b4;\" x=\"56.076248\" xlink:href=\"#ma3f9b2ed28\" y=\"214.756364\"/>\n     <use style=\"fill:#1f77b4;stroke:#1f77b4;\" x=\"59.049823\" xlink:href=\"#ma3f9b2ed28\" y=\"213.489178\"/>\n     <use style=\"fill:#1f77b4;stroke:#1f77b4;\" x=\"55.772908\" xlink:href=\"#ma3f9b2ed28\" y=\"213.851306\"/>\n     <use style=\"fill:#1f77b4;stroke:#1f77b4;\" x=\"59.82559\" xlink:href=\"#ma3f9b2ed28\" y=\"214.491331\"/>\n     <use style=\"fill:#1f77b4;stroke:#1f77b4;\" x=\"57.222693\" xlink:href=\"#ma3f9b2ed28\" y=\"214.739799\"/>\n     <use style=\"fill:#1f77b4;stroke:#1f77b4;\" x=\"63.212514\" xlink:href=\"#ma3f9b2ed28\" y=\"194.772924\"/>\n     <use style=\"fill:#1f77b4;stroke:#1f77b4;\" x=\"55.197085\" xlink:href=\"#ma3f9b2ed28\" y=\"214.585197\"/>\n     <use style=\"fill:#1f77b4;stroke:#1f77b4;\" x=\"64.669732\" xlink:href=\"#ma3f9b2ed28\" y=\"213.411324\"/>\n     <use style=\"fill:#1f77b4;stroke:#1f77b4;\" x=\"328.950787\" xlink:href=\"#ma3f9b2ed28\" y=\"197.413309\"/>\n     <use style=\"fill:#1f77b4;stroke:#1f77b4;\" x=\"74.349965\" xlink:href=\"#ma3f9b2ed28\" y=\"214.283603\"/>\n     <use style=\"fill:#1f77b4;stroke:#1f77b4;\" x=\"63.267245\" xlink:href=\"#ma3f9b2ed28\" y=\"214.739799\"/>\n     <use style=\"fill:#1f77b4;stroke:#1f77b4;\" x=\"56.339768\" xlink:href=\"#ma3f9b2ed28\" y=\"214.756364\"/>\n     <use style=\"fill:#1f77b4;stroke:#1f77b4;\" x=\"55.095103\" xlink:href=\"#ma3f9b2ed28\" y=\"214.756364\"/>\n     <use style=\"fill:#1f77b4;stroke:#1f77b4;\" x=\"64.964588\" xlink:href=\"#ma3f9b2ed28\" y=\"212.494655\"/>\n     <use style=\"fill:#1f77b4;stroke:#1f77b4;\" x=\"58.777839\" xlink:href=\"#ma3f9b2ed28\" y=\"214.642252\"/>\n     <use style=\"fill:#1f77b4;stroke:#1f77b4;\" x=\"61.751696\" xlink:href=\"#ma3f9b2ed28\" y=\"213.33795\"/>\n     <use style=\"fill:#1f77b4;stroke:#1f77b4;\" x=\"57.338228\" xlink:href=\"#ma3f9b2ed28\" y=\"214.734278\"/>\n     <use style=\"fill:#1f77b4;stroke:#1f77b4;\" x=\"58.64985\" xlink:href=\"#ma3f9b2ed28\" y=\"214.756364\"/>\n     <use style=\"fill:#1f77b4;stroke:#1f77b4;\" x=\"61.700076\" xlink:href=\"#ma3f9b2ed28\" y=\"213.762492\"/>\n     <use style=\"fill:#1f77b4;stroke:#1f77b4;\" x=\"68.679893\" xlink:href=\"#ma3f9b2ed28\" y=\"212.072911\"/>\n     <use style=\"fill:#1f77b4;stroke:#1f77b4;\" x=\"66.174708\" xlink:href=\"#ma3f9b2ed28\" y=\"214.48832\"/>\n     <use style=\"fill:#1f77b4;stroke:#1f77b4;\" x=\"79.842432\" xlink:href=\"#ma3f9b2ed28\" y=\"211.890701\"/>\n     <use style=\"fill:#1f77b4;stroke:#1f77b4;\" x=\"55.907336\" xlink:href=\"#ma3f9b2ed28\" y=\"214.723235\"/>\n     <use style=\"fill:#1f77b4;stroke:#1f77b4;\" x=\"54.88299\" xlink:href=\"#ma3f9b2ed28\" y=\"214.72986\"/>\n     <use style=\"fill:#1f77b4;stroke:#1f77b4;\" x=\"76.943166\" xlink:href=\"#ma3f9b2ed28\" y=\"212.271685\"/>\n     <use style=\"fill:#1f77b4;stroke:#1f77b4;\" x=\"55.988444\" xlink:href=\"#ma3f9b2ed28\" y=\"214.537712\"/>\n     <use style=\"fill:#1f77b4;stroke:#1f77b4;\" x=\"57.136075\" xlink:href=\"#ma3f9b2ed28\" y=\"214.756364\"/>\n     <use style=\"fill:#1f77b4;stroke:#1f77b4;\" x=\"56.747701\" xlink:href=\"#ma3f9b2ed28\" y=\"207.461762\"/>\n     <use style=\"fill:#1f77b4;stroke:#1f77b4;\" x=\"75.879659\" xlink:href=\"#ma3f9b2ed28\" y=\"199.635966\"/>\n     <use style=\"fill:#1f77b4;stroke:#1f77b4;\" x=\"64.704492\" xlink:href=\"#ma3f9b2ed28\" y=\"214.725995\"/>\n     <use style=\"fill:#1f77b4;stroke:#1f77b4;\" x=\"57.121169\" xlink:href=\"#ma3f9b2ed28\" y=\"214.745321\"/>\n     <use style=\"fill:#1f77b4;stroke:#1f77b4;\" x=\"69.381835\" xlink:href=\"#ma3f9b2ed28\" y=\"214.161657\"/>\n     <use style=\"fill:#1f77b4;stroke:#1f77b4;\" x=\"70.504544\" xlink:href=\"#ma3f9b2ed28\" y=\"213.464331\"/>\n     <use style=\"fill:#1f77b4;stroke:#1f77b4;\" x=\"59.085182\" xlink:href=\"#ma3f9b2ed28\" y=\"213.795621\"/>\n     <use style=\"fill:#1f77b4;stroke:#1f77b4;\" x=\"149.012654\" xlink:href=\"#ma3f9b2ed28\" y=\"214.342251\"/>\n     <use style=\"fill:#1f77b4;stroke:#1f77b4;\" x=\"56.698464\" xlink:href=\"#ma3f9b2ed28\" y=\"214.653895\"/>\n     <use style=\"fill:#1f77b4;stroke:#1f77b4;\" x=\"55.088171\" xlink:href=\"#ma3f9b2ed28\" y=\"214.724377\"/>\n     <use style=\"fill:#1f77b4;stroke:#1f77b4;\" x=\"55.741956\" xlink:href=\"#ma3f9b2ed28\" y=\"210.049121\"/>\n     <use style=\"fill:#1f77b4;stroke:#1f77b4;\" x=\"134.420568\" xlink:href=\"#ma3f9b2ed28\" y=\"151.950942\"/>\n     <use style=\"fill:#1f77b4;stroke:#1f77b4;\" x=\"55.580376\" xlink:href=\"#ma3f9b2ed28\" y=\"214.756364\"/>\n     <use style=\"fill:#1f77b4;stroke:#1f77b4;\" x=\"106.751023\" xlink:href=\"#ma3f9b2ed28\" y=\"208.494974\"/>\n     <use style=\"fill:#1f77b4;stroke:#1f77b4;\" x=\"78.573087\" xlink:href=\"#ma3f9b2ed28\" y=\"214.756364\"/>\n     <use style=\"fill:#1f77b4;stroke:#1f77b4;\" x=\"58.971024\" xlink:href=\"#ma3f9b2ed28\" y=\"210.163353\"/>\n     <use style=\"fill:#1f77b4;stroke:#1f77b4;\" x=\"63.635934\" xlink:href=\"#ma3f9b2ed28\" y=\"214.756364\"/>\n     <use style=\"fill:#1f77b4;stroke:#1f77b4;\" x=\"56.377105\" xlink:href=\"#ma3f9b2ed28\" y=\"202.304988\"/>\n     <use style=\"fill:#1f77b4;stroke:#1f77b4;\" x=\"56.284818\" xlink:href=\"#ma3f9b2ed28\" y=\"213.166169\"/>\n     <use style=\"fill:#1f77b4;stroke:#1f77b4;\" x=\"104.843209\" xlink:href=\"#ma3f9b2ed28\" y=\"182.152761\"/>\n     <use style=\"fill:#1f77b4;stroke:#1f77b4;\" x=\"54.918544\" xlink:href=\"#ma3f9b2ed28\" y=\"213.13304\"/>\n     <use style=\"fill:#1f77b4;stroke:#1f77b4;\" x=\"56.344115\" xlink:href=\"#ma3f9b2ed28\" y=\"190.537909\"/>\n     <use style=\"fill:#1f77b4;stroke:#1f77b4;\" x=\"60.600803\" xlink:href=\"#ma3f9b2ed28\" y=\"214.574154\"/>\n     <use style=\"fill:#1f77b4;stroke:#1f77b4;\" x=\"66.454451\" xlink:href=\"#ma3f9b2ed28\" y=\"214.656977\"/>\n     <use style=\"fill:#1f77b4;stroke:#1f77b4;\" x=\"55.373652\" xlink:href=\"#ma3f9b2ed28\" y=\"214.703357\"/>\n     <use style=\"fill:#1f77b4;stroke:#1f77b4;\" x=\"58.963507\" xlink:href=\"#ma3f9b2ed28\" y=\"143.050052\"/>\n     <use style=\"fill:#1f77b4;stroke:#1f77b4;\" x=\"56.31633\" xlink:href=\"#ma3f9b2ed28\" y=\"214.664339\"/>\n     <use style=\"fill:#1f77b4;stroke:#1f77b4;\" x=\"56.292693\" xlink:href=\"#ma3f9b2ed28\" y=\"214.738695\"/>\n     <use style=\"fill:#1f77b4;stroke:#1f77b4;\" x=\"57.955797\" xlink:href=\"#ma3f9b2ed28\" y=\"214.723235\"/>\n     <use style=\"fill:#1f77b4;stroke:#1f77b4;\" x=\"61.766259\" xlink:href=\"#ma3f9b2ed28\" y=\"211.443459\"/>\n     <use style=\"fill:#1f77b4;stroke:#1f77b4;\" x=\"55.524212\" xlink:href=\"#ma3f9b2ed28\" y=\"214.358815\"/>\n     <use style=\"fill:#1f77b4;stroke:#1f77b4;\" x=\"64.349379\" xlink:href=\"#ma3f9b2ed28\" y=\"213.629976\"/>\n     <use style=\"fill:#1f77b4;stroke:#1f77b4;\" x=\"84.176241\" xlink:href=\"#ma3f9b2ed28\" y=\"212.718927\"/>\n     <use style=\"fill:#1f77b4;stroke:#1f77b4;\" x=\"61.254387\" xlink:href=\"#ma3f9b2ed28\" y=\"214.284751\"/>\n     <use style=\"fill:#1f77b4;stroke:#1f77b4;\" x=\"80.11738\" xlink:href=\"#ma3f9b2ed28\" y=\"210.847136\"/>\n     <use style=\"fill:#1f77b4;stroke:#1f77b4;\" x=\"61.610762\" xlink:href=\"#ma3f9b2ed28\" y=\"212.92835\"/>\n     <use style=\"fill:#1f77b4;stroke:#1f77b4;\" x=\"54.924161\" xlink:href=\"#ma3f9b2ed28\" y=\"214.753051\"/>\n     <use style=\"fill:#1f77b4;stroke:#1f77b4;\" x=\"56.436296\" xlink:href=\"#ma3f9b2ed28\" y=\"210.751629\"/>\n     <use style=\"fill:#1f77b4;stroke:#1f77b4;\" x=\"57.914452\" xlink:href=\"#ma3f9b2ed28\" y=\"214.739799\"/>\n     <use style=\"fill:#1f77b4;stroke:#1f77b4;\" x=\"56.366136\" xlink:href=\"#ma3f9b2ed28\" y=\"214.648694\"/>\n     <use style=\"fill:#1f77b4;stroke:#1f77b4;\" x=\"56.371306\" xlink:href=\"#ma3f9b2ed28\" y=\"214.709469\"/>\n     <use style=\"fill:#1f77b4;stroke:#1f77b4;\" x=\"55.118061\" xlink:href=\"#ma3f9b2ed28\" y=\"214.402987\"/>\n     <use style=\"fill:#1f77b4;stroke:#1f77b4;\" x=\"100.839793\" xlink:href=\"#ma3f9b2ed28\" y=\"209.54268\"/>\n     <use style=\"fill:#1f77b4;stroke:#1f77b4;\" x=\"55.817354\" xlink:href=\"#ma3f9b2ed28\" y=\"214.746898\"/>\n     <use style=\"fill:#1f77b4;stroke:#1f77b4;\" x=\"61.421579\" xlink:href=\"#ma3f9b2ed28\" y=\"214.656977\"/>\n     <use style=\"fill:#1f77b4;stroke:#1f77b4;\" x=\"71.70325\" xlink:href=\"#ma3f9b2ed28\" y=\"211.012782\"/>\n     <use style=\"fill:#1f77b4;stroke:#1f77b4;\" x=\"65.174998\" xlink:href=\"#ma3f9b2ed28\" y=\"213.121997\"/>\n     <use style=\"fill:#1f77b4;stroke:#1f77b4;\" x=\"163.777033\" xlink:href=\"#ma3f9b2ed28\" y=\"205.91712\"/>\n     <use style=\"fill:#1f77b4;stroke:#1f77b4;\" x=\"66.486093\" xlink:href=\"#ma3f9b2ed28\" y=\"214.711188\"/>\n     <use style=\"fill:#1f77b4;stroke:#1f77b4;\" x=\"54.918544\" xlink:href=\"#ma3f9b2ed28\" y=\"214.748081\"/>\n     <use style=\"fill:#1f77b4;stroke:#1f77b4;\" x=\"56.88157\" xlink:href=\"#ma3f9b2ed28\" y=\"214.629871\"/>\n     <use style=\"fill:#1f77b4;stroke:#1f77b4;\" x=\"84.236247\" xlink:href=\"#ma3f9b2ed28\" y=\"210.724086\"/>\n     <use style=\"fill:#1f77b4;stroke:#1f77b4;\" x=\"67.55114\" xlink:href=\"#ma3f9b2ed28\" y=\"212.006653\"/>\n     <use style=\"fill:#1f77b4;stroke:#1f77b4;\" x=\"59.710438\" xlink:href=\"#ma3f9b2ed28\" y=\"214.720157\"/>\n     <use style=\"fill:#1f77b4;stroke:#1f77b4;\" x=\"69.660352\" xlink:href=\"#ma3f9b2ed28\" y=\"213.398073\"/>\n     <use style=\"fill:#1f77b4;stroke:#1f77b4;\" x=\"55.915247\" xlink:href=\"#ma3f9b2ed28\" y=\"213.563718\"/>\n     <use style=\"fill:#1f77b4;stroke:#1f77b4;\" x=\"59.918826\" xlink:href=\"#ma3f9b2ed28\" y=\"214.656977\"/>\n     <use style=\"fill:#1f77b4;stroke:#1f77b4;\" x=\"59.436183\" xlink:href=\"#ma3f9b2ed28\" y=\"214.41165\"/>\n     <use style=\"fill:#1f77b4;stroke:#1f77b4;\" x=\"56.972393\" xlink:href=\"#ma3f9b2ed28\" y=\"213.210342\"/>\n     <use style=\"fill:#1f77b4;stroke:#1f77b4;\" x=\"56.066158\" xlink:href=\"#ma3f9b2ed28\" y=\"214.515796\"/>\n     <use style=\"fill:#1f77b4;stroke:#1f77b4;\" x=\"57.360201\" xlink:href=\"#ma3f9b2ed28\" y=\"214.756364\"/>\n     <use style=\"fill:#1f77b4;stroke:#1f77b4;\" x=\"54.967061\" xlink:href=\"#ma3f9b2ed28\" y=\"214.590718\"/>\n     <use style=\"fill:#1f77b4;stroke:#1f77b4;\" x=\"92.347619\" xlink:href=\"#ma3f9b2ed28\" y=\"208.163684\"/>\n     <use style=\"fill:#1f77b4;stroke:#1f77b4;\" x=\"82.668693\" xlink:href=\"#ma3f9b2ed28\" y=\"71.502825\"/>\n     <use style=\"fill:#1f77b4;stroke:#1f77b4;\" x=\"130.340702\" xlink:href=\"#ma3f9b2ed28\" y=\"188.782124\"/>\n     <use style=\"fill:#1f77b4;stroke:#1f77b4;\" x=\"65.527402\" xlink:href=\"#ma3f9b2ed28\" y=\"213.570344\"/>\n     <use style=\"fill:#1f77b4;stroke:#1f77b4;\" x=\"55.211227\" xlink:href=\"#ma3f9b2ed28\" y=\"214.723235\"/>\n     <use style=\"fill:#1f77b4;stroke:#1f77b4;\" x=\"56.507779\" xlink:href=\"#ma3f9b2ed28\" y=\"196.248856\"/>\n     <use style=\"fill:#1f77b4;stroke:#1f77b4;\" x=\"57.489524\" xlink:href=\"#ma3f9b2ed28\" y=\"212.043463\"/>\n     <use style=\"fill:#1f77b4;stroke:#1f77b4;\" x=\"55.313499\" xlink:href=\"#ma3f9b2ed28\" y=\"214.546546\"/>\n     <use style=\"fill:#1f77b4;stroke:#1f77b4;\" x=\"80.43243\" xlink:href=\"#ma3f9b2ed28\" y=\"107.539472\"/>\n     <use style=\"fill:#1f77b4;stroke:#1f77b4;\" x=\"61.283465\" xlink:href=\"#ma3f9b2ed28\" y=\"214.723235\"/>\n     <use style=\"fill:#1f77b4;stroke:#1f77b4;\" x=\"90.518327\" xlink:href=\"#ma3f9b2ed28\" y=\"207.633619\"/>\n     <use style=\"fill:#1f77b4;stroke:#1f77b4;\" x=\"132.981698\" xlink:href=\"#ma3f9b2ed28\" y=\"208.660619\"/>\n     <use style=\"fill:#1f77b4;stroke:#1f77b4;\" x=\"59.4432\" xlink:href=\"#ma3f9b2ed28\" y=\"214.731517\"/>\n     <use style=\"fill:#1f77b4;stroke:#1f77b4;\" x=\"55.635221\" xlink:href=\"#ma3f9b2ed28\" y=\"115.137326\"/>\n     <use style=\"fill:#1f77b4;stroke:#1f77b4;\" x=\"56.455736\" xlink:href=\"#ma3f9b2ed28\" y=\"214.694312\"/>\n     <use style=\"fill:#1f77b4;stroke:#1f77b4;\" x=\"58.421616\" xlink:href=\"#ma3f9b2ed28\" y=\"214.70483\"/>\n     <use style=\"fill:#1f77b4;stroke:#1f77b4;\" x=\"59.588279\" xlink:href=\"#ma3f9b2ed28\" y=\"214.756364\"/>\n     <use style=\"fill:#1f77b4;stroke:#1f77b4;\" x=\"82.099605\" xlink:href=\"#ma3f9b2ed28\" y=\"209.195417\"/>\n     <use style=\"fill:#1f77b4;stroke:#1f77b4;\" x=\"63.258676\" xlink:href=\"#ma3f9b2ed28\" y=\"214.517835\"/>\n     <use style=\"fill:#1f77b4;stroke:#1f77b4;\" x=\"55.452281\" xlink:href=\"#ma3f9b2ed28\" y=\"214.74394\"/>\n     <use style=\"fill:#1f77b4;stroke:#1f77b4;\" x=\"61.183267\" xlink:href=\"#ma3f9b2ed28\" y=\"214.723235\"/>\n     <use style=\"fill:#1f77b4;stroke:#1f77b4;\" x=\"59.248336\" xlink:href=\"#ma3f9b2ed28\" y=\"210.134862\"/>\n     <use style=\"fill:#1f77b4;stroke:#1f77b4;\" x=\"58.765605\" xlink:href=\"#ma3f9b2ed28\" y=\"211.476588\"/>\n     <use style=\"fill:#1f77b4;stroke:#1f77b4;\" x=\"60.23095\" xlink:href=\"#ma3f9b2ed28\" y=\"213.563718\"/>\n     <use style=\"fill:#1f77b4;stroke:#1f77b4;\" x=\"57.402353\" xlink:href=\"#ma3f9b2ed28\" y=\"113.162984\"/>\n     <use style=\"fill:#1f77b4;stroke:#1f77b4;\" x=\"61.059602\" xlink:href=\"#ma3f9b2ed28\" y=\"213.596847\"/>\n     <use style=\"fill:#1f77b4;stroke:#1f77b4;\" x=\"58.802098\" xlink:href=\"#ma3f9b2ed28\" y=\"214.656977\"/>\n     <use style=\"fill:#1f77b4;stroke:#1f77b4;\" x=\"64.775087\" xlink:href=\"#ma3f9b2ed28\" y=\"212.437331\"/>\n     <use style=\"fill:#1f77b4;stroke:#1f77b4;\" x=\"55.319018\" xlink:href=\"#ma3f9b2ed28\" y=\"214.756364\"/>\n     <use style=\"fill:#1f77b4;stroke:#1f77b4;\" x=\"85.956911\" xlink:href=\"#ma3f9b2ed28\" y=\"211.609104\"/>\n     <use style=\"fill:#1f77b4;stroke:#1f77b4;\" x=\"125.16565\" xlink:href=\"#ma3f9b2ed28\" y=\"202.66816\"/>\n     <use style=\"fill:#1f77b4;stroke:#1f77b4;\" x=\"56.06818\" xlink:href=\"#ma3f9b2ed28\" y=\"214.541025\"/>\n     <use style=\"fill:#1f77b4;stroke:#1f77b4;\" x=\"62.660021\" xlink:href=\"#ma3f9b2ed28\" y=\"213.82875\"/>\n     <use style=\"fill:#1f77b4;stroke:#1f77b4;\" x=\"55.149169\" xlink:href=\"#ma3f9b2ed28\" y=\"214.249579\"/>\n     <use style=\"fill:#1f77b4;stroke:#1f77b4;\" x=\"69.779262\" xlink:href=\"#ma3f9b2ed28\" y=\"214.088261\"/>\n     <use style=\"fill:#1f77b4;stroke:#1f77b4;\" x=\"126.157379\" xlink:href=\"#ma3f9b2ed28\" y=\"214.290872\"/>\n     <use style=\"fill:#1f77b4;stroke:#1f77b4;\" x=\"56.613167\" xlink:href=\"#ma3f9b2ed28\" y=\"214.712192\"/>\n     <use style=\"fill:#1f77b4;stroke:#1f77b4;\" x=\"62.705163\" xlink:href=\"#ma3f9b2ed28\" y=\"212.139169\"/>\n     <use style=\"fill:#1f77b4;stroke:#1f77b4;\" x=\"59.778128\" xlink:href=\"#ma3f9b2ed28\" y=\"213.596847\"/>\n     <use style=\"fill:#1f77b4;stroke:#1f77b4;\" x=\"55.689824\" xlink:href=\"#ma3f9b2ed28\" y=\"213.140836\"/>\n     <use style=\"fill:#1f77b4;stroke:#1f77b4;\" x=\"56.122867\" xlink:href=\"#ma3f9b2ed28\" y=\"214.723235\"/>\n     <use style=\"fill:#1f77b4;stroke:#1f77b4;\" x=\"55.597209\" xlink:href=\"#ma3f9b2ed28\" y=\"206.988707\"/>\n     <use style=\"fill:#1f77b4;stroke:#1f77b4;\" x=\"55.127812\" xlink:href=\"#ma3f9b2ed28\" y=\"214.698388\"/>\n     <use style=\"fill:#1f77b4;stroke:#1f77b4;\" x=\"94.155785\" xlink:href=\"#ma3f9b2ed28\" y=\"203.797276\"/>\n     <use style=\"fill:#1f77b4;stroke:#1f77b4;\" x=\"74.679718\" xlink:href=\"#ma3f9b2ed28\" y=\"214.323615\"/>\n     <use style=\"fill:#1f77b4;stroke:#1f77b4;\" x=\"101.583727\" xlink:href=\"#ma3f9b2ed28\" y=\"214.723235\"/>\n     <use style=\"fill:#1f77b4;stroke:#1f77b4;\" x=\"60.575911\" xlink:href=\"#ma3f9b2ed28\" y=\"195.442131\"/>\n     <use style=\"fill:#1f77b4;stroke:#1f77b4;\" x=\"110.871882\" xlink:href=\"#ma3f9b2ed28\" y=\"212.148879\"/>\n     <use style=\"fill:#1f77b4;stroke:#1f77b4;\" x=\"77.401038\" xlink:href=\"#ma3f9b2ed28\" y=\"214.756364\"/>\n     <use style=\"fill:#1f77b4;stroke:#1f77b4;\" x=\"60.546494\" xlink:href=\"#ma3f9b2ed28\" y=\"213.537491\"/>\n     <use style=\"fill:#1f77b4;stroke:#1f77b4;\" x=\"58.675207\" xlink:href=\"#ma3f9b2ed28\" y=\"214.725546\"/>\n     <use style=\"fill:#1f77b4;stroke:#1f77b4;\" x=\"54.960258\" xlink:href=\"#ma3f9b2ed28\" y=\"214.756364\"/>\n     <use style=\"fill:#1f77b4;stroke:#1f77b4;\" x=\"65.274388\" xlink:href=\"#ma3f9b2ed28\" y=\"214.344138\"/>\n     <use style=\"fill:#1f77b4;stroke:#1f77b4;\" x=\"56.334434\" xlink:href=\"#ma3f9b2ed28\" y=\"199.897716\"/>\n     <use style=\"fill:#1f77b4;stroke:#1f77b4;\" x=\"54.998702\" xlink:href=\"#ma3f9b2ed28\" y=\"214.590718\"/>\n     <use style=\"fill:#1f77b4;stroke:#1f77b4;\" x=\"59.330208\" xlink:href=\"#ma3f9b2ed28\" y=\"214.031846\"/>\n     <use style=\"fill:#1f77b4;stroke:#1f77b4;\" x=\"58.375361\" xlink:href=\"#ma3f9b2ed28\" y=\"214.695627\"/>\n     <use style=\"fill:#1f77b4;stroke:#1f77b4;\" x=\"72.487948\" xlink:href=\"#ma3f9b2ed28\" y=\"214.14121\"/>\n     <use style=\"fill:#1f77b4;stroke:#1f77b4;\" x=\"147.188896\" xlink:href=\"#ma3f9b2ed28\" y=\"195.974266\"/>\n     <use style=\"fill:#1f77b4;stroke:#1f77b4;\" x=\"54.957661\" xlink:href=\"#ma3f9b2ed28\" y=\"214.714952\"/>\n     <use style=\"fill:#1f77b4;stroke:#1f77b4;\" x=\"56.561257\" xlink:href=\"#ma3f9b2ed28\" y=\"214.679063\"/>\n     <use style=\"fill:#1f77b4;stroke:#1f77b4;\" x=\"63.513336\" xlink:href=\"#ma3f9b2ed28\" y=\"214.756364\"/>\n     <use style=\"fill:#1f77b4;stroke:#1f77b4;\" x=\"56.712543\" xlink:href=\"#ma3f9b2ed28\" y=\"214.739799\"/>\n     <use style=\"fill:#1f77b4;stroke:#1f77b4;\" x=\"64.019755\" xlink:href=\"#ma3f9b2ed28\" y=\"214.723235\"/>\n     <use style=\"fill:#1f77b4;stroke:#1f77b4;\" x=\"60.884188\" xlink:href=\"#ma3f9b2ed28\" y=\"214.571788\"/>\n     <use style=\"fill:#1f77b4;stroke:#1f77b4;\" x=\"55.429752\" xlink:href=\"#ma3f9b2ed28\" y=\"214.539335\"/>\n     <use style=\"fill:#1f77b4;stroke:#1f77b4;\" x=\"128.631013\" xlink:href=\"#ma3f9b2ed28\" y=\"198.721906\"/>\n     <use style=\"fill:#1f77b4;stroke:#1f77b4;\" x=\"55.676463\" xlink:href=\"#ma3f9b2ed28\" y=\"213.792715\"/>\n     <use style=\"fill:#1f77b4;stroke:#1f77b4;\" x=\"132.974295\" xlink:href=\"#ma3f9b2ed28\" y=\"190.834645\"/>\n     <use style=\"fill:#1f77b4;stroke:#1f77b4;\" x=\"54.977714\" xlink:href=\"#ma3f9b2ed28\" y=\"214.391944\"/>\n     <use style=\"fill:#1f77b4;stroke:#1f77b4;\" x=\"55.428497\" xlink:href=\"#ma3f9b2ed28\" y=\"214.259428\"/>\n     <use style=\"fill:#1f77b4;stroke:#1f77b4;\" x=\"65.887386\" xlink:href=\"#ma3f9b2ed28\" y=\"214.756364\"/>\n     <use style=\"fill:#1f77b4;stroke:#1f77b4;\" x=\"55.461391\" xlink:href=\"#ma3f9b2ed28\" y=\"214.322137\"/>\n     <use style=\"fill:#1f77b4;stroke:#1f77b4;\" x=\"55.13186\" xlink:href=\"#ma3f9b2ed28\" y=\"214.756364\"/>\n     <use style=\"fill:#1f77b4;stroke:#1f77b4;\" x=\"57.21122\" xlink:href=\"#ma3f9b2ed28\" y=\"214.629369\"/>\n     <use style=\"fill:#1f77b4;stroke:#1f77b4;\" x=\"229.753252\" xlink:href=\"#ma3f9b2ed28\" y=\"214.556447\"/>\n     <use style=\"fill:#1f77b4;stroke:#1f77b4;\" x=\"54.968116\" xlink:href=\"#ma3f9b2ed28\" y=\"214.723235\"/>\n     <use style=\"fill:#1f77b4;stroke:#1f77b4;\" x=\"56.11401\" xlink:href=\"#ma3f9b2ed28\" y=\"204.915721\"/>\n     <use style=\"fill:#1f77b4;stroke:#1f77b4;\" x=\"55.019269\" xlink:href=\"#ma3f9b2ed28\" y=\"214.259428\"/>\n     <use style=\"fill:#1f77b4;stroke:#1f77b4;\" x=\"55.42006\" xlink:href=\"#ma3f9b2ed28\" y=\"213.364944\"/>\n     <use style=\"fill:#1f77b4;stroke:#1f77b4;\" x=\"57.454115\" xlink:href=\"#ma3f9b2ed28\" y=\"212.761719\"/>\n     <use style=\"fill:#1f77b4;stroke:#1f77b4;\" x=\"60.795468\" xlink:href=\"#ma3f9b2ed28\" y=\"213.986113\"/>\n     <use style=\"fill:#1f77b4;stroke:#1f77b4;\" x=\"61.443833\" xlink:href=\"#ma3f9b2ed28\" y=\"212.717823\"/>\n     <use style=\"fill:#1f77b4;stroke:#1f77b4;\" x=\"55.082499\" xlink:href=\"#ma3f9b2ed28\" y=\"212.834879\"/>\n     <use style=\"fill:#1f77b4;stroke:#1f77b4;\" x=\"63.401853\" xlink:href=\"#ma3f9b2ed28\" y=\"213.298686\"/>\n     <use style=\"fill:#1f77b4;stroke:#1f77b4;\" x=\"60.053407\" xlink:href=\"#ma3f9b2ed28\" y=\"214.756364\"/>\n     <use style=\"fill:#1f77b4;stroke:#1f77b4;\" x=\"55.198763\" xlink:href=\"#ma3f9b2ed28\" y=\"214.327635\"/>\n     <use style=\"fill:#1f77b4;stroke:#1f77b4;\" x=\"171.317634\" xlink:href=\"#ma3f9b2ed28\" y=\"125.228693\"/>\n     <use style=\"fill:#1f77b4;stroke:#1f77b4;\" x=\"66.796811\" xlink:href=\"#ma3f9b2ed28\" y=\"213.596847\"/>\n     <use style=\"fill:#1f77b4;stroke:#1f77b4;\" x=\"116.119972\" xlink:href=\"#ma3f9b2ed28\" y=\"202.995553\"/>\n     <use style=\"fill:#1f77b4;stroke:#1f77b4;\" x=\"89.542262\" xlink:href=\"#ma3f9b2ed28\" y=\"214.031206\"/>\n     <use style=\"fill:#1f77b4;stroke:#1f77b4;\" x=\"59.588279\" xlink:href=\"#ma3f9b2ed28\" y=\"214.391944\"/>\n     <use style=\"fill:#1f77b4;stroke:#1f77b4;\" x=\"61.909067\" xlink:href=\"#ma3f9b2ed28\" y=\"213.587103\"/>\n     <use style=\"fill:#1f77b4;stroke:#1f77b4;\" x=\"75.98789\" xlink:href=\"#ma3f9b2ed28\" y=\"214.383662\"/>\n     <use style=\"fill:#1f77b4;stroke:#1f77b4;\" x=\"55.222499\" xlink:href=\"#ma3f9b2ed28\" y=\"214.549307\"/>\n     <use style=\"fill:#1f77b4;stroke:#1f77b4;\" x=\"58.525658\" xlink:href=\"#ma3f9b2ed28\" y=\"214.723235\"/>\n     <use style=\"fill:#1f77b4;stroke:#1f77b4;\" x=\"55.232189\" xlink:href=\"#ma3f9b2ed28\" y=\"214.745321\"/>\n     <use style=\"fill:#1f77b4;stroke:#1f77b4;\" x=\"54.989605\" xlink:href=\"#ma3f9b2ed28\" y=\"214.739799\"/>\n     <use style=\"fill:#1f77b4;stroke:#1f77b4;\" x=\"70.879113\" xlink:href=\"#ma3f9b2ed28\" y=\"209.347127\"/>\n     <use style=\"fill:#1f77b4;stroke:#1f77b4;\" x=\"65.75804\" xlink:href=\"#ma3f9b2ed28\" y=\"213.275022\"/>\n     <use style=\"fill:#1f77b4;stroke:#1f77b4;\" x=\"57.896745\" xlink:href=\"#ma3f9b2ed28\" y=\"214.749002\"/>\n     <use style=\"fill:#1f77b4;stroke:#1f77b4;\" x=\"56.899503\" xlink:href=\"#ma3f9b2ed28\" y=\"213.254514\"/>\n     <use style=\"fill:#1f77b4;stroke:#1f77b4;\" x=\"55.94491\" xlink:href=\"#ma3f9b2ed28\" y=\"213.712799\"/>\n     <use style=\"fill:#1f77b4;stroke:#1f77b4;\" x=\"57.79352\" xlink:href=\"#ma3f9b2ed28\" y=\"203.438277\"/>\n     <use style=\"fill:#1f77b4;stroke:#1f77b4;\" x=\"76.188277\" xlink:href=\"#ma3f9b2ed28\" y=\"209.485533\"/>\n     <use style=\"fill:#1f77b4;stroke:#1f77b4;\" x=\"64.52665\" xlink:href=\"#ma3f9b2ed28\" y=\"214.756364\"/>\n     <use style=\"fill:#1f77b4;stroke:#1f77b4;\" x=\"57.678408\" xlink:href=\"#ma3f9b2ed28\" y=\"213.994396\"/>\n     <use style=\"fill:#1f77b4;stroke:#1f77b4;\" x=\"68.920253\" xlink:href=\"#ma3f9b2ed28\" y=\"211.554994\"/>\n     <use style=\"fill:#1f77b4;stroke:#1f77b4;\" x=\"60.008516\" xlink:href=\"#ma3f9b2ed28\" y=\"214.710811\"/>\n     <use style=\"fill:#1f77b4;stroke:#1f77b4;\" x=\"64.977433\" xlink:href=\"#ma3f9b2ed28\" y=\"212.315857\"/>\n     <use style=\"fill:#1f77b4;stroke:#1f77b4;\" x=\"61.434025\" xlink:href=\"#ma3f9b2ed28\" y=\"214.756364\"/>\n     <use style=\"fill:#1f77b4;stroke:#1f77b4;\" x=\"56.240655\" xlink:href=\"#ma3f9b2ed28\" y=\"211.028134\"/>\n     <use style=\"fill:#1f77b4;stroke:#1f77b4;\" x=\"62.029711\" xlink:href=\"#ma3f9b2ed28\" y=\"214.666442\"/>\n     <use style=\"fill:#1f77b4;stroke:#1f77b4;\" x=\"67.535531\" xlink:href=\"#ma3f9b2ed28\" y=\"211.476588\"/>\n     <use style=\"fill:#1f77b4;stroke:#1f77b4;\" x=\"80.22407\" xlink:href=\"#ma3f9b2ed28\" y=\"172.022657\"/>\n     <use style=\"fill:#1f77b4;stroke:#1f77b4;\" x=\"56.096682\" xlink:href=\"#ma3f9b2ed28\" y=\"214.120949\"/>\n     <use style=\"fill:#1f77b4;stroke:#1f77b4;\" x=\"64.993676\" xlink:href=\"#ma3f9b2ed28\" y=\"214.698388\"/>\n     <use style=\"fill:#1f77b4;stroke:#1f77b4;\" x=\"78.242794\" xlink:href=\"#ma3f9b2ed28\" y=\"213.940184\"/>\n     <use style=\"fill:#1f77b4;stroke:#1f77b4;\" x=\"64.347665\" xlink:href=\"#ma3f9b2ed28\" y=\"214.756364\"/>\n     <use style=\"fill:#1f77b4;stroke:#1f77b4;\" x=\"58.235876\" xlink:href=\"#ma3f9b2ed28\" y=\"214.70667\"/>\n     <use style=\"fill:#1f77b4;stroke:#1f77b4;\" x=\"75.209234\" xlink:href=\"#ma3f9b2ed28\" y=\"214.733173\"/>\n     <use style=\"fill:#1f77b4;stroke:#1f77b4;\" x=\"58.537787\" xlink:href=\"#ma3f9b2ed28\" y=\"213.795621\"/>\n     <use style=\"fill:#1f77b4;stroke:#1f77b4;\" x=\"58.429158\" xlink:href=\"#ma3f9b2ed28\" y=\"210.1579\"/>\n     <use style=\"fill:#1f77b4;stroke:#1f77b4;\" x=\"55.599888\" xlink:href=\"#ma3f9b2ed28\" y=\"214.690106\"/>\n     <use style=\"fill:#1f77b4;stroke:#1f77b4;\" x=\"58.173806\" xlink:href=\"#ma3f9b2ed28\" y=\"211.22812\"/>\n     <use style=\"fill:#1f77b4;stroke:#1f77b4;\" x=\"75.595814\" xlink:href=\"#ma3f9b2ed28\" y=\"207.60049\"/>\n     <use style=\"fill:#1f77b4;stroke:#1f77b4;\" x=\"55.290119\" xlink:href=\"#ma3f9b2ed28\" y=\"210.01891\"/>\n     <use style=\"fill:#1f77b4;stroke:#1f77b4;\" x=\"55.507684\" xlink:href=\"#ma3f9b2ed28\" y=\"213.926394\"/>\n     <use style=\"fill:#1f77b4;stroke:#1f77b4;\" x=\"55.972521\" xlink:href=\"#ma3f9b2ed28\" y=\"209.805077\"/>\n     <use style=\"fill:#1f77b4;stroke:#1f77b4;\" x=\"56.404879\" xlink:href=\"#ma3f9b2ed28\" y=\"214.660658\"/>\n     <use style=\"fill:#1f77b4;stroke:#1f77b4;\" x=\"62.126548\" xlink:href=\"#ma3f9b2ed28\" y=\"213.000524\"/>\n     <use style=\"fill:#1f77b4;stroke:#1f77b4;\" x=\"61.898098\" xlink:href=\"#ma3f9b2ed28\" y=\"214.723235\"/>\n     <use style=\"fill:#1f77b4;stroke:#1f77b4;\" x=\"58.359889\" xlink:href=\"#ma3f9b2ed28\" y=\"214.527773\"/>\n     <use style=\"fill:#1f77b4;stroke:#1f77b4;\" x=\"72.539609\" xlink:href=\"#ma3f9b2ed28\" y=\"213.563718\"/>\n     <use style=\"fill:#1f77b4;stroke:#1f77b4;\" x=\"84.231034\" xlink:href=\"#ma3f9b2ed28\" y=\"212.06877\"/>\n     <use style=\"fill:#1f77b4;stroke:#1f77b4;\" x=\"60.59712\" xlink:href=\"#ma3f9b2ed28\" y=\"214.32679\"/>\n     <use style=\"fill:#1f77b4;stroke:#1f77b4;\" x=\"62.405018\" xlink:href=\"#ma3f9b2ed28\" y=\"214.731517\"/>\n     <use style=\"fill:#1f77b4;stroke:#1f77b4;\" x=\"56.625068\" xlink:href=\"#ma3f9b2ed28\" y=\"214.690106\"/>\n     <use style=\"fill:#1f77b4;stroke:#1f77b4;\" x=\"60.216624\" xlink:href=\"#ma3f9b2ed28\" y=\"212.967395\"/>\n     <use style=\"fill:#1f77b4;stroke:#1f77b4;\" x=\"65.953463\" xlink:href=\"#ma3f9b2ed28\" y=\"213.364944\"/>\n     <use style=\"fill:#1f77b4;stroke:#1f77b4;\" x=\"55.348339\" xlink:href=\"#ma3f9b2ed28\" y=\"214.656977\"/>\n     <use style=\"fill:#1f77b4;stroke:#1f77b4;\" x=\"89.401994\" xlink:href=\"#ma3f9b2ed28\" y=\"214.714952\"/>\n     <use style=\"fill:#1f77b4;stroke:#1f77b4;\" x=\"55.535445\" xlink:href=\"#ma3f9b2ed28\" y=\"214.68348\"/>\n     <use style=\"fill:#1f77b4;stroke:#1f77b4;\" x=\"73.405739\" xlink:href=\"#ma3f9b2ed28\" y=\"214.756364\"/>\n     <use style=\"fill:#1f77b4;stroke:#1f77b4;\" x=\"68.73131\" xlink:href=\"#ma3f9b2ed28\" y=\"212.496963\"/>\n     <use style=\"fill:#1f77b4;stroke:#1f77b4;\" x=\"60.647632\" xlink:href=\"#ma3f9b2ed28\" y=\"213.596847\"/>\n     <use style=\"fill:#1f77b4;stroke:#1f77b4;\" x=\"55.492649\" xlink:href=\"#ma3f9b2ed28\" y=\"213.121348\"/>\n     <use style=\"fill:#1f77b4;stroke:#1f77b4;\" x=\"75.83861\" xlink:href=\"#ma3f9b2ed28\" y=\"210.87364\"/>\n     <use style=\"fill:#1f77b4;stroke:#1f77b4;\" x=\"62.65749\" xlink:href=\"#ma3f9b2ed28\" y=\"213.928138\"/>\n     <use style=\"fill:#1f77b4;stroke:#1f77b4;\" x=\"95.751555\" xlink:href=\"#ma3f9b2ed28\" y=\"206.971038\"/>\n     <use style=\"fill:#1f77b4;stroke:#1f77b4;\" x=\"56.958583\" xlink:href=\"#ma3f9b2ed28\" y=\"210.770839\"/>\n     <use style=\"fill:#1f77b4;stroke:#1f77b4;\" x=\"55.569987\" xlink:href=\"#ma3f9b2ed28\" y=\"214.723235\"/>\n     <use style=\"fill:#1f77b4;stroke:#1f77b4;\" x=\"59.2269\" xlink:href=\"#ma3f9b2ed28\" y=\"214.67078\"/>\n     <use style=\"fill:#1f77b4;stroke:#1f77b4;\" x=\"55.582485\" xlink:href=\"#ma3f9b2ed28\" y=\"214.656977\"/>\n     <use style=\"fill:#1f77b4;stroke:#1f77b4;\" x=\"65.31415\" xlink:href=\"#ma3f9b2ed28\" y=\"212.785185\"/>\n     <use style=\"fill:#1f77b4;stroke:#1f77b4;\" x=\"74.825192\" xlink:href=\"#ma3f9b2ed28\" y=\"214.280314\"/>\n     <use style=\"fill:#1f77b4;stroke:#1f77b4;\" x=\"55.112027\" xlink:href=\"#ma3f9b2ed28\" y=\"214.703909\"/>\n     <use style=\"fill:#1f77b4;stroke:#1f77b4;\" x=\"65.734083\" xlink:href=\"#ma3f9b2ed28\" y=\"214.597344\"/>\n     <use style=\"fill:#1f77b4;stroke:#1f77b4;\" x=\"55.333649\" xlink:href=\"#ma3f9b2ed28\" y=\"214.720868\"/>\n     <use style=\"fill:#1f77b4;stroke:#1f77b4;\" x=\"102.615235\" xlink:href=\"#ma3f9b2ed28\" y=\"214.723235\"/>\n     <use style=\"fill:#1f77b4;stroke:#1f77b4;\" x=\"91.414199\" xlink:href=\"#ma3f9b2ed28\" y=\"201.455052\"/>\n     <use style=\"fill:#1f77b4;stroke:#1f77b4;\" x=\"56.165635\" xlink:href=\"#ma3f9b2ed28\" y=\"214.590718\"/>\n     <use style=\"fill:#1f77b4;stroke:#1f77b4;\" x=\"67.496137\" xlink:href=\"#ma3f9b2ed28\" y=\"214.656977\"/>\n     <use style=\"fill:#1f77b4;stroke:#1f77b4;\" x=\"66.439981\" xlink:href=\"#ma3f9b2ed28\" y=\"213.28887\"/>\n     <use style=\"fill:#1f77b4;stroke:#1f77b4;\" x=\"60.609451\" xlink:href=\"#ma3f9b2ed28\" y=\"213.364944\"/>\n     <use style=\"fill:#1f77b4;stroke:#1f77b4;\" x=\"102.29804\" xlink:href=\"#ma3f9b2ed28\" y=\"212.136157\"/>\n     <use style=\"fill:#1f77b4;stroke:#1f77b4;\" x=\"178.539687\" xlink:href=\"#ma3f9b2ed28\" y=\"189.849948\"/>\n     <use style=\"fill:#1f77b4;stroke:#1f77b4;\" x=\"63.284384\" xlink:href=\"#ma3f9b2ed28\" y=\"213.842554\"/>\n     <use style=\"fill:#1f77b4;stroke:#1f77b4;\" x=\"57.79527\" xlink:href=\"#ma3f9b2ed28\" y=\"213.961267\"/>\n     <use style=\"fill:#1f77b4;stroke:#1f77b4;\" x=\"60.194739\" xlink:href=\"#ma3f9b2ed28\" y=\"214.756364\"/>\n     <use style=\"fill:#1f77b4;stroke:#1f77b4;\" x=\"90.732328\" xlink:href=\"#ma3f9b2ed28\" y=\"214.756364\"/>\n     <use style=\"fill:#1f77b4;stroke:#1f77b4;\" x=\"56.214996\" xlink:href=\"#ma3f9b2ed28\" y=\"214.756364\"/>\n     <use style=\"fill:#1f77b4;stroke:#1f77b4;\" x=\"64.92262\" xlink:href=\"#ma3f9b2ed28\" y=\"211.222599\"/>\n     <use style=\"fill:#1f77b4;stroke:#1f77b4;\" x=\"60.413169\" xlink:href=\"#ma3f9b2ed28\" y=\"214.756364\"/>\n     <use style=\"fill:#1f77b4;stroke:#1f77b4;\" x=\"55.096052\" xlink:href=\"#ma3f9b2ed28\" y=\"214.756364\"/>\n     <use style=\"fill:#1f77b4;stroke:#1f77b4;\" x=\"98.317286\" xlink:href=\"#ma3f9b2ed28\" y=\"214.590718\"/>\n     <use style=\"fill:#1f77b4;stroke:#1f77b4;\" x=\"55.103767\" xlink:href=\"#ma3f9b2ed28\" y=\"213.223091\"/>\n     <use style=\"fill:#1f77b4;stroke:#1f77b4;\" x=\"55.565759\" xlink:href=\"#ma3f9b2ed28\" y=\"214.325686\"/>\n     <use style=\"fill:#1f77b4;stroke:#1f77b4;\" x=\"56.003421\" xlink:href=\"#ma3f9b2ed28\" y=\"214.425073\"/>\n     <use style=\"fill:#1f77b4;stroke:#1f77b4;\" x=\"55.155327\" xlink:href=\"#ma3f9b2ed28\" y=\"214.391944\"/>\n     <use style=\"fill:#1f77b4;stroke:#1f77b4;\" x=\"57.753292\" xlink:href=\"#ma3f9b2ed28\" y=\"214.270471\"/>\n     <use style=\"fill:#1f77b4;stroke:#1f77b4;\" x=\"55.787943\" xlink:href=\"#ma3f9b2ed28\" y=\"214.52446\"/>\n     <use style=\"fill:#1f77b4;stroke:#1f77b4;\" x=\"61.409634\" xlink:href=\"#ma3f9b2ed28\" y=\"214.754983\"/>\n     <use style=\"fill:#1f77b4;stroke:#1f77b4;\" x=\"94.575014\" xlink:href=\"#ma3f9b2ed28\" y=\"214.544626\"/>\n     <use style=\"fill:#1f77b4;stroke:#1f77b4;\" x=\"57.731987\" xlink:href=\"#ma3f9b2ed28\" y=\"214.656977\"/>\n     <use style=\"fill:#1f77b4;stroke:#1f77b4;\" x=\"61.505323\" xlink:href=\"#ma3f9b2ed28\" y=\"213.033653\"/>\n     <use style=\"fill:#1f77b4;stroke:#1f77b4;\" x=\"69.291625\" xlink:href=\"#ma3f9b2ed28\" y=\"214.656977\"/>\n     <use style=\"fill:#1f77b4;stroke:#1f77b4;\" x=\"69.969102\" xlink:href=\"#ma3f9b2ed28\" y=\"212.91218\"/>\n     <use style=\"fill:#1f77b4;stroke:#1f77b4;\" x=\"55.358675\" xlink:href=\"#ma3f9b2ed28\" y=\"213.762492\"/>\n     <use style=\"fill:#1f77b4;stroke:#1f77b4;\" x=\"83.635702\" xlink:href=\"#ma3f9b2ed28\" y=\"210.151426\"/>\n     <use style=\"fill:#1f77b4;stroke:#1f77b4;\" x=\"56.715578\" xlink:href=\"#ma3f9b2ed28\" y=\"214.674413\"/>\n     <use style=\"fill:#1f77b4;stroke:#1f77b4;\" x=\"64.102423\" xlink:href=\"#ma3f9b2ed28\" y=\"212.649909\"/>\n     <use style=\"fill:#1f77b4;stroke:#1f77b4;\" x=\"66.213566\" xlink:href=\"#ma3f9b2ed28\" y=\"210.71462\"/>\n     <use style=\"fill:#1f77b4;stroke:#1f77b4;\" x=\"55.364793\" xlink:href=\"#ma3f9b2ed28\" y=\"213.994396\"/>\n     <use style=\"fill:#1f77b4;stroke:#1f77b4;\" x=\"67.245485\" xlink:href=\"#ma3f9b2ed28\" y=\"214.577467\"/>\n     <use style=\"fill:#1f77b4;stroke:#1f77b4;\" x=\"55.776763\" xlink:href=\"#ma3f9b2ed28\" y=\"214.557589\"/>\n     <use style=\"fill:#1f77b4;stroke:#1f77b4;\" x=\"55.52764\" xlink:href=\"#ma3f9b2ed28\" y=\"214.756364\"/>\n     <use style=\"fill:#1f77b4;stroke:#1f77b4;\" x=\"78.8895\" xlink:href=\"#ma3f9b2ed28\" y=\"214.756364\"/>\n     <use style=\"fill:#1f77b4;stroke:#1f77b4;\" x=\"57.680465\" xlink:href=\"#ma3f9b2ed28\" y=\"214.646722\"/>\n     <use style=\"fill:#1f77b4;stroke:#1f77b4;\" x=\"112.005671\" xlink:href=\"#ma3f9b2ed28\" y=\"166.157141\"/>\n     <use style=\"fill:#1f77b4;stroke:#1f77b4;\" x=\"57.449852\" xlink:href=\"#ma3f9b2ed28\" y=\"214.679063\"/>\n     <use style=\"fill:#1f77b4;stroke:#1f77b4;\" x=\"59.586697\" xlink:href=\"#ma3f9b2ed28\" y=\"214.590718\"/>\n     <use style=\"fill:#1f77b4;stroke:#1f77b4;\" x=\"74.235054\" xlink:href=\"#ma3f9b2ed28\" y=\"213.263008\"/>\n     <use style=\"fill:#1f77b4;stroke:#1f77b4;\" x=\"198.984858\" xlink:href=\"#ma3f9b2ed28\" y=\"202.06794\"/>\n     <use style=\"fill:#1f77b4;stroke:#1f77b4;\" x=\"54.883211\" xlink:href=\"#ma3f9b2ed28\" y=\"214.656977\"/>\n     <use style=\"fill:#1f77b4;stroke:#1f77b4;\" x=\"71.09062\" xlink:href=\"#ma3f9b2ed28\" y=\"207.981474\"/>\n     <use style=\"fill:#1f77b4;stroke:#1f77b4;\" x=\"56.937204\" xlink:href=\"#ma3f9b2ed28\" y=\"214.737959\"/>\n     <use style=\"fill:#1f77b4;stroke:#1f77b4;\" x=\"55.702195\" xlink:href=\"#ma3f9b2ed28\" y=\"79.705813\"/>\n     <use style=\"fill:#1f77b4;stroke:#1f77b4;\" x=\"58.380635\" xlink:href=\"#ma3f9b2ed28\" y=\"214.756364\"/>\n     <use style=\"fill:#1f77b4;stroke:#1f77b4;\" x=\"55.371279\" xlink:href=\"#ma3f9b2ed28\" y=\"214.694838\"/>\n     <use style=\"fill:#1f77b4;stroke:#1f77b4;\" x=\"61.686733\" xlink:href=\"#ma3f9b2ed28\" y=\"213.928138\"/>\n     <use style=\"fill:#1f77b4;stroke:#1f77b4;\" x=\"65.12925\" xlink:href=\"#ma3f9b2ed28\" y=\"213.171691\"/>\n     <use style=\"fill:#1f77b4;stroke:#1f77b4;\" x=\"72.174503\" xlink:href=\"#ma3f9b2ed28\" y=\"214.184581\"/>\n     <use style=\"fill:#1f77b4;stroke:#1f77b4;\" x=\"73.821611\" xlink:href=\"#ma3f9b2ed28\" y=\"206.971038\"/>\n     <use style=\"fill:#1f77b4;stroke:#1f77b4;\" x=\"61.255581\" xlink:href=\"#ma3f9b2ed28\" y=\"213.712799\"/>\n     <use style=\"fill:#1f77b4;stroke:#1f77b4;\" x=\"56.319331\" xlink:href=\"#ma3f9b2ed28\" y=\"214.662498\"/>\n     <use style=\"fill:#1f77b4;stroke:#1f77b4;\" x=\"57.936043\" xlink:href=\"#ma3f9b2ed28\" y=\"214.752683\"/>\n     <use style=\"fill:#1f77b4;stroke:#1f77b4;\" x=\"60.379313\" xlink:href=\"#ma3f9b2ed28\" y=\"214.756364\"/>\n     <use style=\"fill:#1f77b4;stroke:#1f77b4;\" x=\"57.901057\" xlink:href=\"#ma3f9b2ed28\" y=\"208.362458\"/>\n     <use style=\"fill:#1f77b4;stroke:#1f77b4;\" x=\"56.876636\" xlink:href=\"#ma3f9b2ed28\" y=\"214.613354\"/>\n     <use style=\"fill:#1f77b4;stroke:#1f77b4;\" x=\"55.08598\" xlink:href=\"#ma3f9b2ed28\" y=\"214.756364\"/>\n     <use style=\"fill:#1f77b4;stroke:#1f77b4;\" x=\"55.06159\" xlink:href=\"#ma3f9b2ed28\" y=\"214.176605\"/>\n     <use style=\"fill:#1f77b4;stroke:#1f77b4;\" x=\"70.855657\" xlink:href=\"#ma3f9b2ed28\" y=\"212.229914\"/>\n     <use style=\"fill:#1f77b4;stroke:#1f77b4;\" x=\"74.157801\" xlink:href=\"#ma3f9b2ed28\" y=\"214.640412\"/>\n     <use style=\"fill:#1f77b4;stroke:#1f77b4;\" x=\"58.887755\" xlink:href=\"#ma3f9b2ed28\" y=\"214.12383\"/>\n     <use style=\"fill:#1f77b4;stroke:#1f77b4;\" x=\"55.830178\" xlink:href=\"#ma3f9b2ed28\" y=\"214.725689\"/>\n     <use style=\"fill:#1f77b4;stroke:#1f77b4;\" x=\"79.900643\" xlink:href=\"#ma3f9b2ed28\" y=\"204.293107\"/>\n     <use style=\"fill:#1f77b4;stroke:#1f77b4;\" x=\"55.279145\" xlink:href=\"#ma3f9b2ed28\" y=\"214.73227\"/>\n    </g>\n   </g>\n   <g id=\"matplotlib.axis_1\">\n    <g id=\"xtick_1\">\n     <g id=\"line2d_1\">\n      <defs>\n       <path d=\"M 0 0 \nL 0 3.5 \n\" id=\"mb7335dc887\" style=\"stroke:#000000;stroke-width:0.8;\"/>\n      </defs>\n      <g>\n       <use style=\"stroke:#000000;stroke-width:0.8;\" x=\"54.842078\" xlink:href=\"#mb7335dc887\" y=\"224.64\"/>\n      </g>\n     </g>\n     <g id=\"text_1\">\n      <!-- 0 -->\n      <g transform=\"translate(51.660828 239.238438)scale(0.1 -0.1)\">\n       <defs>\n        <path d=\"M 31.78125 66.40625 \nQ 24.171875 66.40625 20.328125 58.90625 \nQ 16.5 51.421875 16.5 36.375 \nQ 16.5 21.390625 20.328125 13.890625 \nQ 24.171875 6.390625 31.78125 6.390625 \nQ 39.453125 6.390625 43.28125 13.890625 \nQ 47.125 21.390625 47.125 36.375 \nQ 47.125 51.421875 43.28125 58.90625 \nQ 39.453125 66.40625 31.78125 66.40625 \nz\nM 31.78125 74.21875 \nQ 44.046875 74.21875 50.515625 64.515625 \nQ 56.984375 54.828125 56.984375 36.375 \nQ 56.984375 17.96875 50.515625 8.265625 \nQ 44.046875 -1.421875 31.78125 -1.421875 \nQ 19.53125 -1.421875 13.0625 8.265625 \nQ 6.59375 17.96875 6.59375 36.375 \nQ 6.59375 54.828125 13.0625 64.515625 \nQ 19.53125 74.21875 31.78125 74.21875 \nz\n\" id=\"DejaVuSans-48\"/>\n       </defs>\n       <use xlink:href=\"#DejaVuSans-48\"/>\n      </g>\n     </g>\n    </g>\n    <g id=\"xtick_2\">\n     <g id=\"line2d_2\">\n      <g>\n       <use style=\"stroke:#000000;stroke-width:0.8;\" x=\"107.577653\" xlink:href=\"#mb7335dc887\" y=\"224.64\"/>\n      </g>\n     </g>\n     <g id=\"text_2\">\n      <!-- 10000 -->\n      <g transform=\"translate(91.671403 239.238438)scale(0.1 -0.1)\">\n       <defs>\n        <path d=\"M 12.40625 8.296875 \nL 28.515625 8.296875 \nL 28.515625 63.921875 \nL 10.984375 60.40625 \nL 10.984375 69.390625 \nL 28.421875 72.90625 \nL 38.28125 72.90625 \nL 38.28125 8.296875 \nL 54.390625 8.296875 \nL 54.390625 0 \nL 12.40625 0 \nz\n\" id=\"DejaVuSans-49\"/>\n       </defs>\n       <use xlink:href=\"#DejaVuSans-49\"/>\n       <use x=\"63.623047\" xlink:href=\"#DejaVuSans-48\"/>\n       <use x=\"127.246094\" xlink:href=\"#DejaVuSans-48\"/>\n       <use x=\"190.869141\" xlink:href=\"#DejaVuSans-48\"/>\n       <use x=\"254.492188\" xlink:href=\"#DejaVuSans-48\"/>\n      </g>\n     </g>\n    </g>\n    <g id=\"xtick_3\">\n     <g id=\"line2d_3\">\n      <g>\n       <use style=\"stroke:#000000;stroke-width:0.8;\" x=\"160.313228\" xlink:href=\"#mb7335dc887\" y=\"224.64\"/>\n      </g>\n     </g>\n     <g id=\"text_3\">\n      <!-- 20000 -->\n      <g transform=\"translate(144.406978 239.238438)scale(0.1 -0.1)\">\n       <defs>\n        <path d=\"M 19.1875 8.296875 \nL 53.609375 8.296875 \nL 53.609375 0 \nL 7.328125 0 \nL 7.328125 8.296875 \nQ 12.9375 14.109375 22.625 23.890625 \nQ 32.328125 33.6875 34.8125 36.53125 \nQ 39.546875 41.84375 41.421875 45.53125 \nQ 43.3125 49.21875 43.3125 52.78125 \nQ 43.3125 58.59375 39.234375 62.25 \nQ 35.15625 65.921875 28.609375 65.921875 \nQ 23.96875 65.921875 18.8125 64.3125 \nQ 13.671875 62.703125 7.8125 59.421875 \nL 7.8125 69.390625 \nQ 13.765625 71.78125 18.9375 73 \nQ 24.125 74.21875 28.421875 74.21875 \nQ 39.75 74.21875 46.484375 68.546875 \nQ 53.21875 62.890625 53.21875 53.421875 \nQ 53.21875 48.921875 51.53125 44.890625 \nQ 49.859375 40.875 45.40625 35.40625 \nQ 44.1875 33.984375 37.640625 27.21875 \nQ 31.109375 20.453125 19.1875 8.296875 \nz\n\" id=\"DejaVuSans-50\"/>\n       </defs>\n       <use xlink:href=\"#DejaVuSans-50\"/>\n       <use x=\"63.623047\" xlink:href=\"#DejaVuSans-48\"/>\n       <use x=\"127.246094\" xlink:href=\"#DejaVuSans-48\"/>\n       <use x=\"190.869141\" xlink:href=\"#DejaVuSans-48\"/>\n       <use x=\"254.492188\" xlink:href=\"#DejaVuSans-48\"/>\n      </g>\n     </g>\n    </g>\n    <g id=\"xtick_4\">\n     <g id=\"line2d_4\">\n      <g>\n       <use style=\"stroke:#000000;stroke-width:0.8;\" x=\"213.048804\" xlink:href=\"#mb7335dc887\" y=\"224.64\"/>\n      </g>\n     </g>\n     <g id=\"text_4\">\n      <!-- 30000 -->\n      <g transform=\"translate(197.142554 239.238438)scale(0.1 -0.1)\">\n       <defs>\n        <path d=\"M 40.578125 39.3125 \nQ 47.65625 37.796875 51.625 33 \nQ 55.609375 28.21875 55.609375 21.1875 \nQ 55.609375 10.40625 48.1875 4.484375 \nQ 40.765625 -1.421875 27.09375 -1.421875 \nQ 22.515625 -1.421875 17.65625 -0.515625 \nQ 12.796875 0.390625 7.625 2.203125 \nL 7.625 11.71875 \nQ 11.71875 9.328125 16.59375 8.109375 \nQ 21.484375 6.890625 26.8125 6.890625 \nQ 36.078125 6.890625 40.9375 10.546875 \nQ 45.796875 14.203125 45.796875 21.1875 \nQ 45.796875 27.640625 41.28125 31.265625 \nQ 36.765625 34.90625 28.71875 34.90625 \nL 20.21875 34.90625 \nL 20.21875 43.015625 \nL 29.109375 43.015625 \nQ 36.375 43.015625 40.234375 45.921875 \nQ 44.09375 48.828125 44.09375 54.296875 \nQ 44.09375 59.90625 40.109375 62.90625 \nQ 36.140625 65.921875 28.71875 65.921875 \nQ 24.65625 65.921875 20.015625 65.03125 \nQ 15.375 64.15625 9.8125 62.3125 \nL 9.8125 71.09375 \nQ 15.4375 72.65625 20.34375 73.4375 \nQ 25.25 74.21875 29.59375 74.21875 \nQ 40.828125 74.21875 47.359375 69.109375 \nQ 53.90625 64.015625 53.90625 55.328125 \nQ 53.90625 49.265625 50.4375 45.09375 \nQ 46.96875 40.921875 40.578125 39.3125 \nz\n\" id=\"DejaVuSans-51\"/>\n       </defs>\n       <use xlink:href=\"#DejaVuSans-51\"/>\n       <use x=\"63.623047\" xlink:href=\"#DejaVuSans-48\"/>\n       <use x=\"127.246094\" xlink:href=\"#DejaVuSans-48\"/>\n       <use x=\"190.869141\" xlink:href=\"#DejaVuSans-48\"/>\n       <use x=\"254.492188\" xlink:href=\"#DejaVuSans-48\"/>\n      </g>\n     </g>\n    </g>\n    <g id=\"xtick_5\">\n     <g id=\"line2d_5\">\n      <g>\n       <use style=\"stroke:#000000;stroke-width:0.8;\" x=\"265.784379\" xlink:href=\"#mb7335dc887\" y=\"224.64\"/>\n      </g>\n     </g>\n     <g id=\"text_5\">\n      <!-- 40000 -->\n      <g transform=\"translate(249.878129 239.238438)scale(0.1 -0.1)\">\n       <defs>\n        <path d=\"M 37.796875 64.3125 \nL 12.890625 25.390625 \nL 37.796875 25.390625 \nz\nM 35.203125 72.90625 \nL 47.609375 72.90625 \nL 47.609375 25.390625 \nL 58.015625 25.390625 \nL 58.015625 17.1875 \nL 47.609375 17.1875 \nL 47.609375 0 \nL 37.796875 0 \nL 37.796875 17.1875 \nL 4.890625 17.1875 \nL 4.890625 26.703125 \nz\n\" id=\"DejaVuSans-52\"/>\n       </defs>\n       <use xlink:href=\"#DejaVuSans-52\"/>\n       <use x=\"63.623047\" xlink:href=\"#DejaVuSans-48\"/>\n       <use x=\"127.246094\" xlink:href=\"#DejaVuSans-48\"/>\n       <use x=\"190.869141\" xlink:href=\"#DejaVuSans-48\"/>\n       <use x=\"254.492188\" xlink:href=\"#DejaVuSans-48\"/>\n      </g>\n     </g>\n    </g>\n    <g id=\"xtick_6\">\n     <g id=\"line2d_6\">\n      <g>\n       <use style=\"stroke:#000000;stroke-width:0.8;\" x=\"318.519954\" xlink:href=\"#mb7335dc887\" y=\"224.64\"/>\n      </g>\n     </g>\n     <g id=\"text_6\">\n      <!-- 50000 -->\n      <g transform=\"translate(302.613704 239.238438)scale(0.1 -0.1)\">\n       <defs>\n        <path d=\"M 10.796875 72.90625 \nL 49.515625 72.90625 \nL 49.515625 64.59375 \nL 19.828125 64.59375 \nL 19.828125 46.734375 \nQ 21.96875 47.46875 24.109375 47.828125 \nQ 26.265625 48.1875 28.421875 48.1875 \nQ 40.625 48.1875 47.75 41.5 \nQ 54.890625 34.8125 54.890625 23.390625 \nQ 54.890625 11.625 47.5625 5.09375 \nQ 40.234375 -1.421875 26.90625 -1.421875 \nQ 22.3125 -1.421875 17.546875 -0.640625 \nQ 12.796875 0.140625 7.71875 1.703125 \nL 7.71875 11.625 \nQ 12.109375 9.234375 16.796875 8.0625 \nQ 21.484375 6.890625 26.703125 6.890625 \nQ 35.15625 6.890625 40.078125 11.328125 \nQ 45.015625 15.765625 45.015625 23.390625 \nQ 45.015625 31 40.078125 35.4375 \nQ 35.15625 39.890625 26.703125 39.890625 \nQ 22.75 39.890625 18.8125 39.015625 \nQ 14.890625 38.140625 10.796875 36.28125 \nz\n\" id=\"DejaVuSans-53\"/>\n       </defs>\n       <use xlink:href=\"#DejaVuSans-53\"/>\n       <use x=\"63.623047\" xlink:href=\"#DejaVuSans-48\"/>\n       <use x=\"127.246094\" xlink:href=\"#DejaVuSans-48\"/>\n       <use x=\"190.869141\" xlink:href=\"#DejaVuSans-48\"/>\n       <use x=\"254.492188\" xlink:href=\"#DejaVuSans-48\"/>\n      </g>\n     </g>\n    </g>\n    <g id=\"xtick_7\">\n     <g id=\"line2d_7\">\n      <g>\n       <use style=\"stroke:#000000;stroke-width:0.8;\" x=\"371.255529\" xlink:href=\"#mb7335dc887\" y=\"224.64\"/>\n      </g>\n     </g>\n     <g id=\"text_7\">\n      <!-- 60000 -->\n      <g transform=\"translate(355.349279 239.238438)scale(0.1 -0.1)\">\n       <defs>\n        <path d=\"M 33.015625 40.375 \nQ 26.375 40.375 22.484375 35.828125 \nQ 18.609375 31.296875 18.609375 23.390625 \nQ 18.609375 15.53125 22.484375 10.953125 \nQ 26.375 6.390625 33.015625 6.390625 \nQ 39.65625 6.390625 43.53125 10.953125 \nQ 47.40625 15.53125 47.40625 23.390625 \nQ 47.40625 31.296875 43.53125 35.828125 \nQ 39.65625 40.375 33.015625 40.375 \nz\nM 52.59375 71.296875 \nL 52.59375 62.3125 \nQ 48.875 64.0625 45.09375 64.984375 \nQ 41.3125 65.921875 37.59375 65.921875 \nQ 27.828125 65.921875 22.671875 59.328125 \nQ 17.53125 52.734375 16.796875 39.40625 \nQ 19.671875 43.65625 24.015625 45.921875 \nQ 28.375 48.1875 33.59375 48.1875 \nQ 44.578125 48.1875 50.953125 41.515625 \nQ 57.328125 34.859375 57.328125 23.390625 \nQ 57.328125 12.15625 50.6875 5.359375 \nQ 44.046875 -1.421875 33.015625 -1.421875 \nQ 20.359375 -1.421875 13.671875 8.265625 \nQ 6.984375 17.96875 6.984375 36.375 \nQ 6.984375 53.65625 15.1875 63.9375 \nQ 23.390625 74.21875 37.203125 74.21875 \nQ 40.921875 74.21875 44.703125 73.484375 \nQ 48.484375 72.75 52.59375 71.296875 \nz\n\" id=\"DejaVuSans-54\"/>\n       </defs>\n       <use xlink:href=\"#DejaVuSans-54\"/>\n       <use x=\"63.623047\" xlink:href=\"#DejaVuSans-48\"/>\n       <use x=\"127.246094\" xlink:href=\"#DejaVuSans-48\"/>\n       <use x=\"190.869141\" xlink:href=\"#DejaVuSans-48\"/>\n       <use x=\"254.492188\" xlink:href=\"#DejaVuSans-48\"/>\n      </g>\n     </g>\n    </g>\n   </g>\n   <g id=\"matplotlib.axis_2\">\n    <g id=\"ytick_1\">\n     <g id=\"line2d_8\">\n      <defs>\n       <path d=\"M 0 0 \nL -3.5 0 \n\" id=\"m54efdab1c0\" style=\"stroke:#000000;stroke-width:0.8;\"/>\n      </defs>\n      <g>\n       <use style=\"stroke:#000000;stroke-width:0.8;\" x=\"39.65\" xlink:href=\"#m54efdab1c0\" y=\"214.789493\"/>\n      </g>\n     </g>\n     <g id=\"text_8\">\n      <!-- 0 -->\n      <g transform=\"translate(26.2875 218.588711)scale(0.1 -0.1)\">\n       <use xlink:href=\"#DejaVuSans-48\"/>\n      </g>\n     </g>\n    </g>\n    <g id=\"ytick_2\">\n     <g id=\"line2d_9\">\n      <g>\n       <use style=\"stroke:#000000;stroke-width:0.8;\" x=\"39.65\" xlink:href=\"#m54efdab1c0\" y=\"181.660448\"/>\n      </g>\n     </g>\n     <g id=\"text_9\">\n      <!-- 1000 -->\n      <g transform=\"translate(7.2 185.459667)scale(0.1 -0.1)\">\n       <use xlink:href=\"#DejaVuSans-49\"/>\n       <use x=\"63.623047\" xlink:href=\"#DejaVuSans-48\"/>\n       <use x=\"127.246094\" xlink:href=\"#DejaVuSans-48\"/>\n       <use x=\"190.869141\" xlink:href=\"#DejaVuSans-48\"/>\n      </g>\n     </g>\n    </g>\n    <g id=\"ytick_3\">\n     <g id=\"line2d_10\">\n      <g>\n       <use style=\"stroke:#000000;stroke-width:0.8;\" x=\"39.65\" xlink:href=\"#m54efdab1c0\" y=\"148.531403\"/>\n      </g>\n     </g>\n     <g id=\"text_10\">\n      <!-- 2000 -->\n      <g transform=\"translate(7.2 152.330622)scale(0.1 -0.1)\">\n       <use xlink:href=\"#DejaVuSans-50\"/>\n       <use x=\"63.623047\" xlink:href=\"#DejaVuSans-48\"/>\n       <use x=\"127.246094\" xlink:href=\"#DejaVuSans-48\"/>\n       <use x=\"190.869141\" xlink:href=\"#DejaVuSans-48\"/>\n      </g>\n     </g>\n    </g>\n    <g id=\"ytick_4\">\n     <g id=\"line2d_11\">\n      <g>\n       <use style=\"stroke:#000000;stroke-width:0.8;\" x=\"39.65\" xlink:href=\"#m54efdab1c0\" y=\"115.402359\"/>\n      </g>\n     </g>\n     <g id=\"text_11\">\n      <!-- 3000 -->\n      <g transform=\"translate(7.2 119.201577)scale(0.1 -0.1)\">\n       <use xlink:href=\"#DejaVuSans-51\"/>\n       <use x=\"63.623047\" xlink:href=\"#DejaVuSans-48\"/>\n       <use x=\"127.246094\" xlink:href=\"#DejaVuSans-48\"/>\n       <use x=\"190.869141\" xlink:href=\"#DejaVuSans-48\"/>\n      </g>\n     </g>\n    </g>\n    <g id=\"ytick_5\">\n     <g id=\"line2d_12\">\n      <g>\n       <use style=\"stroke:#000000;stroke-width:0.8;\" x=\"39.65\" xlink:href=\"#m54efdab1c0\" y=\"82.273314\"/>\n      </g>\n     </g>\n     <g id=\"text_12\">\n      <!-- 4000 -->\n      <g transform=\"translate(7.2 86.072533)scale(0.1 -0.1)\">\n       <use xlink:href=\"#DejaVuSans-52\"/>\n       <use x=\"63.623047\" xlink:href=\"#DejaVuSans-48\"/>\n       <use x=\"127.246094\" xlink:href=\"#DejaVuSans-48\"/>\n       <use x=\"190.869141\" xlink:href=\"#DejaVuSans-48\"/>\n      </g>\n     </g>\n    </g>\n    <g id=\"ytick_6\">\n     <g id=\"line2d_13\">\n      <g>\n       <use style=\"stroke:#000000;stroke-width:0.8;\" x=\"39.65\" xlink:href=\"#m54efdab1c0\" y=\"49.144269\"/>\n      </g>\n     </g>\n     <g id=\"text_13\">\n      <!-- 5000 -->\n      <g transform=\"translate(7.2 52.943488)scale(0.1 -0.1)\">\n       <use xlink:href=\"#DejaVuSans-53\"/>\n       <use x=\"63.623047\" xlink:href=\"#DejaVuSans-48\"/>\n       <use x=\"127.246094\" xlink:href=\"#DejaVuSans-48\"/>\n       <use x=\"190.869141\" xlink:href=\"#DejaVuSans-48\"/>\n      </g>\n     </g>\n    </g>\n    <g id=\"ytick_7\">\n     <g id=\"line2d_14\">\n      <g>\n       <use style=\"stroke:#000000;stroke-width:0.8;\" x=\"39.65\" xlink:href=\"#m54efdab1c0\" y=\"16.015225\"/>\n      </g>\n     </g>\n     <g id=\"text_14\">\n      <!-- 6000 -->\n      <g transform=\"translate(7.2 19.814443)scale(0.1 -0.1)\">\n       <use xlink:href=\"#DejaVuSans-54\"/>\n       <use x=\"63.623047\" xlink:href=\"#DejaVuSans-48\"/>\n       <use x=\"127.246094\" xlink:href=\"#DejaVuSans-48\"/>\n       <use x=\"190.869141\" xlink:href=\"#DejaVuSans-48\"/>\n      </g>\n     </g>\n    </g>\n   </g>\n   <g id=\"patch_3\">\n    <path d=\"M 39.65 224.64 \nL 39.65 7.2 \n\" style=\"fill:none;stroke:#000000;stroke-linecap:square;stroke-linejoin:miter;stroke-width:0.8;\"/>\n   </g>\n   <g id=\"patch_4\">\n    <path d=\"M 374.45 224.64 \nL 374.45 7.2 \n\" style=\"fill:none;stroke:#000000;stroke-linecap:square;stroke-linejoin:miter;stroke-width:0.8;\"/>\n   </g>\n   <g id=\"patch_5\">\n    <path d=\"M 39.65 224.64 \nL 374.45 224.64 \n\" style=\"fill:none;stroke:#000000;stroke-linecap:square;stroke-linejoin:miter;stroke-width:0.8;\"/>\n   </g>\n   <g id=\"patch_6\">\n    <path d=\"M 39.65 7.2 \nL 374.45 7.2 \n\" style=\"fill:none;stroke:#000000;stroke-linecap:square;stroke-linejoin:miter;stroke-width:0.8;\"/>\n   </g>\n  </g>\n </g>\n <defs>\n  <clipPath id=\"pc0125a9969\">\n   <rect height=\"217.44\" width=\"334.8\" x=\"39.65\" y=\"7.2\"/>\n  </clipPath>\n </defs>\n</svg>\n",
      "image/png": "[encoded data removed]"
     },
     "metadata": {
      "needs_background": "light"
     }
    }
   ],
   "source": [
    "\n",
    "qty_ship = Item_Add_date_group.iloc[:,-1]\n",
    "price_net = Item_Add_date_group.iloc[:,-2]\n",
    "plt.scatter(qty_ship,price_net)\n",
    "plt.show()\n",
    "\n",
    "#Item_Add_date = Add_date_group.iloc[:,1]\n",
    "#qty_ship = Add_date_group.iloc[:,2]\n",
    "##price_net = Add_date_group.iloc[:,3]\n",
    "#correlation = st.pearson(qty_ship,price_net)\n",
    "#plt.scatter(qty_ship,price_net)\n",
    "#plt.xlabel('Quantity shipped')\n",
    "#plt.ylabel('Price')\n",
    "#plt.show()\n",
    "\n"
   ]
  },
  {
   "cell_type": "code",
   "execution_count": null,
   "metadata": {},
   "outputs": [],
   "source": []
  },
  {
   "cell_type": "code",
   "execution_count": 291,
   "metadata": {},
   "outputs": [],
   "source": [
    "#2019 & #2020\n",
    "#Item_Add_date_group.index = pd.to_datetime(Item_Add_date_group.index)\n",
    "\n",
    "#2019\n",
    "# Create a new dataframe with only 2019\n",
    "#Item_Add_date_group = Item_Add_date_group.sort_values(\"Item_Add_date\")\n",
    "#df_2019 = Item_Add_date_group.loc['2019']\n",
    "#df_2019\n"
   ]
  },
  {
   "cell_type": "code",
   "execution_count": 292,
   "metadata": {},
   "outputs": [],
   "source": [
    "#2019\n",
    "# Create a new dataframe with only 2019\n",
    "\n",
    "#df_2019 = Item_Add_date_group.loc['2019']\n",
    "#df_2019\n"
   ]
  },
  {
   "cell_type": "code",
   "execution_count": 293,
   "metadata": {},
   "outputs": [],
   "source": [
    "#2020\n",
    "#Create a new datafrma eiwht only 2020\n",
    "\n",
    "#df_2020 = Item_Add_date.loc['2020']\n",
    "#df_2020.reset_index(inplace=True)\n",
    "#df_2020"
   ]
  },
  {
   "cell_type": "code",
   "execution_count": null,
   "metadata": {},
   "outputs": [],
   "source": [
    "#Concat both the dataframes\n",
    "#pd.concat([df_2019, df_2020.set_index(df_2019.index)], axis=0)"
   ]
  },
  {
   "cell_type": "code",
   "execution_count": 294,
   "metadata": {},
   "outputs": [],
   "source": [
    "#pd.concat.head()"
   ]
  },
  {
   "cell_type": "code",
   "execution_count": 295,
   "metadata": {},
   "outputs": [],
   "source": [
    "#Concat both the dataframes\n",
    "#pd.concat([df_2019, df_2020.set_index(df_2019.index)], axis=0)"
   ]
  },
  {
   "cell_type": "code",
   "execution_count": 296,
   "metadata": {},
   "outputs": [],
   "source": [
    "#df_combind = Item_Add_date_group.loc[['2019','2020']]\n",
    "#df_combind.head()"
   ]
  },
  {
   "cell_type": "code",
   "execution_count": 297,
   "metadata": {},
   "outputs": [
    {
     "output_type": "execute_result",
     "data": {
      "text/plain": [
       "   level_0  index Item_Add_date    qty_ship    price_net\n",
       "0        0      0    2019-01-15    2.818182  3618.996364\n",
       "1        1      1    2019-01-18    9.333333  2754.906667\n",
       "2        2      2    2019-01-22  200.545455  5483.429091\n",
       "3        3      3    2019-01-23    4.000000  1323.000000\n",
       "4        4      4    2019-01-24   86.000000  2231.700000"
      ],
      "text/html": "<div>\n<style scoped>\n    .dataframe tbody tr th:only-of-type {\n        vertical-align: middle;\n    }\n\n    .dataframe tbody tr th {\n        vertical-align: top;\n    }\n\n    .dataframe thead th {\n        text-align: right;\n    }\n</style>\n<table border=\"1\" class=\"dataframe\">\n  <thead>\n    <tr style=\"text-align: right;\">\n      <th></th>\n      <th>level_0</th>\n      <th>index</th>\n      <th>Item_Add_date</th>\n      <th>qty_ship</th>\n      <th>price_net</th>\n    </tr>\n  </thead>\n  <tbody>\n    <tr>\n      <th>0</th>\n      <td>0</td>\n      <td>0</td>\n      <td>2019-01-15</td>\n      <td>2.818182</td>\n      <td>3618.996364</td>\n    </tr>\n    <tr>\n      <th>1</th>\n      <td>1</td>\n      <td>1</td>\n      <td>2019-01-18</td>\n      <td>9.333333</td>\n      <td>2754.906667</td>\n    </tr>\n    <tr>\n      <th>2</th>\n      <td>2</td>\n      <td>2</td>\n      <td>2019-01-22</td>\n      <td>200.545455</td>\n      <td>5483.429091</td>\n    </tr>\n    <tr>\n      <th>3</th>\n      <td>3</td>\n      <td>3</td>\n      <td>2019-01-23</td>\n      <td>4.000000</td>\n      <td>1323.000000</td>\n    </tr>\n    <tr>\n      <th>4</th>\n      <td>4</td>\n      <td>4</td>\n      <td>2019-01-24</td>\n      <td>86.000000</td>\n      <td>2231.700000</td>\n    </tr>\n  </tbody>\n</table>\n</div>"
     },
     "metadata": {},
     "execution_count": 297
    }
   ],
   "source": [
    "df_2019.head()"
   ]
  },
  {
   "cell_type": "code",
   "execution_count": 298,
   "metadata": {},
   "outputs": [
    {
     "output_type": "execute_result",
     "data": {
      "text/plain": [
       "    level_0  index Item_Add_date     qty_ship    price_net\n",
       "0         0      0    2019-01-15     2.818182  3618.996364\n",
       "1         1      1    2019-01-18     9.333333  2754.906667\n",
       "2         2      2    2019-01-22   200.545455  5483.429091\n",
       "3         3      3    2019-01-23     4.000000  1323.000000\n",
       "4         4      4    2019-01-24    86.000000  2231.700000\n",
       "..      ...    ...           ...          ...          ...\n",
       "77       77     77    2019-09-25     4.000000     7.800000\n",
       "78       78     78    2019-09-26  4077.500000   163.100000\n",
       "79       79     79    2019-09-03     3.833333   280.124667\n",
       "80       80     80    2019-09-04   194.000000   580.060000\n",
       "81       81     81    2019-09-06     4.500000  3662.750000\n",
       "\n",
       "[82 rows x 5 columns]"
      ],
      "text/html": "<div>\n<style scoped>\n    .dataframe tbody tr th:only-of-type {\n        vertical-align: middle;\n    }\n\n    .dataframe tbody tr th {\n        vertical-align: top;\n    }\n\n    .dataframe thead th {\n        text-align: right;\n    }\n</style>\n<table border=\"1\" class=\"dataframe\">\n  <thead>\n    <tr style=\"text-align: right;\">\n      <th></th>\n      <th>level_0</th>\n      <th>index</th>\n      <th>Item_Add_date</th>\n      <th>qty_ship</th>\n      <th>price_net</th>\n    </tr>\n  </thead>\n  <tbody>\n    <tr>\n      <th>0</th>\n      <td>0</td>\n      <td>0</td>\n      <td>2019-01-15</td>\n      <td>2.818182</td>\n      <td>3618.996364</td>\n    </tr>\n    <tr>\n      <th>1</th>\n      <td>1</td>\n      <td>1</td>\n      <td>2019-01-18</td>\n      <td>9.333333</td>\n      <td>2754.906667</td>\n    </tr>\n    <tr>\n      <th>2</th>\n      <td>2</td>\n      <td>2</td>\n      <td>2019-01-22</td>\n      <td>200.545455</td>\n      <td>5483.429091</td>\n    </tr>\n    <tr>\n      <th>3</th>\n      <td>3</td>\n      <td>3</td>\n      <td>2019-01-23</td>\n      <td>4.000000</td>\n      <td>1323.000000</td>\n    </tr>\n    <tr>\n      <th>4</th>\n      <td>4</td>\n      <td>4</td>\n      <td>2019-01-24</td>\n      <td>86.000000</td>\n      <td>2231.700000</td>\n    </tr>\n    <tr>\n      <th>...</th>\n      <td>...</td>\n      <td>...</td>\n      <td>...</td>\n      <td>...</td>\n      <td>...</td>\n    </tr>\n    <tr>\n      <th>77</th>\n      <td>77</td>\n      <td>77</td>\n      <td>2019-09-25</td>\n      <td>4.000000</td>\n      <td>7.800000</td>\n    </tr>\n    <tr>\n      <th>78</th>\n      <td>78</td>\n      <td>78</td>\n      <td>2019-09-26</td>\n      <td>4077.500000</td>\n      <td>163.100000</td>\n    </tr>\n    <tr>\n      <th>79</th>\n      <td>79</td>\n      <td>79</td>\n      <td>2019-09-03</td>\n      <td>3.833333</td>\n      <td>280.124667</td>\n    </tr>\n    <tr>\n      <th>80</th>\n      <td>80</td>\n      <td>80</td>\n      <td>2019-09-04</td>\n      <td>194.000000</td>\n      <td>580.060000</td>\n    </tr>\n    <tr>\n      <th>81</th>\n      <td>81</td>\n      <td>81</td>\n      <td>2019-09-06</td>\n      <td>4.500000</td>\n      <td>3662.750000</td>\n    </tr>\n  </tbody>\n</table>\n<p>82 rows × 5 columns</p>\n</div>"
     },
     "metadata": {},
     "execution_count": 298
    }
   ],
   "source": [
    "df_2019"
   ]
  },
  {
   "cell_type": "code",
   "execution_count": 299,
   "metadata": {},
   "outputs": [
    {
     "output_type": "display_data",
     "data": {
      "text/plain": "<Figure size 432x288 with 1 Axes>",
      "image/svg+xml": "<?xml version=\"1.0\" encoding=\"utf-8\" standalone=\"no\"?>\n<!DOCTYPE svg PUBLIC \"-//W3C//DTD SVG 1.1//EN\"\n  \"http://www.w3.org/Graphics/SVG/1.1/DTD/svg11.dtd\">\n<!-- Created with matplotlib (https://matplotlib.org/) -->\n<svg height=\"248.518125pt\" version=\"1.1\" viewBox=\"0 0 368.925 248.518125\" width=\"368.925pt\" xmlns=\"http://www.w3.org/2000/svg\" xmlns:xlink=\"http://www.w3.org/1999/xlink\">\n <metadata>\n  <rdf:RDF xmlns:cc=\"http://creativecommons.org/ns#\" xmlns:dc=\"http://purl.org/dc/elements/1.1/\" xmlns:rdf=\"http://www.w3.org/1999/02/22-rdf-syntax-ns#\">\n   <cc:Work>\n    <dc:type rdf:resource=\"http://purl.org/dc/dcmitype/StillImage\"/>\n    <dc:date>2021-02-15T16:08:30.939860</dc:date>\n    <dc:format>image/svg+xml</dc:format>\n    <dc:creator>\n     <cc:Agent>\n      <dc:title>Matplotlib v3.3.2, https://matplotlib.org/</dc:title>\n     </cc:Agent>\n    </dc:creator>\n   </cc:Work>\n  </rdf:RDF>\n </metadata>\n <defs>\n  <style type=\"text/css\">*{stroke-linecap:butt;stroke-linejoin:round;}</style>\n </defs>\n <g id=\"figure_1\">\n  <g id=\"patch_1\">\n   <path d=\"M -0 248.518125 \nL 368.925 248.518125 \nL 368.925 0 \nL -0 0 \nz\n\" style=\"fill:none;\"/>\n  </g>\n  <g id=\"axes_1\">\n   <g id=\"patch_2\">\n    <path d=\"M 26.925 224.64 \nL 361.725 224.64 \nL 361.725 7.2 \nL 26.925 7.2 \nz\n\" style=\"fill:#ffffff;\"/>\n   </g>\n   <g id=\"PathCollection_1\">\n    <defs>\n     <path d=\"M 0 3 \nC 0.795609 3 1.55874 2.683901 2.12132 2.12132 \nC 2.683901 1.55874 3 0.795609 3 0 \nC 3 -0.795609 2.683901 -1.55874 2.12132 -2.12132 \nC 1.55874 -2.683901 0.795609 -3 0 -3 \nC -0.795609 -3 -1.55874 -2.683901 -2.12132 -2.12132 \nC -2.683901 -1.55874 -3 -0.795609 -3 0 \nC -3 0.795609 -2.683901 1.55874 -2.12132 2.12132 \nC -1.55874 2.683901 -0.795609 3 0 3 \nz\n\" id=\"m6279cf3c26\" style=\"stroke:#1f77b4;\"/>\n    </defs>\n    <g clip-path=\"url(#pcdc047475c)\">\n     <use style=\"fill:#1f77b4;stroke:#1f77b4;\" x=\"42.143182\" xlink:href=\"#m6279cf3c26\" y=\"214.756364\"/>\n     <use style=\"fill:#1f77b4;stroke:#1f77b4;\" x=\"45.900758\" xlink:href=\"#m6279cf3c26\" y=\"212.31596\"/>\n     <use style=\"fill:#1f77b4;stroke:#1f77b4;\" x=\"49.658333\" xlink:href=\"#m6279cf3c26\" y=\"209.875556\"/>\n     <use style=\"fill:#1f77b4;stroke:#1f77b4;\" x=\"53.415909\" xlink:href=\"#m6279cf3c26\" y=\"207.435152\"/>\n     <use style=\"fill:#1f77b4;stroke:#1f77b4;\" x=\"57.173485\" xlink:href=\"#m6279cf3c26\" y=\"204.994747\"/>\n     <use style=\"fill:#1f77b4;stroke:#1f77b4;\" x=\"60.931061\" xlink:href=\"#m6279cf3c26\" y=\"202.554343\"/>\n     <use style=\"fill:#1f77b4;stroke:#1f77b4;\" x=\"64.688636\" xlink:href=\"#m6279cf3c26\" y=\"200.113939\"/>\n     <use style=\"fill:#1f77b4;stroke:#1f77b4;\" x=\"68.446212\" xlink:href=\"#m6279cf3c26\" y=\"197.673535\"/>\n     <use style=\"fill:#1f77b4;stroke:#1f77b4;\" x=\"72.203788\" xlink:href=\"#m6279cf3c26\" y=\"195.233131\"/>\n     <use style=\"fill:#1f77b4;stroke:#1f77b4;\" x=\"75.961364\" xlink:href=\"#m6279cf3c26\" y=\"192.792727\"/>\n     <use style=\"fill:#1f77b4;stroke:#1f77b4;\" x=\"79.718939\" xlink:href=\"#m6279cf3c26\" y=\"190.352323\"/>\n     <use style=\"fill:#1f77b4;stroke:#1f77b4;\" x=\"83.476515\" xlink:href=\"#m6279cf3c26\" y=\"187.911919\"/>\n     <use style=\"fill:#1f77b4;stroke:#1f77b4;\" x=\"87.234091\" xlink:href=\"#m6279cf3c26\" y=\"185.471515\"/>\n     <use style=\"fill:#1f77b4;stroke:#1f77b4;\" x=\"90.991667\" xlink:href=\"#m6279cf3c26\" y=\"183.031111\"/>\n     <use style=\"fill:#1f77b4;stroke:#1f77b4;\" x=\"94.749242\" xlink:href=\"#m6279cf3c26\" y=\"180.590707\"/>\n     <use style=\"fill:#1f77b4;stroke:#1f77b4;\" x=\"98.506818\" xlink:href=\"#m6279cf3c26\" y=\"178.150303\"/>\n     <use style=\"fill:#1f77b4;stroke:#1f77b4;\" x=\"102.264394\" xlink:href=\"#m6279cf3c26\" y=\"175.709899\"/>\n     <use style=\"fill:#1f77b4;stroke:#1f77b4;\" x=\"106.02197\" xlink:href=\"#m6279cf3c26\" y=\"173.269495\"/>\n     <use style=\"fill:#1f77b4;stroke:#1f77b4;\" x=\"109.779545\" xlink:href=\"#m6279cf3c26\" y=\"170.829091\"/>\n     <use style=\"fill:#1f77b4;stroke:#1f77b4;\" x=\"113.537121\" xlink:href=\"#m6279cf3c26\" y=\"168.388687\"/>\n     <use style=\"fill:#1f77b4;stroke:#1f77b4;\" x=\"117.294697\" xlink:href=\"#m6279cf3c26\" y=\"165.948283\"/>\n     <use style=\"fill:#1f77b4;stroke:#1f77b4;\" x=\"121.052273\" xlink:href=\"#m6279cf3c26\" y=\"163.507879\"/>\n     <use style=\"fill:#1f77b4;stroke:#1f77b4;\" x=\"124.809848\" xlink:href=\"#m6279cf3c26\" y=\"161.067475\"/>\n     <use style=\"fill:#1f77b4;stroke:#1f77b4;\" x=\"128.567424\" xlink:href=\"#m6279cf3c26\" y=\"158.627071\"/>\n     <use style=\"fill:#1f77b4;stroke:#1f77b4;\" x=\"132.325\" xlink:href=\"#m6279cf3c26\" y=\"156.186667\"/>\n     <use style=\"fill:#1f77b4;stroke:#1f77b4;\" x=\"136.082576\" xlink:href=\"#m6279cf3c26\" y=\"153.746263\"/>\n     <use style=\"fill:#1f77b4;stroke:#1f77b4;\" x=\"139.840152\" xlink:href=\"#m6279cf3c26\" y=\"151.305859\"/>\n     <use style=\"fill:#1f77b4;stroke:#1f77b4;\" x=\"143.597727\" xlink:href=\"#m6279cf3c26\" y=\"148.865455\"/>\n     <use style=\"fill:#1f77b4;stroke:#1f77b4;\" x=\"147.355303\" xlink:href=\"#m6279cf3c26\" y=\"146.425051\"/>\n     <use style=\"fill:#1f77b4;stroke:#1f77b4;\" x=\"151.112879\" xlink:href=\"#m6279cf3c26\" y=\"143.984646\"/>\n     <use style=\"fill:#1f77b4;stroke:#1f77b4;\" x=\"154.870455\" xlink:href=\"#m6279cf3c26\" y=\"141.544242\"/>\n     <use style=\"fill:#1f77b4;stroke:#1f77b4;\" x=\"158.62803\" xlink:href=\"#m6279cf3c26\" y=\"139.103838\"/>\n     <use style=\"fill:#1f77b4;stroke:#1f77b4;\" x=\"162.385606\" xlink:href=\"#m6279cf3c26\" y=\"136.663434\"/>\n     <use style=\"fill:#1f77b4;stroke:#1f77b4;\" x=\"166.143182\" xlink:href=\"#m6279cf3c26\" y=\"134.22303\"/>\n     <use style=\"fill:#1f77b4;stroke:#1f77b4;\" x=\"169.900758\" xlink:href=\"#m6279cf3c26\" y=\"131.782626\"/>\n     <use style=\"fill:#1f77b4;stroke:#1f77b4;\" x=\"173.658333\" xlink:href=\"#m6279cf3c26\" y=\"129.342222\"/>\n     <use style=\"fill:#1f77b4;stroke:#1f77b4;\" x=\"177.415909\" xlink:href=\"#m6279cf3c26\" y=\"126.901818\"/>\n     <use style=\"fill:#1f77b4;stroke:#1f77b4;\" x=\"181.173485\" xlink:href=\"#m6279cf3c26\" y=\"124.461414\"/>\n     <use style=\"fill:#1f77b4;stroke:#1f77b4;\" x=\"184.931061\" xlink:href=\"#m6279cf3c26\" y=\"122.02101\"/>\n     <use style=\"fill:#1f77b4;stroke:#1f77b4;\" x=\"188.688636\" xlink:href=\"#m6279cf3c26\" y=\"119.580606\"/>\n     <use style=\"fill:#1f77b4;stroke:#1f77b4;\" x=\"192.446212\" xlink:href=\"#m6279cf3c26\" y=\"117.140202\"/>\n     <use style=\"fill:#1f77b4;stroke:#1f77b4;\" x=\"196.203788\" xlink:href=\"#m6279cf3c26\" y=\"114.699798\"/>\n     <use style=\"fill:#1f77b4;stroke:#1f77b4;\" x=\"199.961364\" xlink:href=\"#m6279cf3c26\" y=\"112.259394\"/>\n     <use style=\"fill:#1f77b4;stroke:#1f77b4;\" x=\"203.718939\" xlink:href=\"#m6279cf3c26\" y=\"109.81899\"/>\n     <use style=\"fill:#1f77b4;stroke:#1f77b4;\" x=\"207.476515\" xlink:href=\"#m6279cf3c26\" y=\"107.378586\"/>\n     <use style=\"fill:#1f77b4;stroke:#1f77b4;\" x=\"211.234091\" xlink:href=\"#m6279cf3c26\" y=\"104.938182\"/>\n     <use style=\"fill:#1f77b4;stroke:#1f77b4;\" x=\"214.991667\" xlink:href=\"#m6279cf3c26\" y=\"102.497778\"/>\n     <use style=\"fill:#1f77b4;stroke:#1f77b4;\" x=\"218.749242\" xlink:href=\"#m6279cf3c26\" y=\"100.057374\"/>\n     <use style=\"fill:#1f77b4;stroke:#1f77b4;\" x=\"222.506818\" xlink:href=\"#m6279cf3c26\" y=\"97.61697\"/>\n     <use style=\"fill:#1f77b4;stroke:#1f77b4;\" x=\"226.264394\" xlink:href=\"#m6279cf3c26\" y=\"95.176566\"/>\n     <use style=\"fill:#1f77b4;stroke:#1f77b4;\" x=\"230.02197\" xlink:href=\"#m6279cf3c26\" y=\"92.736162\"/>\n     <use style=\"fill:#1f77b4;stroke:#1f77b4;\" x=\"233.779545\" xlink:href=\"#m6279cf3c26\" y=\"90.295758\"/>\n     <use style=\"fill:#1f77b4;stroke:#1f77b4;\" x=\"237.537121\" xlink:href=\"#m6279cf3c26\" y=\"87.855354\"/>\n     <use style=\"fill:#1f77b4;stroke:#1f77b4;\" x=\"241.294697\" xlink:href=\"#m6279cf3c26\" y=\"85.414949\"/>\n     <use style=\"fill:#1f77b4;stroke:#1f77b4;\" x=\"245.052273\" xlink:href=\"#m6279cf3c26\" y=\"82.974545\"/>\n     <use style=\"fill:#1f77b4;stroke:#1f77b4;\" x=\"248.809848\" xlink:href=\"#m6279cf3c26\" y=\"80.534141\"/>\n     <use style=\"fill:#1f77b4;stroke:#1f77b4;\" x=\"252.567424\" xlink:href=\"#m6279cf3c26\" y=\"78.093737\"/>\n     <use style=\"fill:#1f77b4;stroke:#1f77b4;\" x=\"256.325\" xlink:href=\"#m6279cf3c26\" y=\"75.653333\"/>\n     <use style=\"fill:#1f77b4;stroke:#1f77b4;\" x=\"260.082576\" xlink:href=\"#m6279cf3c26\" y=\"73.212929\"/>\n     <use style=\"fill:#1f77b4;stroke:#1f77b4;\" x=\"263.840152\" xlink:href=\"#m6279cf3c26\" y=\"70.772525\"/>\n     <use style=\"fill:#1f77b4;stroke:#1f77b4;\" x=\"267.597727\" xlink:href=\"#m6279cf3c26\" y=\"68.332121\"/>\n     <use style=\"fill:#1f77b4;stroke:#1f77b4;\" x=\"271.355303\" xlink:href=\"#m6279cf3c26\" y=\"65.891717\"/>\n     <use style=\"fill:#1f77b4;stroke:#1f77b4;\" x=\"275.112879\" xlink:href=\"#m6279cf3c26\" y=\"63.451313\"/>\n     <use style=\"fill:#1f77b4;stroke:#1f77b4;\" x=\"278.870455\" xlink:href=\"#m6279cf3c26\" y=\"61.010909\"/>\n     <use style=\"fill:#1f77b4;stroke:#1f77b4;\" x=\"282.62803\" xlink:href=\"#m6279cf3c26\" y=\"58.570505\"/>\n     <use style=\"fill:#1f77b4;stroke:#1f77b4;\" x=\"286.385606\" xlink:href=\"#m6279cf3c26\" y=\"56.130101\"/>\n     <use style=\"fill:#1f77b4;stroke:#1f77b4;\" x=\"290.143182\" xlink:href=\"#m6279cf3c26\" y=\"53.689697\"/>\n     <use style=\"fill:#1f77b4;stroke:#1f77b4;\" x=\"293.900758\" xlink:href=\"#m6279cf3c26\" y=\"51.249293\"/>\n     <use style=\"fill:#1f77b4;stroke:#1f77b4;\" x=\"297.658333\" xlink:href=\"#m6279cf3c26\" y=\"48.808889\"/>\n     <use style=\"fill:#1f77b4;stroke:#1f77b4;\" x=\"301.415909\" xlink:href=\"#m6279cf3c26\" y=\"46.368485\"/>\n     <use style=\"fill:#1f77b4;stroke:#1f77b4;\" x=\"305.173485\" xlink:href=\"#m6279cf3c26\" y=\"43.928081\"/>\n     <use style=\"fill:#1f77b4;stroke:#1f77b4;\" x=\"308.931061\" xlink:href=\"#m6279cf3c26\" y=\"41.487677\"/>\n     <use style=\"fill:#1f77b4;stroke:#1f77b4;\" x=\"312.688636\" xlink:href=\"#m6279cf3c26\" y=\"39.047273\"/>\n     <use style=\"fill:#1f77b4;stroke:#1f77b4;\" x=\"316.446212\" xlink:href=\"#m6279cf3c26\" y=\"36.606869\"/>\n     <use style=\"fill:#1f77b4;stroke:#1f77b4;\" x=\"320.203788\" xlink:href=\"#m6279cf3c26\" y=\"34.166465\"/>\n     <use style=\"fill:#1f77b4;stroke:#1f77b4;\" x=\"323.961364\" xlink:href=\"#m6279cf3c26\" y=\"31.726061\"/>\n     <use style=\"fill:#1f77b4;stroke:#1f77b4;\" x=\"327.718939\" xlink:href=\"#m6279cf3c26\" y=\"29.285657\"/>\n     <use style=\"fill:#1f77b4;stroke:#1f77b4;\" x=\"331.476515\" xlink:href=\"#m6279cf3c26\" y=\"26.845253\"/>\n     <use style=\"fill:#1f77b4;stroke:#1f77b4;\" x=\"335.234091\" xlink:href=\"#m6279cf3c26\" y=\"24.404848\"/>\n     <use style=\"fill:#1f77b4;stroke:#1f77b4;\" x=\"338.991667\" xlink:href=\"#m6279cf3c26\" y=\"21.964444\"/>\n     <use style=\"fill:#1f77b4;stroke:#1f77b4;\" x=\"342.749242\" xlink:href=\"#m6279cf3c26\" y=\"19.52404\"/>\n     <use style=\"fill:#1f77b4;stroke:#1f77b4;\" x=\"346.506818\" xlink:href=\"#m6279cf3c26\" y=\"17.083636\"/>\n    </g>\n   </g>\n   <g id=\"matplotlib.axis_1\">\n    <g id=\"xtick_1\">\n     <g id=\"line2d_1\">\n      <defs>\n       <path d=\"M 0 0 \nL 0 3.5 \n\" id=\"m1635b66cd7\" style=\"stroke:#000000;stroke-width:0.8;\"/>\n      </defs>\n      <g>\n       <use style=\"stroke:#000000;stroke-width:0.8;\" x=\"42.143182\" xlink:href=\"#m1635b66cd7\" y=\"224.64\"/>\n      </g>\n     </g>\n     <g id=\"text_1\">\n      <!-- 0 -->\n      <g transform=\"translate(38.961932 239.238437)scale(0.1 -0.1)\">\n       <defs>\n        <path d=\"M 31.78125 66.40625 \nQ 24.171875 66.40625 20.328125 58.90625 \nQ 16.5 51.421875 16.5 36.375 \nQ 16.5 21.390625 20.328125 13.890625 \nQ 24.171875 6.390625 31.78125 6.390625 \nQ 39.453125 6.390625 43.28125 13.890625 \nQ 47.125 21.390625 47.125 36.375 \nQ 47.125 51.421875 43.28125 58.90625 \nQ 39.453125 66.40625 31.78125 66.40625 \nz\nM 31.78125 74.21875 \nQ 44.046875 74.21875 50.515625 64.515625 \nQ 56.984375 54.828125 56.984375 36.375 \nQ 56.984375 17.96875 50.515625 8.265625 \nQ 44.046875 -1.421875 31.78125 -1.421875 \nQ 19.53125 -1.421875 13.0625 8.265625 \nQ 6.59375 17.96875 6.59375 36.375 \nQ 6.59375 54.828125 13.0625 64.515625 \nQ 19.53125 74.21875 31.78125 74.21875 \nz\n\" id=\"DejaVuSans-48\"/>\n       </defs>\n       <use xlink:href=\"#DejaVuSans-48\"/>\n      </g>\n     </g>\n    </g>\n    <g id=\"xtick_2\">\n     <g id=\"line2d_2\">\n      <g>\n       <use style=\"stroke:#000000;stroke-width:0.8;\" x=\"79.718939\" xlink:href=\"#m1635b66cd7\" y=\"224.64\"/>\n      </g>\n     </g>\n     <g id=\"text_2\">\n      <!-- 10 -->\n      <g transform=\"translate(73.356439 239.238437)scale(0.1 -0.1)\">\n       <defs>\n        <path d=\"M 12.40625 8.296875 \nL 28.515625 8.296875 \nL 28.515625 63.921875 \nL 10.984375 60.40625 \nL 10.984375 69.390625 \nL 28.421875 72.90625 \nL 38.28125 72.90625 \nL 38.28125 8.296875 \nL 54.390625 8.296875 \nL 54.390625 0 \nL 12.40625 0 \nz\n\" id=\"DejaVuSans-49\"/>\n       </defs>\n       <use xlink:href=\"#DejaVuSans-49\"/>\n       <use x=\"63.623047\" xlink:href=\"#DejaVuSans-48\"/>\n      </g>\n     </g>\n    </g>\n    <g id=\"xtick_3\">\n     <g id=\"line2d_3\">\n      <g>\n       <use style=\"stroke:#000000;stroke-width:0.8;\" x=\"117.294697\" xlink:href=\"#m1635b66cd7\" y=\"224.64\"/>\n      </g>\n     </g>\n     <g id=\"text_3\">\n      <!-- 20 -->\n      <g transform=\"translate(110.932197 239.238437)scale(0.1 -0.1)\">\n       <defs>\n        <path d=\"M 19.1875 8.296875 \nL 53.609375 8.296875 \nL 53.609375 0 \nL 7.328125 0 \nL 7.328125 8.296875 \nQ 12.9375 14.109375 22.625 23.890625 \nQ 32.328125 33.6875 34.8125 36.53125 \nQ 39.546875 41.84375 41.421875 45.53125 \nQ 43.3125 49.21875 43.3125 52.78125 \nQ 43.3125 58.59375 39.234375 62.25 \nQ 35.15625 65.921875 28.609375 65.921875 \nQ 23.96875 65.921875 18.8125 64.3125 \nQ 13.671875 62.703125 7.8125 59.421875 \nL 7.8125 69.390625 \nQ 13.765625 71.78125 18.9375 73 \nQ 24.125 74.21875 28.421875 74.21875 \nQ 39.75 74.21875 46.484375 68.546875 \nQ 53.21875 62.890625 53.21875 53.421875 \nQ 53.21875 48.921875 51.53125 44.890625 \nQ 49.859375 40.875 45.40625 35.40625 \nQ 44.1875 33.984375 37.640625 27.21875 \nQ 31.109375 20.453125 19.1875 8.296875 \nz\n\" id=\"DejaVuSans-50\"/>\n       </defs>\n       <use xlink:href=\"#DejaVuSans-50\"/>\n       <use x=\"63.623047\" xlink:href=\"#DejaVuSans-48\"/>\n      </g>\n     </g>\n    </g>\n    <g id=\"xtick_4\">\n     <g id=\"line2d_4\">\n      <g>\n       <use style=\"stroke:#000000;stroke-width:0.8;\" x=\"154.870455\" xlink:href=\"#m1635b66cd7\" y=\"224.64\"/>\n      </g>\n     </g>\n     <g id=\"text_4\">\n      <!-- 30 -->\n      <g transform=\"translate(148.507955 239.238437)scale(0.1 -0.1)\">\n       <defs>\n        <path d=\"M 40.578125 39.3125 \nQ 47.65625 37.796875 51.625 33 \nQ 55.609375 28.21875 55.609375 21.1875 \nQ 55.609375 10.40625 48.1875 4.484375 \nQ 40.765625 -1.421875 27.09375 -1.421875 \nQ 22.515625 -1.421875 17.65625 -0.515625 \nQ 12.796875 0.390625 7.625 2.203125 \nL 7.625 11.71875 \nQ 11.71875 9.328125 16.59375 8.109375 \nQ 21.484375 6.890625 26.8125 6.890625 \nQ 36.078125 6.890625 40.9375 10.546875 \nQ 45.796875 14.203125 45.796875 21.1875 \nQ 45.796875 27.640625 41.28125 31.265625 \nQ 36.765625 34.90625 28.71875 34.90625 \nL 20.21875 34.90625 \nL 20.21875 43.015625 \nL 29.109375 43.015625 \nQ 36.375 43.015625 40.234375 45.921875 \nQ 44.09375 48.828125 44.09375 54.296875 \nQ 44.09375 59.90625 40.109375 62.90625 \nQ 36.140625 65.921875 28.71875 65.921875 \nQ 24.65625 65.921875 20.015625 65.03125 \nQ 15.375 64.15625 9.8125 62.3125 \nL 9.8125 71.09375 \nQ 15.4375 72.65625 20.34375 73.4375 \nQ 25.25 74.21875 29.59375 74.21875 \nQ 40.828125 74.21875 47.359375 69.109375 \nQ 53.90625 64.015625 53.90625 55.328125 \nQ 53.90625 49.265625 50.4375 45.09375 \nQ 46.96875 40.921875 40.578125 39.3125 \nz\n\" id=\"DejaVuSans-51\"/>\n       </defs>\n       <use xlink:href=\"#DejaVuSans-51\"/>\n       <use x=\"63.623047\" xlink:href=\"#DejaVuSans-48\"/>\n      </g>\n     </g>\n    </g>\n    <g id=\"xtick_5\">\n     <g id=\"line2d_5\">\n      <g>\n       <use style=\"stroke:#000000;stroke-width:0.8;\" x=\"192.446212\" xlink:href=\"#m1635b66cd7\" y=\"224.64\"/>\n      </g>\n     </g>\n     <g id=\"text_5\">\n      <!-- 40 -->\n      <g transform=\"translate(186.083712 239.238437)scale(0.1 -0.1)\">\n       <defs>\n        <path d=\"M 37.796875 64.3125 \nL 12.890625 25.390625 \nL 37.796875 25.390625 \nz\nM 35.203125 72.90625 \nL 47.609375 72.90625 \nL 47.609375 25.390625 \nL 58.015625 25.390625 \nL 58.015625 17.1875 \nL 47.609375 17.1875 \nL 47.609375 0 \nL 37.796875 0 \nL 37.796875 17.1875 \nL 4.890625 17.1875 \nL 4.890625 26.703125 \nz\n\" id=\"DejaVuSans-52\"/>\n       </defs>\n       <use xlink:href=\"#DejaVuSans-52\"/>\n       <use x=\"63.623047\" xlink:href=\"#DejaVuSans-48\"/>\n      </g>\n     </g>\n    </g>\n    <g id=\"xtick_6\">\n     <g id=\"line2d_6\">\n      <g>\n       <use style=\"stroke:#000000;stroke-width:0.8;\" x=\"230.02197\" xlink:href=\"#m1635b66cd7\" y=\"224.64\"/>\n      </g>\n     </g>\n     <g id=\"text_6\">\n      <!-- 50 -->\n      <g transform=\"translate(223.65947 239.238437)scale(0.1 -0.1)\">\n       <defs>\n        <path d=\"M 10.796875 72.90625 \nL 49.515625 72.90625 \nL 49.515625 64.59375 \nL 19.828125 64.59375 \nL 19.828125 46.734375 \nQ 21.96875 47.46875 24.109375 47.828125 \nQ 26.265625 48.1875 28.421875 48.1875 \nQ 40.625 48.1875 47.75 41.5 \nQ 54.890625 34.8125 54.890625 23.390625 \nQ 54.890625 11.625 47.5625 5.09375 \nQ 40.234375 -1.421875 26.90625 -1.421875 \nQ 22.3125 -1.421875 17.546875 -0.640625 \nQ 12.796875 0.140625 7.71875 1.703125 \nL 7.71875 11.625 \nQ 12.109375 9.234375 16.796875 8.0625 \nQ 21.484375 6.890625 26.703125 6.890625 \nQ 35.15625 6.890625 40.078125 11.328125 \nQ 45.015625 15.765625 45.015625 23.390625 \nQ 45.015625 31 40.078125 35.4375 \nQ 35.15625 39.890625 26.703125 39.890625 \nQ 22.75 39.890625 18.8125 39.015625 \nQ 14.890625 38.140625 10.796875 36.28125 \nz\n\" id=\"DejaVuSans-53\"/>\n       </defs>\n       <use xlink:href=\"#DejaVuSans-53\"/>\n       <use x=\"63.623047\" xlink:href=\"#DejaVuSans-48\"/>\n      </g>\n     </g>\n    </g>\n    <g id=\"xtick_7\">\n     <g id=\"line2d_7\">\n      <g>\n       <use style=\"stroke:#000000;stroke-width:0.8;\" x=\"267.597727\" xlink:href=\"#m1635b66cd7\" y=\"224.64\"/>\n      </g>\n     </g>\n     <g id=\"text_7\">\n      <!-- 60 -->\n      <g transform=\"translate(261.235227 239.238437)scale(0.1 -0.1)\">\n       <defs>\n        <path d=\"M 33.015625 40.375 \nQ 26.375 40.375 22.484375 35.828125 \nQ 18.609375 31.296875 18.609375 23.390625 \nQ 18.609375 15.53125 22.484375 10.953125 \nQ 26.375 6.390625 33.015625 6.390625 \nQ 39.65625 6.390625 43.53125 10.953125 \nQ 47.40625 15.53125 47.40625 23.390625 \nQ 47.40625 31.296875 43.53125 35.828125 \nQ 39.65625 40.375 33.015625 40.375 \nz\nM 52.59375 71.296875 \nL 52.59375 62.3125 \nQ 48.875 64.0625 45.09375 64.984375 \nQ 41.3125 65.921875 37.59375 65.921875 \nQ 27.828125 65.921875 22.671875 59.328125 \nQ 17.53125 52.734375 16.796875 39.40625 \nQ 19.671875 43.65625 24.015625 45.921875 \nQ 28.375 48.1875 33.59375 48.1875 \nQ 44.578125 48.1875 50.953125 41.515625 \nQ 57.328125 34.859375 57.328125 23.390625 \nQ 57.328125 12.15625 50.6875 5.359375 \nQ 44.046875 -1.421875 33.015625 -1.421875 \nQ 20.359375 -1.421875 13.671875 8.265625 \nQ 6.984375 17.96875 6.984375 36.375 \nQ 6.984375 53.65625 15.1875 63.9375 \nQ 23.390625 74.21875 37.203125 74.21875 \nQ 40.921875 74.21875 44.703125 73.484375 \nQ 48.484375 72.75 52.59375 71.296875 \nz\n\" id=\"DejaVuSans-54\"/>\n       </defs>\n       <use xlink:href=\"#DejaVuSans-54\"/>\n       <use x=\"63.623047\" xlink:href=\"#DejaVuSans-48\"/>\n      </g>\n     </g>\n    </g>\n    <g id=\"xtick_8\">\n     <g id=\"line2d_8\">\n      <g>\n       <use style=\"stroke:#000000;stroke-width:0.8;\" x=\"305.173485\" xlink:href=\"#m1635b66cd7\" y=\"224.64\"/>\n      </g>\n     </g>\n     <g id=\"text_8\">\n      <!-- 70 -->\n      <g transform=\"translate(298.810985 239.238437)scale(0.1 -0.1)\">\n       <defs>\n        <path d=\"M 8.203125 72.90625 \nL 55.078125 72.90625 \nL 55.078125 68.703125 \nL 28.609375 0 \nL 18.3125 0 \nL 43.21875 64.59375 \nL 8.203125 64.59375 \nz\n\" id=\"DejaVuSans-55\"/>\n       </defs>\n       <use xlink:href=\"#DejaVuSans-55\"/>\n       <use x=\"63.623047\" xlink:href=\"#DejaVuSans-48\"/>\n      </g>\n     </g>\n    </g>\n    <g id=\"xtick_9\">\n     <g id=\"line2d_9\">\n      <g>\n       <use style=\"stroke:#000000;stroke-width:0.8;\" x=\"342.749242\" xlink:href=\"#m1635b66cd7\" y=\"224.64\"/>\n      </g>\n     </g>\n     <g id=\"text_9\">\n      <!-- 80 -->\n      <g transform=\"translate(336.386742 239.238437)scale(0.1 -0.1)\">\n       <defs>\n        <path d=\"M 31.78125 34.625 \nQ 24.75 34.625 20.71875 30.859375 \nQ 16.703125 27.09375 16.703125 20.515625 \nQ 16.703125 13.921875 20.71875 10.15625 \nQ 24.75 6.390625 31.78125 6.390625 \nQ 38.8125 6.390625 42.859375 10.171875 \nQ 46.921875 13.96875 46.921875 20.515625 \nQ 46.921875 27.09375 42.890625 30.859375 \nQ 38.875 34.625 31.78125 34.625 \nz\nM 21.921875 38.8125 \nQ 15.578125 40.375 12.03125 44.71875 \nQ 8.5 49.078125 8.5 55.328125 \nQ 8.5 64.0625 14.71875 69.140625 \nQ 20.953125 74.21875 31.78125 74.21875 \nQ 42.671875 74.21875 48.875 69.140625 \nQ 55.078125 64.0625 55.078125 55.328125 \nQ 55.078125 49.078125 51.53125 44.71875 \nQ 48 40.375 41.703125 38.8125 \nQ 48.828125 37.15625 52.796875 32.3125 \nQ 56.78125 27.484375 56.78125 20.515625 \nQ 56.78125 9.90625 50.3125 4.234375 \nQ 43.84375 -1.421875 31.78125 -1.421875 \nQ 19.734375 -1.421875 13.25 4.234375 \nQ 6.78125 9.90625 6.78125 20.515625 \nQ 6.78125 27.484375 10.78125 32.3125 \nQ 14.796875 37.15625 21.921875 38.8125 \nz\nM 18.3125 54.390625 \nQ 18.3125 48.734375 21.84375 45.5625 \nQ 25.390625 42.390625 31.78125 42.390625 \nQ 38.140625 42.390625 41.71875 45.5625 \nQ 45.3125 48.734375 45.3125 54.390625 \nQ 45.3125 60.0625 41.71875 63.234375 \nQ 38.140625 66.40625 31.78125 66.40625 \nQ 25.390625 66.40625 21.84375 63.234375 \nQ 18.3125 60.0625 18.3125 54.390625 \nz\n\" id=\"DejaVuSans-56\"/>\n       </defs>\n       <use xlink:href=\"#DejaVuSans-56\"/>\n       <use x=\"63.623047\" xlink:href=\"#DejaVuSans-48\"/>\n      </g>\n     </g>\n    </g>\n   </g>\n   <g id=\"matplotlib.axis_2\">\n    <g id=\"ytick_1\">\n     <g id=\"line2d_10\">\n      <defs>\n       <path d=\"M 0 0 \nL -3.5 0 \n\" id=\"m531ea2f598\" style=\"stroke:#000000;stroke-width:0.8;\"/>\n      </defs>\n      <g>\n       <use style=\"stroke:#000000;stroke-width:0.8;\" x=\"26.925\" xlink:href=\"#m531ea2f598\" y=\"214.756364\"/>\n      </g>\n     </g>\n     <g id=\"text_10\">\n      <!-- 0 -->\n      <g transform=\"translate(13.5625 218.555582)scale(0.1 -0.1)\">\n       <use xlink:href=\"#DejaVuSans-48\"/>\n      </g>\n     </g>\n    </g>\n    <g id=\"ytick_2\">\n     <g id=\"line2d_11\">\n      <g>\n       <use style=\"stroke:#000000;stroke-width:0.8;\" x=\"26.925\" xlink:href=\"#m531ea2f598\" y=\"190.352323\"/>\n      </g>\n     </g>\n     <g id=\"text_11\">\n      <!-- 10 -->\n      <g transform=\"translate(7.2 194.151542)scale(0.1 -0.1)\">\n       <use xlink:href=\"#DejaVuSans-49\"/>\n       <use x=\"63.623047\" xlink:href=\"#DejaVuSans-48\"/>\n      </g>\n     </g>\n    </g>\n    <g id=\"ytick_3\">\n     <g id=\"line2d_12\">\n      <g>\n       <use style=\"stroke:#000000;stroke-width:0.8;\" x=\"26.925\" xlink:href=\"#m531ea2f598\" y=\"165.948283\"/>\n      </g>\n     </g>\n     <g id=\"text_12\">\n      <!-- 20 -->\n      <g transform=\"translate(7.2 169.747502)scale(0.1 -0.1)\">\n       <use xlink:href=\"#DejaVuSans-50\"/>\n       <use x=\"63.623047\" xlink:href=\"#DejaVuSans-48\"/>\n      </g>\n     </g>\n    </g>\n    <g id=\"ytick_4\">\n     <g id=\"line2d_13\">\n      <g>\n       <use style=\"stroke:#000000;stroke-width:0.8;\" x=\"26.925\" xlink:href=\"#m531ea2f598\" y=\"141.544242\"/>\n      </g>\n     </g>\n     <g id=\"text_13\">\n      <!-- 30 -->\n      <g transform=\"translate(7.2 145.343461)scale(0.1 -0.1)\">\n       <use xlink:href=\"#DejaVuSans-51\"/>\n       <use x=\"63.623047\" xlink:href=\"#DejaVuSans-48\"/>\n      </g>\n     </g>\n    </g>\n    <g id=\"ytick_5\">\n     <g id=\"line2d_14\">\n      <g>\n       <use style=\"stroke:#000000;stroke-width:0.8;\" x=\"26.925\" xlink:href=\"#m531ea2f598\" y=\"117.140202\"/>\n      </g>\n     </g>\n     <g id=\"text_14\">\n      <!-- 40 -->\n      <g transform=\"translate(7.2 120.939421)scale(0.1 -0.1)\">\n       <use xlink:href=\"#DejaVuSans-52\"/>\n       <use x=\"63.623047\" xlink:href=\"#DejaVuSans-48\"/>\n      </g>\n     </g>\n    </g>\n    <g id=\"ytick_6\">\n     <g id=\"line2d_15\">\n      <g>\n       <use style=\"stroke:#000000;stroke-width:0.8;\" x=\"26.925\" xlink:href=\"#m531ea2f598\" y=\"92.736162\"/>\n      </g>\n     </g>\n     <g id=\"text_15\">\n      <!-- 50 -->\n      <g transform=\"translate(7.2 96.53538)scale(0.1 -0.1)\">\n       <use xlink:href=\"#DejaVuSans-53\"/>\n       <use x=\"63.623047\" xlink:href=\"#DejaVuSans-48\"/>\n      </g>\n     </g>\n    </g>\n    <g id=\"ytick_7\">\n     <g id=\"line2d_16\">\n      <g>\n       <use style=\"stroke:#000000;stroke-width:0.8;\" x=\"26.925\" xlink:href=\"#m531ea2f598\" y=\"68.332121\"/>\n      </g>\n     </g>\n     <g id=\"text_16\">\n      <!-- 60 -->\n      <g transform=\"translate(7.2 72.13134)scale(0.1 -0.1)\">\n       <use xlink:href=\"#DejaVuSans-54\"/>\n       <use x=\"63.623047\" xlink:href=\"#DejaVuSans-48\"/>\n      </g>\n     </g>\n    </g>\n    <g id=\"ytick_8\">\n     <g id=\"line2d_17\">\n      <g>\n       <use style=\"stroke:#000000;stroke-width:0.8;\" x=\"26.925\" xlink:href=\"#m531ea2f598\" y=\"43.928081\"/>\n      </g>\n     </g>\n     <g id=\"text_17\">\n      <!-- 70 -->\n      <g transform=\"translate(7.2 47.7273)scale(0.1 -0.1)\">\n       <use xlink:href=\"#DejaVuSans-55\"/>\n       <use x=\"63.623047\" xlink:href=\"#DejaVuSans-48\"/>\n      </g>\n     </g>\n    </g>\n    <g id=\"ytick_9\">\n     <g id=\"line2d_18\">\n      <g>\n       <use style=\"stroke:#000000;stroke-width:0.8;\" x=\"26.925\" xlink:href=\"#m531ea2f598\" y=\"19.52404\"/>\n      </g>\n     </g>\n     <g id=\"text_18\">\n      <!-- 80 -->\n      <g transform=\"translate(7.2 23.323259)scale(0.1 -0.1)\">\n       <use xlink:href=\"#DejaVuSans-56\"/>\n       <use x=\"63.623047\" xlink:href=\"#DejaVuSans-48\"/>\n      </g>\n     </g>\n    </g>\n   </g>\n   <g id=\"patch_3\">\n    <path d=\"M 26.925 224.64 \nL 26.925 7.2 \n\" style=\"fill:none;stroke:#000000;stroke-linecap:square;stroke-linejoin:miter;stroke-width:0.8;\"/>\n   </g>\n   <g id=\"patch_4\">\n    <path d=\"M 361.725 224.64 \nL 361.725 7.2 \n\" style=\"fill:none;stroke:#000000;stroke-linecap:square;stroke-linejoin:miter;stroke-width:0.8;\"/>\n   </g>\n   <g id=\"patch_5\">\n    <path d=\"M 26.925 224.64 \nL 361.725 224.64 \n\" style=\"fill:none;stroke:#000000;stroke-linecap:square;stroke-linejoin:miter;stroke-width:0.8;\"/>\n   </g>\n   <g id=\"patch_6\">\n    <path d=\"M 26.925 7.2 \nL 361.725 7.2 \n\" style=\"fill:none;stroke:#000000;stroke-linecap:square;stroke-linejoin:miter;stroke-width:0.8;\"/>\n   </g>\n  </g>\n </g>\n <defs>\n  <clipPath id=\"pcdc047475c\">\n   <rect height=\"217.44\" width=\"334.8\" x=\"26.925\" y=\"7.2\"/>\n  </clipPath>\n </defs>\n</svg>\n",
      "image/png": "[encoded data removed]"
     },
     "metadata": {
      "needs_background": "light"
     }
    }
   ],
   "source": [
    "qty_ship = df_2019.iloc[:,-4]\n",
    "price_net = df_2019.iloc[:,-5]\n",
    "plt.scatter(qty_ship,price_net)\n",
    "plt.show()"
   ]
  },
  {
   "cell_type": "code",
   "execution_count": null,
   "metadata": {},
   "outputs": [],
   "source": []
  },
  {
   "cell_type": "code",
   "execution_count": 300,
   "metadata": {},
   "outputs": [
    {
     "output_type": "execute_result",
     "data": {
      "text/plain": [
       "  Item_Add_date     qty_ship     price_net\n",
       "0    2020-01-12  1849.298701  28922.021883\n",
       "1    2020-01-19  1328.000000  37861.280000\n",
       "2    2020-01-02    22.571429   3468.540000\n",
       "3    2020-01-20    49.921053   1020.381579\n",
       "4    2020-01-21    16.888889   1265.194444"
      ],
      "text/html": "<div>\n<style scoped>\n    .dataframe tbody tr th:only-of-type {\n        vertical-align: middle;\n    }\n\n    .dataframe tbody tr th {\n        vertical-align: top;\n    }\n\n    .dataframe thead th {\n        text-align: right;\n    }\n</style>\n<table border=\"1\" class=\"dataframe\">\n  <thead>\n    <tr style=\"text-align: right;\">\n      <th></th>\n      <th>Item_Add_date</th>\n      <th>qty_ship</th>\n      <th>price_net</th>\n    </tr>\n  </thead>\n  <tbody>\n    <tr>\n      <th>0</th>\n      <td>2020-01-12</td>\n      <td>1849.298701</td>\n      <td>28922.021883</td>\n    </tr>\n    <tr>\n      <th>1</th>\n      <td>2020-01-19</td>\n      <td>1328.000000</td>\n      <td>37861.280000</td>\n    </tr>\n    <tr>\n      <th>2</th>\n      <td>2020-01-02</td>\n      <td>22.571429</td>\n      <td>3468.540000</td>\n    </tr>\n    <tr>\n      <th>3</th>\n      <td>2020-01-20</td>\n      <td>49.921053</td>\n      <td>1020.381579</td>\n    </tr>\n    <tr>\n      <th>4</th>\n      <td>2020-01-21</td>\n      <td>16.888889</td>\n      <td>1265.194444</td>\n    </tr>\n  </tbody>\n</table>\n</div>"
     },
     "metadata": {},
     "execution_count": 300
    }
   ],
   "source": [
    "df_2020.head()"
   ]
  },
  {
   "cell_type": "code",
   "execution_count": 318,
   "metadata": {},
   "outputs": [
    {
     "output_type": "execute_result",
     "data": {
      "text/plain": [
       "   Item_Add_date     qty_ship     price_net\n",
       "0     2020-01-12  1849.298701  28922.021883\n",
       "1     2020-01-19  1328.000000  37861.280000\n",
       "2     2020-01-02    22.571429   3468.540000\n",
       "3     2020-01-20    49.921053   1020.381579\n",
       "4     2020-01-21    16.888889   1265.194444\n",
       "..           ...          ...           ...\n",
       "79    2020-09-15     1.000000     48.160000\n",
       "80    2020-09-02   140.000000   5460.000000\n",
       "81    2020-09-24     6.000000    899.700000\n",
       "82    2020-09-28    26.000000   1297.920000\n",
       "83    2020-09-08     1.925926    187.368889\n",
       "\n",
       "[84 rows x 3 columns]"
      ],
      "text/html": "<div>\n<style scoped>\n    .dataframe tbody tr th:only-of-type {\n        vertical-align: middle;\n    }\n\n    .dataframe tbody tr th {\n        vertical-align: top;\n    }\n\n    .dataframe thead th {\n        text-align: right;\n    }\n</style>\n<table border=\"1\" class=\"dataframe\">\n  <thead>\n    <tr style=\"text-align: right;\">\n      <th></th>\n      <th>Item_Add_date</th>\n      <th>qty_ship</th>\n      <th>price_net</th>\n    </tr>\n  </thead>\n  <tbody>\n    <tr>\n      <th>0</th>\n      <td>2020-01-12</td>\n      <td>1849.298701</td>\n      <td>28922.021883</td>\n    </tr>\n    <tr>\n      <th>1</th>\n      <td>2020-01-19</td>\n      <td>1328.000000</td>\n      <td>37861.280000</td>\n    </tr>\n    <tr>\n      <th>2</th>\n      <td>2020-01-02</td>\n      <td>22.571429</td>\n      <td>3468.540000</td>\n    </tr>\n    <tr>\n      <th>3</th>\n      <td>2020-01-20</td>\n      <td>49.921053</td>\n      <td>1020.381579</td>\n    </tr>\n    <tr>\n      <th>4</th>\n      <td>2020-01-21</td>\n      <td>16.888889</td>\n      <td>1265.194444</td>\n    </tr>\n    <tr>\n      <th>...</th>\n      <td>...</td>\n      <td>...</td>\n      <td>...</td>\n    </tr>\n    <tr>\n      <th>79</th>\n      <td>2020-09-15</td>\n      <td>1.000000</td>\n      <td>48.160000</td>\n    </tr>\n    <tr>\n      <th>80</th>\n      <td>2020-09-02</td>\n      <td>140.000000</td>\n      <td>5460.000000</td>\n    </tr>\n    <tr>\n      <th>81</th>\n      <td>2020-09-24</td>\n      <td>6.000000</td>\n      <td>899.700000</td>\n    </tr>\n    <tr>\n      <th>82</th>\n      <td>2020-09-28</td>\n      <td>26.000000</td>\n      <td>1297.920000</td>\n    </tr>\n    <tr>\n      <th>83</th>\n      <td>2020-09-08</td>\n      <td>1.925926</td>\n      <td>187.368889</td>\n    </tr>\n  </tbody>\n</table>\n<p>84 rows × 3 columns</p>\n</div>"
     },
     "metadata": {},
     "execution_count": 318
    }
   ],
   "source": [
    "df_2020"
   ]
  },
  {
   "cell_type": "code",
   "execution_count": 319,
   "metadata": {},
   "outputs": [
    {
     "output_type": "error",
     "ename": "ValueError",
     "evalue": "x and y must be the same size",
     "traceback": [
      "\u001b[0;31m---------------------------------------------------------------------------\u001b[0m",
      "\u001b[0;31mValueError\u001b[0m                                Traceback (most recent call last)",
      "\u001b[0;32m<ipython-input-319-d3b7bb7f2099>\u001b[0m in \u001b[0;36m<module>\u001b[0;34m\u001b[0m\n\u001b[1;32m      1\u001b[0m \u001b[0mqty_ship\u001b[0m \u001b[0;34m=\u001b[0m \u001b[0mdf_2020\u001b[0m\u001b[0;34m.\u001b[0m\u001b[0miloc\u001b[0m\u001b[0;34m[\u001b[0m\u001b[0;34m:\u001b[0m\u001b[0;34m,\u001b[0m\u001b[0;36m2\u001b[0m\u001b[0;34m]\u001b[0m\u001b[0;34m\u001b[0m\u001b[0;34m\u001b[0m\u001b[0m\n\u001b[1;32m      2\u001b[0m \u001b[0mprice_net\u001b[0m \u001b[0;34m=\u001b[0m \u001b[0mdf_2019\u001b[0m\u001b[0;34m.\u001b[0m\u001b[0miloc\u001b[0m\u001b[0;34m[\u001b[0m\u001b[0;34m:\u001b[0m\u001b[0;34m,\u001b[0m\u001b[0;36m3\u001b[0m\u001b[0;34m]\u001b[0m\u001b[0;34m\u001b[0m\u001b[0;34m\u001b[0m\u001b[0m\n\u001b[0;32m----> 3\u001b[0;31m \u001b[0mplt\u001b[0m\u001b[0;34m.\u001b[0m\u001b[0mscatter\u001b[0m\u001b[0;34m(\u001b[0m\u001b[0mqty_ship\u001b[0m\u001b[0;34m,\u001b[0m\u001b[0mprice_net\u001b[0m\u001b[0;34m)\u001b[0m\u001b[0;34m\u001b[0m\u001b[0;34m\u001b[0m\u001b[0m\n\u001b[0m\u001b[1;32m      4\u001b[0m \u001b[0mplt\u001b[0m\u001b[0;34m.\u001b[0m\u001b[0mshow\u001b[0m\u001b[0;34m(\u001b[0m\u001b[0;34m)\u001b[0m\u001b[0;34m\u001b[0m\u001b[0;34m\u001b[0m\u001b[0m\n",
      "\u001b[0;32m~/opt/anaconda3/lib/python3.8/site-packages/matplotlib/pyplot.py\u001b[0m in \u001b[0;36mscatter\u001b[0;34m(x, y, s, c, marker, cmap, norm, vmin, vmax, alpha, linewidths, verts, edgecolors, plotnonfinite, data, **kwargs)\u001b[0m\n\u001b[1;32m   2888\u001b[0m         \u001b[0mverts\u001b[0m\u001b[0;34m=\u001b[0m\u001b[0mcbook\u001b[0m\u001b[0;34m.\u001b[0m\u001b[0mdeprecation\u001b[0m\u001b[0;34m.\u001b[0m\u001b[0m_deprecated_parameter\u001b[0m\u001b[0;34m,\u001b[0m\u001b[0;34m\u001b[0m\u001b[0;34m\u001b[0m\u001b[0m\n\u001b[1;32m   2889\u001b[0m         edgecolors=None, *, plotnonfinite=False, data=None, **kwargs):\n\u001b[0;32m-> 2890\u001b[0;31m     __ret = gca().scatter(\n\u001b[0m\u001b[1;32m   2891\u001b[0m         \u001b[0mx\u001b[0m\u001b[0;34m,\u001b[0m \u001b[0my\u001b[0m\u001b[0;34m,\u001b[0m \u001b[0ms\u001b[0m\u001b[0;34m=\u001b[0m\u001b[0ms\u001b[0m\u001b[0;34m,\u001b[0m \u001b[0mc\u001b[0m\u001b[0;34m=\u001b[0m\u001b[0mc\u001b[0m\u001b[0;34m,\u001b[0m \u001b[0mmarker\u001b[0m\u001b[0;34m=\u001b[0m\u001b[0mmarker\u001b[0m\u001b[0;34m,\u001b[0m \u001b[0mcmap\u001b[0m\u001b[0;34m=\u001b[0m\u001b[0mcmap\u001b[0m\u001b[0;34m,\u001b[0m \u001b[0mnorm\u001b[0m\u001b[0;34m=\u001b[0m\u001b[0mnorm\u001b[0m\u001b[0;34m,\u001b[0m\u001b[0;34m\u001b[0m\u001b[0;34m\u001b[0m\u001b[0m\n\u001b[1;32m   2892\u001b[0m         \u001b[0mvmin\u001b[0m\u001b[0;34m=\u001b[0m\u001b[0mvmin\u001b[0m\u001b[0;34m,\u001b[0m \u001b[0mvmax\u001b[0m\u001b[0;34m=\u001b[0m\u001b[0mvmax\u001b[0m\u001b[0;34m,\u001b[0m \u001b[0malpha\u001b[0m\u001b[0;34m=\u001b[0m\u001b[0malpha\u001b[0m\u001b[0;34m,\u001b[0m \u001b[0mlinewidths\u001b[0m\u001b[0;34m=\u001b[0m\u001b[0mlinewidths\u001b[0m\u001b[0;34m,\u001b[0m\u001b[0;34m\u001b[0m\u001b[0;34m\u001b[0m\u001b[0m\n",
      "\u001b[0;32m~/opt/anaconda3/lib/python3.8/site-packages/matplotlib/__init__.py\u001b[0m in \u001b[0;36minner\u001b[0;34m(ax, data, *args, **kwargs)\u001b[0m\n\u001b[1;32m   1436\u001b[0m     \u001b[0;32mdef\u001b[0m \u001b[0minner\u001b[0m\u001b[0;34m(\u001b[0m\u001b[0max\u001b[0m\u001b[0;34m,\u001b[0m \u001b[0;34m*\u001b[0m\u001b[0margs\u001b[0m\u001b[0;34m,\u001b[0m \u001b[0mdata\u001b[0m\u001b[0;34m=\u001b[0m\u001b[0;32mNone\u001b[0m\u001b[0;34m,\u001b[0m \u001b[0;34m**\u001b[0m\u001b[0mkwargs\u001b[0m\u001b[0;34m)\u001b[0m\u001b[0;34m:\u001b[0m\u001b[0;34m\u001b[0m\u001b[0;34m\u001b[0m\u001b[0m\n\u001b[1;32m   1437\u001b[0m         \u001b[0;32mif\u001b[0m \u001b[0mdata\u001b[0m \u001b[0;32mis\u001b[0m \u001b[0;32mNone\u001b[0m\u001b[0;34m:\u001b[0m\u001b[0;34m\u001b[0m\u001b[0;34m\u001b[0m\u001b[0m\n\u001b[0;32m-> 1438\u001b[0;31m             \u001b[0;32mreturn\u001b[0m \u001b[0mfunc\u001b[0m\u001b[0;34m(\u001b[0m\u001b[0max\u001b[0m\u001b[0;34m,\u001b[0m \u001b[0;34m*\u001b[0m\u001b[0mmap\u001b[0m\u001b[0;34m(\u001b[0m\u001b[0msanitize_sequence\u001b[0m\u001b[0;34m,\u001b[0m \u001b[0margs\u001b[0m\u001b[0;34m)\u001b[0m\u001b[0;34m,\u001b[0m \u001b[0;34m**\u001b[0m\u001b[0mkwargs\u001b[0m\u001b[0;34m)\u001b[0m\u001b[0;34m\u001b[0m\u001b[0;34m\u001b[0m\u001b[0m\n\u001b[0m\u001b[1;32m   1439\u001b[0m \u001b[0;34m\u001b[0m\u001b[0m\n\u001b[1;32m   1440\u001b[0m         \u001b[0mbound\u001b[0m \u001b[0;34m=\u001b[0m \u001b[0mnew_sig\u001b[0m\u001b[0;34m.\u001b[0m\u001b[0mbind\u001b[0m\u001b[0;34m(\u001b[0m\u001b[0max\u001b[0m\u001b[0;34m,\u001b[0m \u001b[0;34m*\u001b[0m\u001b[0margs\u001b[0m\u001b[0;34m,\u001b[0m \u001b[0;34m**\u001b[0m\u001b[0mkwargs\u001b[0m\u001b[0;34m)\u001b[0m\u001b[0;34m\u001b[0m\u001b[0;34m\u001b[0m\u001b[0m\n",
      "\u001b[0;32m~/opt/anaconda3/lib/python3.8/site-packages/matplotlib/cbook/deprecation.py\u001b[0m in \u001b[0;36mwrapper\u001b[0;34m(*inner_args, **inner_kwargs)\u001b[0m\n\u001b[1;32m    409\u001b[0m                          \u001b[0;32melse\u001b[0m \u001b[0mdeprecation_addendum\u001b[0m\u001b[0;34m,\u001b[0m\u001b[0;34m\u001b[0m\u001b[0;34m\u001b[0m\u001b[0m\n\u001b[1;32m    410\u001b[0m                 **kwargs)\n\u001b[0;32m--> 411\u001b[0;31m         \u001b[0;32mreturn\u001b[0m \u001b[0mfunc\u001b[0m\u001b[0;34m(\u001b[0m\u001b[0;34m*\u001b[0m\u001b[0minner_args\u001b[0m\u001b[0;34m,\u001b[0m \u001b[0;34m**\u001b[0m\u001b[0minner_kwargs\u001b[0m\u001b[0;34m)\u001b[0m\u001b[0;34m\u001b[0m\u001b[0;34m\u001b[0m\u001b[0m\n\u001b[0m\u001b[1;32m    412\u001b[0m \u001b[0;34m\u001b[0m\u001b[0m\n\u001b[1;32m    413\u001b[0m     \u001b[0;32mreturn\u001b[0m \u001b[0mwrapper\u001b[0m\u001b[0;34m\u001b[0m\u001b[0;34m\u001b[0m\u001b[0m\n",
      "\u001b[0;32m~/opt/anaconda3/lib/python3.8/site-packages/matplotlib/axes/_axes.py\u001b[0m in \u001b[0;36mscatter\u001b[0;34m(self, x, y, s, c, marker, cmap, norm, vmin, vmax, alpha, linewidths, verts, edgecolors, plotnonfinite, **kwargs)\u001b[0m\n\u001b[1;32m   4439\u001b[0m         \u001b[0my\u001b[0m \u001b[0;34m=\u001b[0m \u001b[0mnp\u001b[0m\u001b[0;34m.\u001b[0m\u001b[0mma\u001b[0m\u001b[0;34m.\u001b[0m\u001b[0mravel\u001b[0m\u001b[0;34m(\u001b[0m\u001b[0my\u001b[0m\u001b[0;34m)\u001b[0m\u001b[0;34m\u001b[0m\u001b[0;34m\u001b[0m\u001b[0m\n\u001b[1;32m   4440\u001b[0m         \u001b[0;32mif\u001b[0m \u001b[0mx\u001b[0m\u001b[0;34m.\u001b[0m\u001b[0msize\u001b[0m \u001b[0;34m!=\u001b[0m \u001b[0my\u001b[0m\u001b[0;34m.\u001b[0m\u001b[0msize\u001b[0m\u001b[0;34m:\u001b[0m\u001b[0;34m\u001b[0m\u001b[0;34m\u001b[0m\u001b[0m\n\u001b[0;32m-> 4441\u001b[0;31m             \u001b[0;32mraise\u001b[0m \u001b[0mValueError\u001b[0m\u001b[0;34m(\u001b[0m\u001b[0;34m\"x and y must be the same size\"\u001b[0m\u001b[0;34m)\u001b[0m\u001b[0;34m\u001b[0m\u001b[0;34m\u001b[0m\u001b[0m\n\u001b[0m\u001b[1;32m   4442\u001b[0m \u001b[0;34m\u001b[0m\u001b[0m\n\u001b[1;32m   4443\u001b[0m         \u001b[0;32mif\u001b[0m \u001b[0ms\u001b[0m \u001b[0;32mis\u001b[0m \u001b[0;32mNone\u001b[0m\u001b[0;34m:\u001b[0m\u001b[0;34m\u001b[0m\u001b[0;34m\u001b[0m\u001b[0m\n",
      "\u001b[0;31mValueError\u001b[0m: x and y must be the same size"
     ]
    }
   ],
   "source": [
    "qty_ship = df_2020.iloc[:,2]\n",
    "price_net = df_2019.iloc[:,3]\n",
    "plt.scatter(qty_ship,price_net)\n",
    "plt.show()"
   ]
  },
  {
   "cell_type": "code",
   "execution_count": 308,
   "metadata": {},
   "outputs": [
    {
     "output_type": "execute_result",
     "data": {
      "text/plain": [
       "qty_ship     701\n",
       "price_net    701\n",
       "dtype: int64"
      ]
     },
     "metadata": {},
     "execution_count": 308
    }
   ],
   "source": [
    "# Check to see if there are any rows with missing data\n",
    "Item_Add_date_group.count()"
   ]
  },
  {
   "cell_type": "code",
   "execution_count": 199,
   "metadata": {},
   "outputs": [
    {
     "output_type": "execute_result",
     "data": {
      "text/plain": [
       "index            82\n",
       "Item_Add_date    82\n",
       "qty_ship         82\n",
       "price_net        82\n",
       "dtype: int64"
      ]
     },
     "metadata": {},
     "execution_count": 199
    }
   ],
   "source": [
    "df_2019.count()"
   ]
  },
  {
   "cell_type": "code",
   "execution_count": 309,
   "metadata": {},
   "outputs": [
    {
     "output_type": "execute_result",
     "data": {
      "text/plain": [
       "Item_Add_date    84\n",
       "qty_ship         84\n",
       "price_net        84\n",
       "dtype: int64"
      ]
     },
     "metadata": {},
     "execution_count": 309
    }
   ],
   "source": [
    "df_2020.count()"
   ]
  },
  {
   "cell_type": "code",
   "execution_count": 317,
   "metadata": {},
   "outputs": [
    {
     "output_type": "error",
     "ename": "KeyError",
     "evalue": "0     1849.298701\n1     1328.000000\n2       22.571429\n3       49.921053\n4       16.888889\n         ...     \n79       1.000000\n80     140.000000\n81       6.000000\n82      26.000000\n83       1.925926\nName: qty_ship, Length: 84, dtype: float64",
     "traceback": [
      "\u001b[0;31m---------------------------------------------------------------------------\u001b[0m",
      "\u001b[0;31mKeyError\u001b[0m                                  Traceback (most recent call last)",
      "\u001b[0;32m<ipython-input-317-c4b26f8e4ff0>\u001b[0m in \u001b[0;36m<module>\u001b[0;34m\u001b[0m\n\u001b[1;32m      1\u001b[0m \u001b[0;31m#df = df_2019\u001b[0m\u001b[0;34m\u001b[0m\u001b[0;34m\u001b[0m\u001b[0;34m\u001b[0m\u001b[0m\n\u001b[0;32m----> 2\u001b[0;31m \u001b[0mdf\u001b[0m\u001b[0;34m.\u001b[0m\u001b[0msort_values\u001b[0m\u001b[0;34m(\u001b[0m\u001b[0mby\u001b[0m\u001b[0;34m=\u001b[0m\u001b[0;34m[\u001b[0m\u001b[0mqty_ship\u001b[0m\u001b[0;34m,\u001b[0m \u001b[0mprice_net\u001b[0m\u001b[0;34m]\u001b[0m\u001b[0;34m)\u001b[0m\u001b[0;34m\u001b[0m\u001b[0;34m\u001b[0m\u001b[0m\n\u001b[0m\u001b[1;32m      3\u001b[0m \u001b[0mdf\u001b[0m\u001b[0;34m.\u001b[0m\u001b[0msort_values\u001b[0m\u001b[0;34m.\u001b[0m\u001b[0mhead\u001b[0m\u001b[0;34m(\u001b[0m\u001b[0;34m)\u001b[0m\u001b[0;34m\u001b[0m\u001b[0;34m\u001b[0m\u001b[0m\n",
      "\u001b[0;32m~/opt/anaconda3/lib/python3.8/site-packages/pandas/core/frame.py\u001b[0m in \u001b[0;36msort_values\u001b[0;34m(self, by, axis, ascending, inplace, kind, na_position, ignore_index, key)\u001b[0m\n\u001b[1;32m   5278\u001b[0m             \u001b[0;32mfrom\u001b[0m \u001b[0mpandas\u001b[0m\u001b[0;34m.\u001b[0m\u001b[0mcore\u001b[0m\u001b[0;34m.\u001b[0m\u001b[0msorting\u001b[0m \u001b[0;32mimport\u001b[0m \u001b[0mlexsort_indexer\u001b[0m\u001b[0;34m\u001b[0m\u001b[0;34m\u001b[0m\u001b[0m\n\u001b[1;32m   5279\u001b[0m \u001b[0;34m\u001b[0m\u001b[0m\n\u001b[0;32m-> 5280\u001b[0;31m             \u001b[0mkeys\u001b[0m \u001b[0;34m=\u001b[0m \u001b[0;34m[\u001b[0m\u001b[0mself\u001b[0m\u001b[0;34m.\u001b[0m\u001b[0m_get_label_or_level_values\u001b[0m\u001b[0;34m(\u001b[0m\u001b[0mx\u001b[0m\u001b[0;34m,\u001b[0m \u001b[0maxis\u001b[0m\u001b[0;34m=\u001b[0m\u001b[0maxis\u001b[0m\u001b[0;34m)\u001b[0m \u001b[0;32mfor\u001b[0m \u001b[0mx\u001b[0m \u001b[0;32min\u001b[0m \u001b[0mby\u001b[0m\u001b[0;34m]\u001b[0m\u001b[0;34m\u001b[0m\u001b[0;34m\u001b[0m\u001b[0m\n\u001b[0m\u001b[1;32m   5281\u001b[0m \u001b[0;34m\u001b[0m\u001b[0m\n\u001b[1;32m   5282\u001b[0m             \u001b[0;31m# need to rewrap columns in Series to apply key function\u001b[0m\u001b[0;34m\u001b[0m\u001b[0;34m\u001b[0m\u001b[0;34m\u001b[0m\u001b[0m\n",
      "\u001b[0;32m~/opt/anaconda3/lib/python3.8/site-packages/pandas/core/frame.py\u001b[0m in \u001b[0;36m<listcomp>\u001b[0;34m(.0)\u001b[0m\n\u001b[1;32m   5278\u001b[0m             \u001b[0;32mfrom\u001b[0m \u001b[0mpandas\u001b[0m\u001b[0;34m.\u001b[0m\u001b[0mcore\u001b[0m\u001b[0;34m.\u001b[0m\u001b[0msorting\u001b[0m \u001b[0;32mimport\u001b[0m \u001b[0mlexsort_indexer\u001b[0m\u001b[0;34m\u001b[0m\u001b[0;34m\u001b[0m\u001b[0m\n\u001b[1;32m   5279\u001b[0m \u001b[0;34m\u001b[0m\u001b[0m\n\u001b[0;32m-> 5280\u001b[0;31m             \u001b[0mkeys\u001b[0m \u001b[0;34m=\u001b[0m \u001b[0;34m[\u001b[0m\u001b[0mself\u001b[0m\u001b[0;34m.\u001b[0m\u001b[0m_get_label_or_level_values\u001b[0m\u001b[0;34m(\u001b[0m\u001b[0mx\u001b[0m\u001b[0;34m,\u001b[0m \u001b[0maxis\u001b[0m\u001b[0;34m=\u001b[0m\u001b[0maxis\u001b[0m\u001b[0;34m)\u001b[0m \u001b[0;32mfor\u001b[0m \u001b[0mx\u001b[0m \u001b[0;32min\u001b[0m \u001b[0mby\u001b[0m\u001b[0;34m]\u001b[0m\u001b[0;34m\u001b[0m\u001b[0;34m\u001b[0m\u001b[0m\n\u001b[0m\u001b[1;32m   5281\u001b[0m \u001b[0;34m\u001b[0m\u001b[0m\n\u001b[1;32m   5282\u001b[0m             \u001b[0;31m# need to rewrap columns in Series to apply key function\u001b[0m\u001b[0;34m\u001b[0m\u001b[0;34m\u001b[0m\u001b[0;34m\u001b[0m\u001b[0m\n",
      "\u001b[0;32m~/opt/anaconda3/lib/python3.8/site-packages/pandas/core/generic.py\u001b[0m in \u001b[0;36m_get_label_or_level_values\u001b[0;34m(self, key, axis)\u001b[0m\n\u001b[1;32m   1561\u001b[0m             \u001b[0mvalues\u001b[0m \u001b[0;34m=\u001b[0m \u001b[0mself\u001b[0m\u001b[0;34m.\u001b[0m\u001b[0maxes\u001b[0m\u001b[0;34m[\u001b[0m\u001b[0maxis\u001b[0m\u001b[0;34m]\u001b[0m\u001b[0;34m.\u001b[0m\u001b[0mget_level_values\u001b[0m\u001b[0;34m(\u001b[0m\u001b[0mkey\u001b[0m\u001b[0;34m)\u001b[0m\u001b[0;34m.\u001b[0m\u001b[0m_values\u001b[0m\u001b[0;34m\u001b[0m\u001b[0;34m\u001b[0m\u001b[0m\n\u001b[1;32m   1562\u001b[0m         \u001b[0;32melse\u001b[0m\u001b[0;34m:\u001b[0m\u001b[0;34m\u001b[0m\u001b[0;34m\u001b[0m\u001b[0m\n\u001b[0;32m-> 1563\u001b[0;31m             \u001b[0;32mraise\u001b[0m \u001b[0mKeyError\u001b[0m\u001b[0;34m(\u001b[0m\u001b[0mkey\u001b[0m\u001b[0;34m)\u001b[0m\u001b[0;34m\u001b[0m\u001b[0;34m\u001b[0m\u001b[0m\n\u001b[0m\u001b[1;32m   1564\u001b[0m \u001b[0;34m\u001b[0m\u001b[0m\n\u001b[1;32m   1565\u001b[0m         \u001b[0;31m# Check for duplicates\u001b[0m\u001b[0;34m\u001b[0m\u001b[0;34m\u001b[0m\u001b[0;34m\u001b[0m\u001b[0m\n",
      "\u001b[0;31mKeyError\u001b[0m: 0     1849.298701\n1     1328.000000\n2       22.571429\n3       49.921053\n4       16.888889\n         ...     \n79       1.000000\n80     140.000000\n81       6.000000\n82      26.000000\n83       1.925926\nName: qty_ship, Length: 84, dtype: float64"
     ]
    }
   ],
   "source": [
    "#df = df_2019\n",
    "df.sort_values(by=[qty_ship, price_net])\n",
    "df.sort_values.head()"
   ]
  },
  {
   "cell_type": "code",
   "execution_count": 28,
   "metadata": {},
   "outputs": [
    {
     "output_type": "execute_result",
     "data": {
      "text/plain": [
       "   Item_Add_date_x   qty_ship_x   price_net_x Item_Add_date_y   qty_ship_y  \\\n",
       "0       2020-01-12  1849.298701  28922.021883      2019-01-15     2.818182   \n",
       "1       2020-01-19  1328.000000  37861.280000      2019-01-18     9.333333   \n",
       "2       2020-01-02    22.571429   3468.540000      2019-01-22   200.545455   \n",
       "3       2020-01-20    49.921053   1020.381579      2019-01-23     4.000000   \n",
       "4       2020-01-21    16.888889   1265.194444      2019-01-24    86.000000   \n",
       "..             ...          ...           ...             ...          ...   \n",
       "77      2020-08-06     6.000000    250.980000      2019-09-25     4.000000   \n",
       "78      2020-09-14     1.000000    260.340000      2019-09-26  4077.500000   \n",
       "79      2020-09-15     1.000000     48.160000      2019-09-03     3.833333   \n",
       "80      2020-09-02   140.000000   5460.000000      2019-09-04   194.000000   \n",
       "81      2020-09-24     6.000000    899.700000      2019-09-06     4.500000   \n",
       "\n",
       "    price_net_y  \n",
       "0   3618.996364  \n",
       "1   2754.906667  \n",
       "2   5483.429091  \n",
       "3   1323.000000  \n",
       "4   2231.700000  \n",
       "..          ...  \n",
       "77     7.800000  \n",
       "78   163.100000  \n",
       "79   280.124667  \n",
       "80   580.060000  \n",
       "81  3662.750000  \n",
       "\n",
       "[82 rows x 6 columns]"
      ],
      "text/html": "<div>\n<style scoped>\n    .dataframe tbody tr th:only-of-type {\n        vertical-align: middle;\n    }\n\n    .dataframe tbody tr th {\n        vertical-align: top;\n    }\n\n    .dataframe thead th {\n        text-align: right;\n    }\n</style>\n<table border=\"1\" class=\"dataframe\">\n  <thead>\n    <tr style=\"text-align: right;\">\n      <th></th>\n      <th>Item_Add_date_x</th>\n      <th>qty_ship_x</th>\n      <th>price_net_x</th>\n      <th>Item_Add_date_y</th>\n      <th>qty_ship_y</th>\n      <th>price_net_y</th>\n    </tr>\n  </thead>\n  <tbody>\n    <tr>\n      <th>0</th>\n      <td>2020-01-12</td>\n      <td>1849.298701</td>\n      <td>28922.021883</td>\n      <td>2019-01-15</td>\n      <td>2.818182</td>\n      <td>3618.996364</td>\n    </tr>\n    <tr>\n      <th>1</th>\n      <td>2020-01-19</td>\n      <td>1328.000000</td>\n      <td>37861.280000</td>\n      <td>2019-01-18</td>\n      <td>9.333333</td>\n      <td>2754.906667</td>\n    </tr>\n    <tr>\n      <th>2</th>\n      <td>2020-01-02</td>\n      <td>22.571429</td>\n      <td>3468.540000</td>\n      <td>2019-01-22</td>\n      <td>200.545455</td>\n      <td>5483.429091</td>\n    </tr>\n    <tr>\n      <th>3</th>\n      <td>2020-01-20</td>\n      <td>49.921053</td>\n      <td>1020.381579</td>\n      <td>2019-01-23</td>\n      <td>4.000000</td>\n      <td>1323.000000</td>\n    </tr>\n    <tr>\n      <th>4</th>\n      <td>2020-01-21</td>\n      <td>16.888889</td>\n      <td>1265.194444</td>\n      <td>2019-01-24</td>\n      <td>86.000000</td>\n      <td>2231.700000</td>\n    </tr>\n    <tr>\n      <th>...</th>\n      <td>...</td>\n      <td>...</td>\n      <td>...</td>\n      <td>...</td>\n      <td>...</td>\n      <td>...</td>\n    </tr>\n    <tr>\n      <th>77</th>\n      <td>2020-08-06</td>\n      <td>6.000000</td>\n      <td>250.980000</td>\n      <td>2019-09-25</td>\n      <td>4.000000</td>\n      <td>7.800000</td>\n    </tr>\n    <tr>\n      <th>78</th>\n      <td>2020-09-14</td>\n      <td>1.000000</td>\n      <td>260.340000</td>\n      <td>2019-09-26</td>\n      <td>4077.500000</td>\n      <td>163.100000</td>\n    </tr>\n    <tr>\n      <th>79</th>\n      <td>2020-09-15</td>\n      <td>1.000000</td>\n      <td>48.160000</td>\n      <td>2019-09-03</td>\n      <td>3.833333</td>\n      <td>280.124667</td>\n    </tr>\n    <tr>\n      <th>80</th>\n      <td>2020-09-02</td>\n      <td>140.000000</td>\n      <td>5460.000000</td>\n      <td>2019-09-04</td>\n      <td>194.000000</td>\n      <td>580.060000</td>\n    </tr>\n    <tr>\n      <th>81</th>\n      <td>2020-09-24</td>\n      <td>6.000000</td>\n      <td>899.700000</td>\n      <td>2019-09-06</td>\n      <td>4.500000</td>\n      <td>3662.750000</td>\n    </tr>\n  </tbody>\n</table>\n<p>82 rows × 6 columns</p>\n</div>"
     },
     "metadata": {},
     "execution_count": 28
    }
   ],
   "source": [
    "df_2020.merge(df_2019,left_index=True, right_index=True)"
   ]
  },
  {
   "cell_type": "code",
   "execution_count": 203,
   "metadata": {},
   "outputs": [
    {
     "output_type": "execute_result",
     "data": {
      "text/plain": [
       "              Silo Silo_Description Cust_ID                       name_cust  \\\n",
       "Item_Add_date                                                                 \n",
       "6/12/2015       I        Industrial   22777               USHER OIL COMPANY   \n",
       "6/12/2015       I        Industrial   22777               USHER OIL COMPANY   \n",
       "6/12/2015       I        Industrial   22777               USHER OIL COMPANY   \n",
       "6/12/2015       I        Industrial   22777               USHER OIL COMPANY   \n",
       "6/12/2015       I        Industrial   22777               USHER OIL COMPANY   \n",
       "...            ...              ...     ...                             ...   \n",
       "9/24/2019       I        Industrial    1801                  MSP INDUSTRIES   \n",
       "10/11/2019      J            JanSan    1000                    SAMPLE ORDER   \n",
       "10/11/2019      J            JanSan    1000                    SAMPLE ORDER   \n",
       "10/14/2019      I        Industrial   12663  LIBERTY STEEL INDUSTRIES, INC.   \n",
       "10/14/2019      I        Industrial   12663  LIBERTY STEEL INDUSTRIES, INC.   \n",
       "\n",
       "              id_st Date_Invoice     id_item                        descr_1  \\\n",
       "Item_Add_date                                                                 \n",
       "6/12/2015        MI    3/18/2019  1000ABS550                     ACTIV VIII   \n",
       "6/12/2015        MI    5/21/2019  1000ABS550                     ACTIV VIII   \n",
       "6/12/2015        MI    2/11/2020  1000ABS550                     ACTIV VIII   \n",
       "6/12/2015        MI     4/6/2020  1000ABS550                     ACTIV VIII   \n",
       "6/12/2015        MI    8/19/2020  1000ABS550                     ACTIV VIII   \n",
       "...             ...          ...         ...                            ...   \n",
       "9/24/2019        MI    9/27/2019       ZS401  BRUSH-SPIRAL WRAP SCRUB BRUSH   \n",
       "10/11/2019       OH   10/21/2019       ZS402   BRUSH-HI DENSITY SCRUB BRUSH   \n",
       "10/11/2019       OH   10/21/2019       ZS403         BRUSH-SIDE SCRUB BRUSH   \n",
       "10/14/2019       OH   10/24/2019       ZS404   BRUSH-GRIT SIDE SCRUB BRUSH.   \n",
       "10/14/2019       OH    8/31/2020       ZS404   BRUSH-GRIT SIDE SCRUB BRUSH.   \n",
       "\n",
       "               qty_ship  price_net code_cat_prdt    category flag_stat_item  \\\n",
       "Item_Add_date                                                                 \n",
       "6/12/2015             8    1750.56            10  AC8000 MOD              A   \n",
       "6/12/2015             8    1838.08            10  AC8000 MOD              A   \n",
       "6/12/2015             4     919.04            10  AC8000 MOD              A   \n",
       "6/12/2015             4     919.04            10  AC8000 MOD              A   \n",
       "6/12/2015             4     919.04            10  AC8000 MOD              A   \n",
       "...                 ...        ...           ...         ...            ...   \n",
       "9/24/2019             2    1139.50            ZS   PDQ PARTS              A   \n",
       "10/11/2019            2     822.50            ZS   PDQ PARTS              A   \n",
       "10/11/2019            1     207.00            ZS   PDQ PARTS              A   \n",
       "10/14/2019            1     469.00            ZS   PDQ PARTS              A   \n",
       "10/14/2019            1     469.00            ZS   PDQ PARTS              A   \n",
       "\n",
       "              code_comm  \n",
       "Item_Add_date            \n",
       "6/12/2015          FNSG  \n",
       "6/12/2015          FNSG  \n",
       "6/12/2015          FNSG  \n",
       "6/12/2015          FNSG  \n",
       "6/12/2015          FNSG  \n",
       "...                 ...  \n",
       "9/24/2019          FNSG  \n",
       "10/11/2019         FNSG  \n",
       "10/11/2019         FNSG  \n",
       "10/14/2019         FNSG  \n",
       "10/14/2019         FNSG  \n",
       "\n",
       "[23372 rows x 14 columns]"
      ],
      "text/html": "<div>\n<style scoped>\n    .dataframe tbody tr th:only-of-type {\n        vertical-align: middle;\n    }\n\n    .dataframe tbody tr th {\n        vertical-align: top;\n    }\n\n    .dataframe thead th {\n        text-align: right;\n    }\n</style>\n<table border=\"1\" class=\"dataframe\">\n  <thead>\n    <tr style=\"text-align: right;\">\n      <th></th>\n      <th>Silo</th>\n      <th>Silo_Description</th>\n      <th>Cust_ID</th>\n      <th>name_cust</th>\n      <th>id_st</th>\n      <th>Date_Invoice</th>\n      <th>id_item</th>\n      <th>descr_1</th>\n      <th>qty_ship</th>\n      <th>price_net</th>\n      <th>code_cat_prdt</th>\n      <th>category</th>\n      <th>flag_stat_item</th>\n      <th>code_comm</th>\n    </tr>\n    <tr>\n      <th>Item_Add_date</th>\n      <th></th>\n      <th></th>\n      <th></th>\n      <th></th>\n      <th></th>\n      <th></th>\n      <th></th>\n      <th></th>\n      <th></th>\n      <th></th>\n      <th></th>\n      <th></th>\n      <th></th>\n      <th></th>\n    </tr>\n  </thead>\n  <tbody>\n    <tr>\n      <th>6/12/2015</th>\n      <td>I</td>\n      <td>Industrial</td>\n      <td>22777</td>\n      <td>USHER OIL COMPANY</td>\n      <td>MI</td>\n      <td>3/18/2019</td>\n      <td>1000ABS550</td>\n      <td>ACTIV VIII</td>\n      <td>8</td>\n      <td>1750.56</td>\n      <td>10</td>\n      <td>AC8000 MOD</td>\n      <td>A</td>\n      <td>FNSG</td>\n    </tr>\n    <tr>\n      <th>6/12/2015</th>\n      <td>I</td>\n      <td>Industrial</td>\n      <td>22777</td>\n      <td>USHER OIL COMPANY</td>\n      <td>MI</td>\n      <td>5/21/2019</td>\n      <td>1000ABS550</td>\n      <td>ACTIV VIII</td>\n      <td>8</td>\n      <td>1838.08</td>\n      <td>10</td>\n      <td>AC8000 MOD</td>\n      <td>A</td>\n      <td>FNSG</td>\n    </tr>\n    <tr>\n      <th>6/12/2015</th>\n      <td>I</td>\n      <td>Industrial</td>\n      <td>22777</td>\n      <td>USHER OIL COMPANY</td>\n      <td>MI</td>\n      <td>2/11/2020</td>\n      <td>1000ABS550</td>\n      <td>ACTIV VIII</td>\n      <td>4</td>\n      <td>919.04</td>\n      <td>10</td>\n      <td>AC8000 MOD</td>\n      <td>A</td>\n      <td>FNSG</td>\n    </tr>\n    <tr>\n      <th>6/12/2015</th>\n      <td>I</td>\n      <td>Industrial</td>\n      <td>22777</td>\n      <td>USHER OIL COMPANY</td>\n      <td>MI</td>\n      <td>4/6/2020</td>\n      <td>1000ABS550</td>\n      <td>ACTIV VIII</td>\n      <td>4</td>\n      <td>919.04</td>\n      <td>10</td>\n      <td>AC8000 MOD</td>\n      <td>A</td>\n      <td>FNSG</td>\n    </tr>\n    <tr>\n      <th>6/12/2015</th>\n      <td>I</td>\n      <td>Industrial</td>\n      <td>22777</td>\n      <td>USHER OIL COMPANY</td>\n      <td>MI</td>\n      <td>8/19/2020</td>\n      <td>1000ABS550</td>\n      <td>ACTIV VIII</td>\n      <td>4</td>\n      <td>919.04</td>\n      <td>10</td>\n      <td>AC8000 MOD</td>\n      <td>A</td>\n      <td>FNSG</td>\n    </tr>\n    <tr>\n      <th>...</th>\n      <td>...</td>\n      <td>...</td>\n      <td>...</td>\n      <td>...</td>\n      <td>...</td>\n      <td>...</td>\n      <td>...</td>\n      <td>...</td>\n      <td>...</td>\n      <td>...</td>\n      <td>...</td>\n      <td>...</td>\n      <td>...</td>\n      <td>...</td>\n    </tr>\n    <tr>\n      <th>9/24/2019</th>\n      <td>I</td>\n      <td>Industrial</td>\n      <td>1801</td>\n      <td>MSP INDUSTRIES</td>\n      <td>MI</td>\n      <td>9/27/2019</td>\n      <td>ZS401</td>\n      <td>BRUSH-SPIRAL WRAP SCRUB BRUSH</td>\n      <td>2</td>\n      <td>1139.50</td>\n      <td>ZS</td>\n      <td>PDQ PARTS</td>\n      <td>A</td>\n      <td>FNSG</td>\n    </tr>\n    <tr>\n      <th>10/11/2019</th>\n      <td>J</td>\n      <td>JanSan</td>\n      <td>1000</td>\n      <td>SAMPLE ORDER</td>\n      <td>OH</td>\n      <td>10/21/2019</td>\n      <td>ZS402</td>\n      <td>BRUSH-HI DENSITY SCRUB BRUSH</td>\n      <td>2</td>\n      <td>822.50</td>\n      <td>ZS</td>\n      <td>PDQ PARTS</td>\n      <td>A</td>\n      <td>FNSG</td>\n    </tr>\n    <tr>\n      <th>10/11/2019</th>\n      <td>J</td>\n      <td>JanSan</td>\n      <td>1000</td>\n      <td>SAMPLE ORDER</td>\n      <td>OH</td>\n      <td>10/21/2019</td>\n      <td>ZS403</td>\n      <td>BRUSH-SIDE SCRUB BRUSH</td>\n      <td>1</td>\n      <td>207.00</td>\n      <td>ZS</td>\n      <td>PDQ PARTS</td>\n      <td>A</td>\n      <td>FNSG</td>\n    </tr>\n    <tr>\n      <th>10/14/2019</th>\n      <td>I</td>\n      <td>Industrial</td>\n      <td>12663</td>\n      <td>LIBERTY STEEL INDUSTRIES, INC.</td>\n      <td>OH</td>\n      <td>10/24/2019</td>\n      <td>ZS404</td>\n      <td>BRUSH-GRIT SIDE SCRUB BRUSH.</td>\n      <td>1</td>\n      <td>469.00</td>\n      <td>ZS</td>\n      <td>PDQ PARTS</td>\n      <td>A</td>\n      <td>FNSG</td>\n    </tr>\n    <tr>\n      <th>10/14/2019</th>\n      <td>I</td>\n      <td>Industrial</td>\n      <td>12663</td>\n      <td>LIBERTY STEEL INDUSTRIES, INC.</td>\n      <td>OH</td>\n      <td>8/31/2020</td>\n      <td>ZS404</td>\n      <td>BRUSH-GRIT SIDE SCRUB BRUSH.</td>\n      <td>1</td>\n      <td>469.00</td>\n      <td>ZS</td>\n      <td>PDQ PARTS</td>\n      <td>A</td>\n      <td>FNSG</td>\n    </tr>\n  </tbody>\n</table>\n<p>23372 rows × 14 columns</p>\n</div>"
     },
     "metadata": {},
     "execution_count": 203
    }
   ],
   "source": [
    "# Considering date is in dd/mm/yyyy format\n",
    "Add_Date_df = sales_data.set_index(['Item_Add_date'])\n",
    "Add_Date_df"
   ]
  },
  {
   "cell_type": "code",
   "execution_count": 47,
   "metadata": {},
   "outputs": [],
   "source": [
    "#Create df of 2019 and 2020 top items by Item_Add_date\n",
    "#twenty_19_sales = Add_Date_df.loc[Add_Date_df[‘year’]== 2019]\n",
    "#twenty_20_sales = Add_Date_df.loc[Add_Date_df[‘year’]== 2020]\n"
   ]
  },
  {
   "cell_type": "code",
   "execution_count": 245,
   "metadata": {},
   "outputs": [],
   "source": [
    "#df_2019\n",
    "#twenty_19_Top_sales = df_2019.loc[df_2019['Item_Add_date']== 2019]\n",
    "#twenty_19_Top_sales()"
   ]
  },
  {
   "cell_type": "code",
   "execution_count": null,
   "metadata": {},
   "outputs": [],
   "source": [
    "#df.index = Add_Date_df.date\n",
    "#df.head()"
   ]
  },
  {
   "cell_type": "code",
   "execution_count": 202,
   "metadata": {},
   "outputs": [
    {
     "output_type": "execute_result",
     "data": {
      "text/plain": [
       "                  qty_ship     price_net\n",
       "Item_Add_date                           \n",
       "1/10/1995         6.276596   2243.495319\n",
       "1/11/2006        55.250000   2603.750000\n",
       "1/11/2012         4.181818   1530.814545\n",
       "1/11/2013        38.285714   1099.292857\n",
       "1/12/2020      1849.298701  28922.021883"
      ],
      "text/html": "<div>\n<style scoped>\n    .dataframe tbody tr th:only-of-type {\n        vertical-align: middle;\n    }\n\n    .dataframe tbody tr th {\n        vertical-align: top;\n    }\n\n    .dataframe thead th {\n        text-align: right;\n    }\n</style>\n<table border=\"1\" class=\"dataframe\">\n  <thead>\n    <tr style=\"text-align: right;\">\n      <th></th>\n      <th>qty_ship</th>\n      <th>price_net</th>\n    </tr>\n    <tr>\n      <th>Item_Add_date</th>\n      <th></th>\n      <th></th>\n    </tr>\n  </thead>\n  <tbody>\n    <tr>\n      <th>1/10/1995</th>\n      <td>6.276596</td>\n      <td>2243.495319</td>\n    </tr>\n    <tr>\n      <th>1/11/2006</th>\n      <td>55.250000</td>\n      <td>2603.750000</td>\n    </tr>\n    <tr>\n      <th>1/11/2012</th>\n      <td>4.181818</td>\n      <td>1530.814545</td>\n    </tr>\n    <tr>\n      <th>1/11/2013</th>\n      <td>38.285714</td>\n      <td>1099.292857</td>\n    </tr>\n    <tr>\n      <th>1/12/2020</th>\n      <td>1849.298701</td>\n      <td>28922.021883</td>\n    </tr>\n  </tbody>\n</table>\n</div>"
     },
     "metadata": {},
     "execution_count": 202
    }
   ],
   "source": [
    "# Considering date is in dd/mm/yyyy format\n",
    "# Sorting Item add date from lowest to highest if no other parameter is passed\n",
    "df=Item_Add_date_group\n",
    "Add_date_group= df.sort_values(\"Item_Add_date\")\n",
    "Add_date_group.head()"
   ]
  },
  {
   "cell_type": "code",
   "execution_count": 41,
   "metadata": {},
   "outputs": [],
   "source": [
    "#Plot=df('Item_Add_date').head(10).plot (kind= 'pie', startangle=90, labels=\n",
    "#Plot.set_ylabel(\"\")"
   ]
  },
  {
   "cell_type": "code",
   "execution_count": 42,
   "metadata": {},
   "outputs": [],
   "source": [
    "#Select the Date_Invoice of dataframe\n",
    "#s=organized_df[\"Date_Invoice\"][0]\n",
    "#s[5:len(s)]\n",
    "#s[-4:]"
   ]
  },
  {
   "cell_type": "code",
   "execution_count": 44,
   "metadata": {},
   "outputs": [],
   "source": [
    "#is_2019 = organized_df[\"Item_Add_date\"]==2019\n",
    "#is_2019"
   ]
  },
  {
   "cell_type": "code",
   "execution_count": null,
   "metadata": {},
   "outputs": [],
   "source": [
    "is_2020 = organized_df[\"Item_Add_date\"]==2020\n",
    "is_2020"
   ]
  },
  {
   "cell_type": "code",
   "execution_count": 33,
   "metadata": {},
   "outputs": [
    {
     "data": {
      "text/html": [
       "<div>\n",
       "<style scoped>\n",
       "    .dataframe tbody tr th:only-of-type {\n",
       "        vertical-align: middle;\n",
       "    }\n",
       "\n",
       "    .dataframe tbody tr th {\n",
       "        vertical-align: top;\n",
       "    }\n",
       "\n",
       "    .dataframe thead th {\n",
       "        text-align: right;\n",
       "    }\n",
       "</style>\n",
       "<table border=\"1\" class=\"dataframe\">\n",
       "  <thead>\n",
       "    <tr style=\"text-align: right;\">\n",
       "      <th></th>\n",
       "      <th>Item_Add_date</th>\n",
       "      <th>qty_ship</th>\n",
       "      <th>price_net</th>\n",
       "    </tr>\n",
       "  </thead>\n",
       "  <tbody>\n",
       "    <tr>\n",
       "      <th>1</th>\n",
       "      <td>1/10/1995</td>\n",
       "      <td>6.276596</td>\n",
       "      <td>2243.495319</td>\n",
       "    </tr>\n",
       "    <tr>\n",
       "      <th>2</th>\n",
       "      <td>1/11/2006</td>\n",
       "      <td>55.250000</td>\n",
       "      <td>2603.750000</td>\n",
       "    </tr>\n",
       "    <tr>\n",
       "      <th>3</th>\n",
       "      <td>1/11/2012</td>\n",
       "      <td>4.181818</td>\n",
       "      <td>1530.814545</td>\n",
       "    </tr>\n",
       "    <tr>\n",
       "      <th>4</th>\n",
       "      <td>1/11/2013</td>\n",
       "      <td>38.285714</td>\n",
       "      <td>1099.292857</td>\n",
       "    </tr>\n",
       "    <tr>\n",
       "      <th>5</th>\n",
       "      <td>1/12/2020</td>\n",
       "      <td>1849.298701</td>\n",
       "      <td>28922.021883</td>\n",
       "    </tr>\n",
       "  </tbody>\n",
       "</table>\n",
       "</div>"
      ],
      "text/plain": [
       "  Item_Add_date     qty_ship     price_net\n",
       "1     1/10/1995     6.276596   2243.495319\n",
       "2     1/11/2006    55.250000   2603.750000\n",
       "3     1/11/2012     4.181818   1530.814545\n",
       "4     1/11/2013    38.285714   1099.292857\n",
       "5     1/12/2020  1849.298701  28922.021883"
      ]
     },
     "execution_count": 33,
     "metadata": {},
     "output_type": "execute_result"
    }
   ],
   "source": [
    "Add_date_group = pd.DataFrame({\n",
    "    \"Item_Add_date\": [\"1/10/1995\", \"1/11/2006\", \"1/11/2012\", \"1/11/2013\", \"1/12/2020\"],\n",
    "    \"qty_ship\": [6.276596, 55.250000, 4.181818, 38.285714, 1849.298701],\n",
    "    \"price_net\": [2243.495319, 2603.750000, 1530.814545, 1099.292857, 28922.021883]\n",
    "}, index=[1, 2, 3, 4, 5])\n",
    "Add_date_group\n"
   ]
  },
  {
   "cell_type": "code",
   "execution_count": 35,
   "metadata": {},
   "outputs": [],
   "source": [
    "#Add_date_group = pd.DataFrame([\n",
    "       # ('1','Blue',1/10/1995),\n",
    "       # ('1','Green',6.276596),\n",
    "        #('1','Green',2243.495319),\n",
    "        #], \n",
    "    #columns=['Item_Add_date', 'qty_ship', 'price_net'])\n",
    "#Add_date_group = Add_date_group.set_index(['Item_Add_date', 'qty_ship', 'price_net']).value\n",
    "#Add_date_group.unstack().plot(kind='bar', stacked=True)"
   ]
  },
  {
   "cell_type": "code",
   "execution_count": null,
   "metadata": {},
   "outputs": [],
   "source": [
    "#Item_Add_date = Add_date_group.iloc[:,1]\n",
    "#qty_ship = Add_date_group.iloc[:,2]\n",
    "##price_net = Add_date_group.iloc[:,3]\n",
    "#correlation = st.pearson(qty_ship,price_net)\n",
    "#plt.scatter(qty_ship,price_net)\n",
    "#plt.xlabel('Quantity shipped')\n",
    "#plt.ylabel('Price')\n",
    "#plt.show()"
   ]
  },
  {
   "cell_type": "code",
   "execution_count": null,
   "metadata": {},
   "outputs": [],
   "source": [
    "#df['2019'].groupby('qty_ship').sum()"
   ]
  },
  {
   "cell_type": "code",
   "execution_count": null,
   "metadata": {},
   "outputs": [],
   "source": []
  }
 ],
 "metadata": {
  "kernelspec": {
   "display_name": "Python 3",
   "language": "python",
   "name": "python3"
  },
  "language_info": {
   "codemirror_mode": {
    "name": "ipython",
    "version": 3
   },
   "file_extension": ".py",
   "mimetype": "text/x-python",
   "name": "python",
   "nbconvert_exporter": "python",
   "pygments_lexer": "ipython3",
   "version": "3.8.5-final"
  }
 },
 "nbformat": 4,
 "nbformat_minor": 4
}