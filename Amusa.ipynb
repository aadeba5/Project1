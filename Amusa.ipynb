{
 "cells": [
  {
   "cell_type": "code",
   "execution_count": 2,
   "metadata": {},
   "outputs": [],
   "source": [
    "import os\n",
    "import csv\n",
    "import pandas as pd\n",
    "csvpath = os.path.join('Sales_Item_Merged.csv')\n"
   ]
  },
  {
   "cell_type": "code",
   "execution_count": 22,
   "metadata": {},
   "outputs": [
    {
     "data": {
      "text/html": [
       "<div>\n",
       "<style scoped>\n",
       "    .dataframe tbody tr th:only-of-type {\n",
       "        vertical-align: middle;\n",
       "    }\n",
       "\n",
       "    .dataframe tbody tr th {\n",
       "        vertical-align: top;\n",
       "    }\n",
       "\n",
       "    .dataframe thead th {\n",
       "        text-align: right;\n",
       "    }\n",
       "</style>\n",
       "<table border=\"1\" class=\"dataframe\">\n",
       "  <thead>\n",
       "    <tr style=\"text-align: right;\">\n",
       "      <th></th>\n",
       "      <th>Silo</th>\n",
       "      <th>Silo_Description</th>\n",
       "      <th>Cust_ID</th>\n",
       "      <th>name_cust</th>\n",
       "      <th>id_st</th>\n",
       "      <th>Date_Invoice</th>\n",
       "      <th>id_item</th>\n",
       "      <th>descr_1</th>\n",
       "      <th>qty_ship</th>\n",
       "      <th>price_net</th>\n",
       "      <th>code_cat_prdt</th>\n",
       "      <th>category</th>\n",
       "      <th>flag_stat_item</th>\n",
       "      <th>Item_Add_date</th>\n",
       "    </tr>\n",
       "  </thead>\n",
       "  <tbody>\n",
       "    <tr>\n",
       "      <th>0</th>\n",
       "      <td>I</td>\n",
       "      <td>Industrial</td>\n",
       "      <td>22777</td>\n",
       "      <td>USHER OIL COMPANY</td>\n",
       "      <td>MI</td>\n",
       "      <td>3/18/2019</td>\n",
       "      <td>1000ABS550</td>\n",
       "      <td>ACTIV VIII</td>\n",
       "      <td>8</td>\n",
       "      <td>1750.56</td>\n",
       "      <td>10</td>\n",
       "      <td>AC8000 MOD</td>\n",
       "      <td>A</td>\n",
       "      <td>6/12/2015</td>\n",
       "    </tr>\n",
       "    <tr>\n",
       "      <th>1</th>\n",
       "      <td>I</td>\n",
       "      <td>Industrial</td>\n",
       "      <td>22777</td>\n",
       "      <td>USHER OIL COMPANY</td>\n",
       "      <td>MI</td>\n",
       "      <td>5/21/2019</td>\n",
       "      <td>1000ABS550</td>\n",
       "      <td>ACTIV VIII</td>\n",
       "      <td>8</td>\n",
       "      <td>1838.08</td>\n",
       "      <td>10</td>\n",
       "      <td>AC8000 MOD</td>\n",
       "      <td>A</td>\n",
       "      <td>6/12/2015</td>\n",
       "    </tr>\n",
       "    <tr>\n",
       "      <th>2</th>\n",
       "      <td>I</td>\n",
       "      <td>Industrial</td>\n",
       "      <td>22777</td>\n",
       "      <td>USHER OIL COMPANY</td>\n",
       "      <td>MI</td>\n",
       "      <td>2/11/2020</td>\n",
       "      <td>1000ABS550</td>\n",
       "      <td>ACTIV VIII</td>\n",
       "      <td>4</td>\n",
       "      <td>919.04</td>\n",
       "      <td>10</td>\n",
       "      <td>AC8000 MOD</td>\n",
       "      <td>A</td>\n",
       "      <td>6/12/2015</td>\n",
       "    </tr>\n",
       "    <tr>\n",
       "      <th>3</th>\n",
       "      <td>I</td>\n",
       "      <td>Industrial</td>\n",
       "      <td>22777</td>\n",
       "      <td>USHER OIL COMPANY</td>\n",
       "      <td>MI</td>\n",
       "      <td>4/6/2020</td>\n",
       "      <td>1000ABS550</td>\n",
       "      <td>ACTIV VIII</td>\n",
       "      <td>4</td>\n",
       "      <td>919.04</td>\n",
       "      <td>10</td>\n",
       "      <td>AC8000 MOD</td>\n",
       "      <td>A</td>\n",
       "      <td>6/12/2015</td>\n",
       "    </tr>\n",
       "    <tr>\n",
       "      <th>4</th>\n",
       "      <td>I</td>\n",
       "      <td>Industrial</td>\n",
       "      <td>22777</td>\n",
       "      <td>USHER OIL COMPANY</td>\n",
       "      <td>MI</td>\n",
       "      <td>8/19/2020</td>\n",
       "      <td>1000ABS550</td>\n",
       "      <td>ACTIV VIII</td>\n",
       "      <td>4</td>\n",
       "      <td>919.04</td>\n",
       "      <td>10</td>\n",
       "      <td>AC8000 MOD</td>\n",
       "      <td>A</td>\n",
       "      <td>6/12/2015</td>\n",
       "    </tr>\n",
       "  </tbody>\n",
       "</table>\n",
       "</div>"
      ],
      "text/plain": [
       "  Silo Silo_Description Cust_ID          name_cust id_st Date_Invoice  \\\n",
       "0   I        Industrial   22777  USHER OIL COMPANY    MI    3/18/2019   \n",
       "1   I        Industrial   22777  USHER OIL COMPANY    MI    5/21/2019   \n",
       "2   I        Industrial   22777  USHER OIL COMPANY    MI    2/11/2020   \n",
       "3   I        Industrial   22777  USHER OIL COMPANY    MI     4/6/2020   \n",
       "4   I        Industrial   22777  USHER OIL COMPANY    MI    8/19/2020   \n",
       "\n",
       "      id_item     descr_1  qty_ship  price_net code_cat_prdt    category  \\\n",
       "0  1000ABS550  ACTIV VIII         8    1750.56            10  AC8000 MOD   \n",
       "1  1000ABS550  ACTIV VIII         8    1838.08            10  AC8000 MOD   \n",
       "2  1000ABS550  ACTIV VIII         4     919.04            10  AC8000 MOD   \n",
       "3  1000ABS550  ACTIV VIII         4     919.04            10  AC8000 MOD   \n",
       "4  1000ABS550  ACTIV VIII         4     919.04            10  AC8000 MOD   \n",
       "\n",
       "  flag_stat_item Item_Add_date  \n",
       "0              A     6/12/2015  \n",
       "1              A     6/12/2015  \n",
       "2              A     6/12/2015  \n",
       "3              A     6/12/2015  \n",
       "4              A     6/12/2015  "
      ]
     },
     "execution_count": 22,
     "metadata": {},
     "output_type": "execute_result"
    }
   ],
   "source": [
    "df = pd.read_csv(csvpath)\n",
    "df.head()"
   ]
  },
  {
   "cell_type": "code",
   "execution_count": 20,
   "metadata": {},
   "outputs": [
    {
     "ename": "KeyError",
     "evalue": "\"['year'] not in index\"",
     "output_type": "error",
     "traceback": [
      "\u001b[0;31m---------------------------------------------------------------------------\u001b[0m",
      "\u001b[0;31mKeyError\u001b[0m                                  Traceback (most recent call last)",
      "\u001b[0;32m<ipython-input-20-719151a5fc64>\u001b[0m in \u001b[0;36m<module>\u001b[0;34m\u001b[0m\n\u001b[1;32m      1\u001b[0m \u001b[0;31m# Reference multiple columns within a DataFrame\u001b[0m\u001b[0;34m\u001b[0m\u001b[0;34m\u001b[0m\u001b[0;34m\u001b[0m\u001b[0m\n\u001b[0;32m----> 2\u001b[0;31m \u001b[0mdf\u001b[0m\u001b[0;34m[\u001b[0m\u001b[0;34m[\u001b[0m\u001b[0;34m\"descr_1\"\u001b[0m\u001b[0;34m,\u001b[0m \u001b[0;34m\"name_cust\"\u001b[0m\u001b[0;34m,\u001b[0m \u001b[0;34m\"Date_Invoice\"\u001b[0m\u001b[0;34m,\u001b[0m \u001b[0;34m\"price_net\"\u001b[0m\u001b[0;34m,\u001b[0m \u001b[0;34m\"year\"\u001b[0m\u001b[0;34m]\u001b[0m\u001b[0;34m]\u001b[0m\u001b[0;34m.\u001b[0m\u001b[0mhead\u001b[0m\u001b[0;34m(\u001b[0m\u001b[0;34m)\u001b[0m\u001b[0;34m\u001b[0m\u001b[0;34m\u001b[0m\u001b[0m\n\u001b[0m",
      "\u001b[0;32m~/opt/anaconda3/lib/python3.8/site-packages/pandas/core/frame.py\u001b[0m in \u001b[0;36m__getitem__\u001b[0;34m(self, key)\u001b[0m\n\u001b[1;32m   2906\u001b[0m             \u001b[0;32mif\u001b[0m \u001b[0mis_iterator\u001b[0m\u001b[0;34m(\u001b[0m\u001b[0mkey\u001b[0m\u001b[0;34m)\u001b[0m\u001b[0;34m:\u001b[0m\u001b[0;34m\u001b[0m\u001b[0;34m\u001b[0m\u001b[0m\n\u001b[1;32m   2907\u001b[0m                 \u001b[0mkey\u001b[0m \u001b[0;34m=\u001b[0m \u001b[0mlist\u001b[0m\u001b[0;34m(\u001b[0m\u001b[0mkey\u001b[0m\u001b[0;34m)\u001b[0m\u001b[0;34m\u001b[0m\u001b[0;34m\u001b[0m\u001b[0m\n\u001b[0;32m-> 2908\u001b[0;31m             \u001b[0mindexer\u001b[0m \u001b[0;34m=\u001b[0m \u001b[0mself\u001b[0m\u001b[0;34m.\u001b[0m\u001b[0mloc\u001b[0m\u001b[0;34m.\u001b[0m\u001b[0m_get_listlike_indexer\u001b[0m\u001b[0;34m(\u001b[0m\u001b[0mkey\u001b[0m\u001b[0;34m,\u001b[0m \u001b[0maxis\u001b[0m\u001b[0;34m=\u001b[0m\u001b[0;36m1\u001b[0m\u001b[0;34m,\u001b[0m \u001b[0mraise_missing\u001b[0m\u001b[0;34m=\u001b[0m\u001b[0;32mTrue\u001b[0m\u001b[0;34m)\u001b[0m\u001b[0;34m[\u001b[0m\u001b[0;36m1\u001b[0m\u001b[0;34m]\u001b[0m\u001b[0;34m\u001b[0m\u001b[0;34m\u001b[0m\u001b[0m\n\u001b[0m\u001b[1;32m   2909\u001b[0m \u001b[0;34m\u001b[0m\u001b[0m\n\u001b[1;32m   2910\u001b[0m         \u001b[0;31m# take() does not accept boolean indexers\u001b[0m\u001b[0;34m\u001b[0m\u001b[0;34m\u001b[0m\u001b[0;34m\u001b[0m\u001b[0m\n",
      "\u001b[0;32m~/opt/anaconda3/lib/python3.8/site-packages/pandas/core/indexing.py\u001b[0m in \u001b[0;36m_get_listlike_indexer\u001b[0;34m(self, key, axis, raise_missing)\u001b[0m\n\u001b[1;32m   1252\u001b[0m             \u001b[0mkeyarr\u001b[0m\u001b[0;34m,\u001b[0m \u001b[0mindexer\u001b[0m\u001b[0;34m,\u001b[0m \u001b[0mnew_indexer\u001b[0m \u001b[0;34m=\u001b[0m \u001b[0max\u001b[0m\u001b[0;34m.\u001b[0m\u001b[0m_reindex_non_unique\u001b[0m\u001b[0;34m(\u001b[0m\u001b[0mkeyarr\u001b[0m\u001b[0;34m)\u001b[0m\u001b[0;34m\u001b[0m\u001b[0;34m\u001b[0m\u001b[0m\n\u001b[1;32m   1253\u001b[0m \u001b[0;34m\u001b[0m\u001b[0m\n\u001b[0;32m-> 1254\u001b[0;31m         \u001b[0mself\u001b[0m\u001b[0;34m.\u001b[0m\u001b[0m_validate_read_indexer\u001b[0m\u001b[0;34m(\u001b[0m\u001b[0mkeyarr\u001b[0m\u001b[0;34m,\u001b[0m \u001b[0mindexer\u001b[0m\u001b[0;34m,\u001b[0m \u001b[0maxis\u001b[0m\u001b[0;34m,\u001b[0m \u001b[0mraise_missing\u001b[0m\u001b[0;34m=\u001b[0m\u001b[0mraise_missing\u001b[0m\u001b[0;34m)\u001b[0m\u001b[0;34m\u001b[0m\u001b[0;34m\u001b[0m\u001b[0m\n\u001b[0m\u001b[1;32m   1255\u001b[0m         \u001b[0;32mreturn\u001b[0m \u001b[0mkeyarr\u001b[0m\u001b[0;34m,\u001b[0m \u001b[0mindexer\u001b[0m\u001b[0;34m\u001b[0m\u001b[0;34m\u001b[0m\u001b[0m\n\u001b[1;32m   1256\u001b[0m \u001b[0;34m\u001b[0m\u001b[0m\n",
      "\u001b[0;32m~/opt/anaconda3/lib/python3.8/site-packages/pandas/core/indexing.py\u001b[0m in \u001b[0;36m_validate_read_indexer\u001b[0;34m(self, key, indexer, axis, raise_missing)\u001b[0m\n\u001b[1;32m   1302\u001b[0m             \u001b[0;32mif\u001b[0m \u001b[0mraise_missing\u001b[0m\u001b[0;34m:\u001b[0m\u001b[0;34m\u001b[0m\u001b[0;34m\u001b[0m\u001b[0m\n\u001b[1;32m   1303\u001b[0m                 \u001b[0mnot_found\u001b[0m \u001b[0;34m=\u001b[0m \u001b[0mlist\u001b[0m\u001b[0;34m(\u001b[0m\u001b[0mset\u001b[0m\u001b[0;34m(\u001b[0m\u001b[0mkey\u001b[0m\u001b[0;34m)\u001b[0m \u001b[0;34m-\u001b[0m \u001b[0mset\u001b[0m\u001b[0;34m(\u001b[0m\u001b[0max\u001b[0m\u001b[0;34m)\u001b[0m\u001b[0;34m)\u001b[0m\u001b[0;34m\u001b[0m\u001b[0;34m\u001b[0m\u001b[0m\n\u001b[0;32m-> 1304\u001b[0;31m                 \u001b[0;32mraise\u001b[0m \u001b[0mKeyError\u001b[0m\u001b[0;34m(\u001b[0m\u001b[0;34mf\"{not_found} not in index\"\u001b[0m\u001b[0;34m)\u001b[0m\u001b[0;34m\u001b[0m\u001b[0;34m\u001b[0m\u001b[0m\n\u001b[0m\u001b[1;32m   1305\u001b[0m \u001b[0;34m\u001b[0m\u001b[0m\n\u001b[1;32m   1306\u001b[0m             \u001b[0;31m# we skip the warning on Categorical\u001b[0m\u001b[0;34m\u001b[0m\u001b[0;34m\u001b[0m\u001b[0;34m\u001b[0m\u001b[0m\n",
      "\u001b[0;31mKeyError\u001b[0m: \"['year'] not in index\""
     ]
    }
   ],
   "source": [
    "# Reference multiple columns within a DataFrame\n",
    "df[[\"descr_1\", \"name_cust\", \"Date_Invoice\", \"price_net\", \"year\"]].head()\n"
   ]
  },
  {
   "cell_type": "code",
   "execution_count": 5,
   "metadata": {},
   "outputs": [
    {
     "data": {
      "text/plain": [
       "2349.2181533286935"
      ]
     },
     "execution_count": 5,
     "metadata": {},
     "output_type": "execute_result"
    }
   ],
   "source": [
    "# The mean/averages of the integer series\n",
    "average = df[\"price_net\"].mean()\n",
    "average"
   ]
  },
  {
   "cell_type": "code",
   "execution_count": 6,
   "metadata": {},
   "outputs": [
    {
     "data": {
      "text/plain": [
       "57271589.36"
      ]
     },
     "execution_count": 6,
     "metadata": {},
     "output_type": "execute_result"
    }
   ],
   "source": [
    "# The sum method adds every entry in the series\n",
    "total = df[\"price_net\"].sum()\n",
    "total"
   ]
  },
  {
   "cell_type": "code",
   "execution_count": 7,
   "metadata": {},
   "outputs": [
    {
     "data": {
      "text/plain": [
       "array(['ACTIV VIII', 'BERKEL MIDWEST FRYER CLEANER',\n",
       "       'SAFE CLEAN 319000-18', ..., 'BRUSH-HI DENSITY SCRUB BRUSH',\n",
       "       'BRUSH-SIDE SCRUB BRUSH', 'BRUSH-GRIT SIDE SCRUB BRUSH.'],\n",
       "      dtype=object)"
      ]
     },
     "execution_count": 7,
     "metadata": {},
     "output_type": "execute_result"
    }
   ],
   "source": [
    "# The unique method shows every element of the series that appears only once\n",
    "unique = df[\"descr_1\"].unique()\n",
    "unique"
   ]
  },
  {
   "cell_type": "code",
   "execution_count": 15,
   "metadata": {},
   "outputs": [
    {
     "data": {
      "text/html": [
       "<div>\n",
       "<style scoped>\n",
       "    .dataframe tbody tr th:only-of-type {\n",
       "        vertical-align: middle;\n",
       "    }\n",
       "\n",
       "    .dataframe tbody tr th {\n",
       "        vertical-align: top;\n",
       "    }\n",
       "\n",
       "    .dataframe thead th {\n",
       "        text-align: right;\n",
       "    }\n",
       "</style>\n",
       "<table border=\"1\" class=\"dataframe\">\n",
       "  <thead>\n",
       "    <tr style=\"text-align: right;\">\n",
       "      <th></th>\n",
       "      <th>descr_1</th>\n",
       "      <th>Item_Add_date</th>\n",
       "      <th>Date_Invoice</th>\n",
       "      <th>qty_ship</th>\n",
       "      <th>price_net</th>\n",
       "      <th>name_cust</th>\n",
       "    </tr>\n",
       "  </thead>\n",
       "  <tbody>\n",
       "    <tr>\n",
       "      <th>0</th>\n",
       "      <td>ACTIV VIII</td>\n",
       "      <td>6/12/2015</td>\n",
       "      <td>3/18/2019</td>\n",
       "      <td>8</td>\n",
       "      <td>1750.56</td>\n",
       "      <td>USHER OIL COMPANY</td>\n",
       "    </tr>\n",
       "    <tr>\n",
       "      <th>1</th>\n",
       "      <td>ACTIV VIII</td>\n",
       "      <td>6/12/2015</td>\n",
       "      <td>5/21/2019</td>\n",
       "      <td>8</td>\n",
       "      <td>1838.08</td>\n",
       "      <td>USHER OIL COMPANY</td>\n",
       "    </tr>\n",
       "    <tr>\n",
       "      <th>2</th>\n",
       "      <td>ACTIV VIII</td>\n",
       "      <td>6/12/2015</td>\n",
       "      <td>2/11/2020</td>\n",
       "      <td>4</td>\n",
       "      <td>919.04</td>\n",
       "      <td>USHER OIL COMPANY</td>\n",
       "    </tr>\n",
       "    <tr>\n",
       "      <th>3</th>\n",
       "      <td>ACTIV VIII</td>\n",
       "      <td>6/12/2015</td>\n",
       "      <td>4/6/2020</td>\n",
       "      <td>4</td>\n",
       "      <td>919.04</td>\n",
       "      <td>USHER OIL COMPANY</td>\n",
       "    </tr>\n",
       "    <tr>\n",
       "      <th>4</th>\n",
       "      <td>ACTIV VIII</td>\n",
       "      <td>6/12/2015</td>\n",
       "      <td>8/19/2020</td>\n",
       "      <td>4</td>\n",
       "      <td>919.04</td>\n",
       "      <td>USHER OIL COMPANY</td>\n",
       "    </tr>\n",
       "  </tbody>\n",
       "</table>\n",
       "</div>"
      ],
      "text/plain": [
       "      descr_1 Item_Add_date Date_Invoice  qty_ship  price_net  \\\n",
       "0  ACTIV VIII     6/12/2015    3/18/2019         8    1750.56   \n",
       "1  ACTIV VIII     6/12/2015    5/21/2019         8    1838.08   \n",
       "2  ACTIV VIII     6/12/2015    2/11/2020         4     919.04   \n",
       "3  ACTIV VIII     6/12/2015     4/6/2020         4     919.04   \n",
       "4  ACTIV VIII     6/12/2015    8/19/2020         4     919.04   \n",
       "\n",
       "           name_cust  \n",
       "0  USHER OIL COMPANY  \n",
       "1  USHER OIL COMPANY  \n",
       "2  USHER OIL COMPANY  \n",
       "3  USHER OIL COMPANY  \n",
       "4  USHER OIL COMPANY  "
      ]
     },
     "execution_count": 15,
     "metadata": {},
     "output_type": "execute_result"
    }
   ],
   "source": [
    "## Reorganizing the columns using double brackets\n",
    "df = pd.read_csv(csvpath)\n",
    "organized_df = df[[\"descr_1\", \"Item_Add_date\", \"Date_Invoice\", \"qty_ship\", \"price_net\", \"name_cust\"]]\n",
    "organized_df.head()\n"
   ]
  },
  {
   "cell_type": "code",
   "execution_count": 19,
   "metadata": {},
   "outputs": [
    {
     "ename": "SyntaxError",
     "evalue": "unexpected EOF while parsing (<ipython-input-19-d6968e6ea897>, line 2)",
     "output_type": "error",
     "traceback": [
      "\u001b[0;36m  File \u001b[0;32m\"<ipython-input-19-d6968e6ea897>\"\u001b[0;36m, line \u001b[0;32m2\u001b[0m\n\u001b[0;31m    Plot.set_ylabel(\"\")\u001b[0m\n\u001b[0m                       ^\u001b[0m\n\u001b[0;31mSyntaxError\u001b[0m\u001b[0;31m:\u001b[0m unexpected EOF while parsing\n"
     ]
    }
   ],
   "source": [
    "Plot=df('Item_Add_date').head(10).plot (kind= 'pie', startangle=90, labels=\n",
    "Plot.set_ylabel(\"\")"
   ]
  },
  {
   "cell_type": "code",
   "execution_count": 60,
   "metadata": {},
   "outputs": [
    {
     "data": {
      "text/plain": [
       "'2019'"
      ]
     },
     "execution_count": 60,
     "metadata": {},
     "output_type": "execute_result"
    }
   ],
   "source": [
    "#Select the Date_Invoice of dataframe\n",
    "#s=organized_df[\"Date_Invoice\"][0]\n",
    "#s[5:len(s)]\n",
    "#s[-4:]\n"
   ]
  },
  {
   "cell_type": "code",
   "execution_count": 61,
   "metadata": {},
   "outputs": [
    {
     "data": {
      "text/plain": [
       "0        False\n",
       "1        False\n",
       "2        False\n",
       "3        False\n",
       "4        False\n",
       "         ...  \n",
       "24374    False\n",
       "24375    False\n",
       "24376    False\n",
       "24377    False\n",
       "24378    False\n",
       "Name: Date_Invoice, Length: 24379, dtype: bool"
      ]
     },
     "execution_count": 61,
     "metadata": {},
     "output_type": "execute_result"
    }
   ],
   "source": [
    "is_2019 = organized_df[\"Date_Invoice\"]==2019\n",
    "is_2019"
   ]
  },
  {
   "cell_type": "code",
   "execution_count": null,
   "metadata": {},
   "outputs": [],
   "source": []
  }
 ],
 "metadata": {
  "kernelspec": {
   "display_name": "Python 3",
   "language": "python",
   "name": "python3"
  },
  "language_info": {
   "codemirror_mode": {
    "name": "ipython",
    "version": 3
   },
   "file_extension": ".py",
   "mimetype": "text/x-python",
   "name": "python",
   "nbconvert_exporter": "python",
   "pygments_lexer": "ipython3",
   "version": "3.8.5"
  }
 },
 "nbformat": 4,
 "nbformat_minor": 2
}
