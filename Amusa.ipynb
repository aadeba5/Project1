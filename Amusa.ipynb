{
 "cells": [
  {
   "cell_type": "code",
   "execution_count": 63,
   "metadata": {},
   "outputs": [],
   "source": [
    "import os\n",
    "import csv\n",
    "import pandas as pd\n",
    "csvpath = os.path.join('Sales_Item_Merged.csv')\n"
   ]
  },
  {
   "cell_type": "code",
   "execution_count": 64,
   "metadata": {},
   "outputs": [
    {
     "data": {
      "text/html": [
       "<div>\n",
       "<style scoped>\n",
       "    .dataframe tbody tr th:only-of-type {\n",
       "        vertical-align: middle;\n",
       "    }\n",
       "\n",
       "    .dataframe tbody tr th {\n",
       "        vertical-align: top;\n",
       "    }\n",
       "\n",
       "    .dataframe thead th {\n",
       "        text-align: right;\n",
       "    }\n",
       "</style>\n",
       "<table border=\"1\" class=\"dataframe\">\n",
       "  <thead>\n",
       "    <tr style=\"text-align: right;\">\n",
       "      <th></th>\n",
       "      <th>Silo</th>\n",
       "      <th>Cust_ID</th>\n",
       "      <th>name_cust</th>\n",
       "      <th>id_st</th>\n",
       "      <th>Date_Invoice</th>\n",
       "      <th>id_item</th>\n",
       "      <th>descr_1</th>\n",
       "      <th>qty_ship</th>\n",
       "      <th>price_net</th>\n",
       "      <th>code_cat_prdt</th>\n",
       "      <th>flag_stat_item</th>\n",
       "      <th>Item_Add_date</th>\n",
       "    </tr>\n",
       "  </thead>\n",
       "  <tbody>\n",
       "    <tr>\n",
       "      <th>0</th>\n",
       "      <td>I</td>\n",
       "      <td>22777</td>\n",
       "      <td>USHER OIL COMPANY</td>\n",
       "      <td>MI</td>\n",
       "      <td>3/18/2019</td>\n",
       "      <td>1000ABS550</td>\n",
       "      <td>ACTIV VIII</td>\n",
       "      <td>8</td>\n",
       "      <td>1750.56</td>\n",
       "      <td>10</td>\n",
       "      <td>A</td>\n",
       "      <td>6/12/2015</td>\n",
       "    </tr>\n",
       "    <tr>\n",
       "      <th>1</th>\n",
       "      <td>I</td>\n",
       "      <td>22777</td>\n",
       "      <td>USHER OIL COMPANY</td>\n",
       "      <td>MI</td>\n",
       "      <td>5/21/2019</td>\n",
       "      <td>1000ABS550</td>\n",
       "      <td>ACTIV VIII</td>\n",
       "      <td>8</td>\n",
       "      <td>1838.08</td>\n",
       "      <td>10</td>\n",
       "      <td>A</td>\n",
       "      <td>6/12/2015</td>\n",
       "    </tr>\n",
       "    <tr>\n",
       "      <th>2</th>\n",
       "      <td>I</td>\n",
       "      <td>22777</td>\n",
       "      <td>USHER OIL COMPANY</td>\n",
       "      <td>MI</td>\n",
       "      <td>2/11/2020</td>\n",
       "      <td>1000ABS550</td>\n",
       "      <td>ACTIV VIII</td>\n",
       "      <td>4</td>\n",
       "      <td>919.04</td>\n",
       "      <td>10</td>\n",
       "      <td>A</td>\n",
       "      <td>6/12/2015</td>\n",
       "    </tr>\n",
       "    <tr>\n",
       "      <th>3</th>\n",
       "      <td>I</td>\n",
       "      <td>22777</td>\n",
       "      <td>USHER OIL COMPANY</td>\n",
       "      <td>MI</td>\n",
       "      <td>4/6/2020</td>\n",
       "      <td>1000ABS550</td>\n",
       "      <td>ACTIV VIII</td>\n",
       "      <td>4</td>\n",
       "      <td>919.04</td>\n",
       "      <td>10</td>\n",
       "      <td>A</td>\n",
       "      <td>6/12/2015</td>\n",
       "    </tr>\n",
       "    <tr>\n",
       "      <th>4</th>\n",
       "      <td>I</td>\n",
       "      <td>22777</td>\n",
       "      <td>USHER OIL COMPANY</td>\n",
       "      <td>MI</td>\n",
       "      <td>8/19/2020</td>\n",
       "      <td>1000ABS550</td>\n",
       "      <td>ACTIV VIII</td>\n",
       "      <td>4</td>\n",
       "      <td>919.04</td>\n",
       "      <td>10</td>\n",
       "      <td>A</td>\n",
       "      <td>6/12/2015</td>\n",
       "    </tr>\n",
       "  </tbody>\n",
       "</table>\n",
       "</div>"
      ],
      "text/plain": [
       "  Silo Cust_ID          name_cust id_st Date_Invoice     id_item     descr_1  \\\n",
       "0   I    22777  USHER OIL COMPANY    MI    3/18/2019  1000ABS550  ACTIV VIII   \n",
       "1   I    22777  USHER OIL COMPANY    MI    5/21/2019  1000ABS550  ACTIV VIII   \n",
       "2   I    22777  USHER OIL COMPANY    MI    2/11/2020  1000ABS550  ACTIV VIII   \n",
       "3   I    22777  USHER OIL COMPANY    MI     4/6/2020  1000ABS550  ACTIV VIII   \n",
       "4   I    22777  USHER OIL COMPANY    MI    8/19/2020  1000ABS550  ACTIV VIII   \n",
       "\n",
       "   qty_ship  price_net code_cat_prdt flag_stat_item Item_Add_date  \n",
       "0         8    1750.56            10              A     6/12/2015  \n",
       "1         8    1838.08            10              A     6/12/2015  \n",
       "2         4     919.04            10              A     6/12/2015  \n",
       "3         4     919.04            10              A     6/12/2015  \n",
       "4         4     919.04            10              A     6/12/2015  "
      ]
     },
     "execution_count": 64,
     "metadata": {},
     "output_type": "execute_result"
    }
   ],
   "source": [
    "df = pd.read_csv(csvpath)\n",
    "df.head()"
   ]
  },
  {
   "cell_type": "code",
   "execution_count": 65,
   "metadata": {},
   "outputs": [
    {
     "data": {
      "text/html": [
       "<div>\n",
       "<style scoped>\n",
       "    .dataframe tbody tr th:only-of-type {\n",
       "        vertical-align: middle;\n",
       "    }\n",
       "\n",
       "    .dataframe tbody tr th {\n",
       "        vertical-align: top;\n",
       "    }\n",
       "\n",
       "    .dataframe thead th {\n",
       "        text-align: right;\n",
       "    }\n",
       "</style>\n",
       "<table border=\"1\" class=\"dataframe\">\n",
       "  <thead>\n",
       "    <tr style=\"text-align: right;\">\n",
       "      <th></th>\n",
       "      <th>descr_1</th>\n",
       "      <th>name_cust</th>\n",
       "      <th>Date_Invoice</th>\n",
       "      <th>price_net</th>\n",
       "    </tr>\n",
       "  </thead>\n",
       "  <tbody>\n",
       "    <tr>\n",
       "      <th>0</th>\n",
       "      <td>ACTIV VIII</td>\n",
       "      <td>USHER OIL COMPANY</td>\n",
       "      <td>3/18/2019</td>\n",
       "      <td>1750.56</td>\n",
       "    </tr>\n",
       "    <tr>\n",
       "      <th>1</th>\n",
       "      <td>ACTIV VIII</td>\n",
       "      <td>USHER OIL COMPANY</td>\n",
       "      <td>5/21/2019</td>\n",
       "      <td>1838.08</td>\n",
       "    </tr>\n",
       "    <tr>\n",
       "      <th>2</th>\n",
       "      <td>ACTIV VIII</td>\n",
       "      <td>USHER OIL COMPANY</td>\n",
       "      <td>2/11/2020</td>\n",
       "      <td>919.04</td>\n",
       "    </tr>\n",
       "    <tr>\n",
       "      <th>3</th>\n",
       "      <td>ACTIV VIII</td>\n",
       "      <td>USHER OIL COMPANY</td>\n",
       "      <td>4/6/2020</td>\n",
       "      <td>919.04</td>\n",
       "    </tr>\n",
       "    <tr>\n",
       "      <th>4</th>\n",
       "      <td>ACTIV VIII</td>\n",
       "      <td>USHER OIL COMPANY</td>\n",
       "      <td>8/19/2020</td>\n",
       "      <td>919.04</td>\n",
       "    </tr>\n",
       "  </tbody>\n",
       "</table>\n",
       "</div>"
      ],
      "text/plain": [
       "      descr_1          name_cust Date_Invoice  price_net\n",
       "0  ACTIV VIII  USHER OIL COMPANY    3/18/2019    1750.56\n",
       "1  ACTIV VIII  USHER OIL COMPANY    5/21/2019    1838.08\n",
       "2  ACTIV VIII  USHER OIL COMPANY    2/11/2020     919.04\n",
       "3  ACTIV VIII  USHER OIL COMPANY     4/6/2020     919.04\n",
       "4  ACTIV VIII  USHER OIL COMPANY    8/19/2020     919.04"
      ]
     },
     "execution_count": 65,
     "metadata": {},
     "output_type": "execute_result"
    }
   ],
   "source": [
    "# Reference multiple columns within a DataFrame\n",
    "df[[\"descr_1\", \"name_cust\", \"Date_Invoice\", \"price_net\"]].head()\n"
   ]
  },
  {
   "cell_type": "code",
   "execution_count": 67,
   "metadata": {},
   "outputs": [
    {
     "data": {
      "text/plain": [
       "2349.2181533286935"
      ]
     },
     "execution_count": 67,
     "metadata": {},
     "output_type": "execute_result"
    }
   ],
   "source": [
    "# The mean/averages of the integer series\n",
    "average = df[\"price_net\"].mean()\n",
    "average"
   ]
  },
  {
   "cell_type": "code",
   "execution_count": 68,
   "metadata": {},
   "outputs": [
    {
     "data": {
      "text/plain": [
       "57271589.36"
      ]
     },
     "execution_count": 68,
     "metadata": {},
     "output_type": "execute_result"
    }
   ],
   "source": [
    "# The sum method adds every entry in the series\n",
    "total = df[\"price_net\"].sum()\n",
    "total"
   ]
  },
  {
   "cell_type": "code",
   "execution_count": 69,
   "metadata": {},
   "outputs": [
    {
     "data": {
      "text/plain": [
       "array(['ACTIV VIII', 'BERKEL MIDWEST FRYER CLEANER',\n",
       "       'SAFE CLEAN 319000-18', ..., 'BRUSH-HI DENSITY SCRUB BRUSH',\n",
       "       'BRUSH-SIDE SCRUB BRUSH', 'BRUSH-GRIT SIDE SCRUB BRUSH.'],\n",
       "      dtype=object)"
      ]
     },
     "execution_count": 69,
     "metadata": {},
     "output_type": "execute_result"
    }
   ],
   "source": [
    "# The unique method shows every element of the series that appears only once\n",
    "unique = df[\"descr_1\"].unique()\n",
    "unique"
   ]
  },
  {
   "cell_type": "code",
   "execution_count": 70,
   "metadata": {},
   "outputs": [
    {
     "data": {
      "text/html": [
       "<div>\n",
       "<style scoped>\n",
       "    .dataframe tbody tr th:only-of-type {\n",
       "        vertical-align: middle;\n",
       "    }\n",
       "\n",
       "    .dataframe tbody tr th {\n",
       "        vertical-align: top;\n",
       "    }\n",
       "\n",
       "    .dataframe thead th {\n",
       "        text-align: right;\n",
       "    }\n",
       "</style>\n",
       "<table border=\"1\" class=\"dataframe\">\n",
       "  <thead>\n",
       "    <tr style=\"text-align: right;\">\n",
       "      <th></th>\n",
       "      <th>Date_Invoice</th>\n",
       "      <th>descr_1</th>\n",
       "      <th>price_net</th>\n",
       "      <th>name_cust</th>\n",
       "    </tr>\n",
       "  </thead>\n",
       "  <tbody>\n",
       "    <tr>\n",
       "      <th>0</th>\n",
       "      <td>3/18/2019</td>\n",
       "      <td>ACTIV VIII</td>\n",
       "      <td>1750.56</td>\n",
       "      <td>USHER OIL COMPANY</td>\n",
       "    </tr>\n",
       "    <tr>\n",
       "      <th>1</th>\n",
       "      <td>5/21/2019</td>\n",
       "      <td>ACTIV VIII</td>\n",
       "      <td>1838.08</td>\n",
       "      <td>USHER OIL COMPANY</td>\n",
       "    </tr>\n",
       "    <tr>\n",
       "      <th>2</th>\n",
       "      <td>2/11/2020</td>\n",
       "      <td>ACTIV VIII</td>\n",
       "      <td>919.04</td>\n",
       "      <td>USHER OIL COMPANY</td>\n",
       "    </tr>\n",
       "    <tr>\n",
       "      <th>3</th>\n",
       "      <td>4/6/2020</td>\n",
       "      <td>ACTIV VIII</td>\n",
       "      <td>919.04</td>\n",
       "      <td>USHER OIL COMPANY</td>\n",
       "    </tr>\n",
       "    <tr>\n",
       "      <th>4</th>\n",
       "      <td>8/19/2020</td>\n",
       "      <td>ACTIV VIII</td>\n",
       "      <td>919.04</td>\n",
       "      <td>USHER OIL COMPANY</td>\n",
       "    </tr>\n",
       "  </tbody>\n",
       "</table>\n",
       "</div>"
      ],
      "text/plain": [
       "  Date_Invoice     descr_1  price_net          name_cust\n",
       "0    3/18/2019  ACTIV VIII    1750.56  USHER OIL COMPANY\n",
       "1    5/21/2019  ACTIV VIII    1838.08  USHER OIL COMPANY\n",
       "2    2/11/2020  ACTIV VIII     919.04  USHER OIL COMPANY\n",
       "3     4/6/2020  ACTIV VIII     919.04  USHER OIL COMPANY\n",
       "4    8/19/2020  ACTIV VIII     919.04  USHER OIL COMPANY"
      ]
     },
     "execution_count": 70,
     "metadata": {},
     "output_type": "execute_result"
    }
   ],
   "source": [
    "## Reorganizing the columns using double brackets\n",
    "organized_df = df[[\"Date_Invoice\", \"descr_1\",\"price_net\",\"name_cust\"]]\n",
    "organized_df.head()\n"
   ]
  },
  {
   "cell_type": "code",
   "execution_count": 62,
   "metadata": {},
   "outputs": [],
   "source": [
    "# does year equals to 2002?\n",
    "# is_2002 is a boolean variable with True or False in it\n",
    "#>is_2002 =  gapminder['year']==2002\n",
    "#>print(is_2002.head())\n"
   ]
  },
  {
   "cell_type": "code",
   "execution_count": 60,
   "metadata": {},
   "outputs": [
    {
     "data": {
      "text/plain": [
       "'2019'"
      ]
     },
     "execution_count": 60,
     "metadata": {},
     "output_type": "execute_result"
    }
   ],
   "source": [
    "#Select the Date_Invoice of dataframe\n",
    "s=organized_df[\"Date_Invoice\"][0]\n",
    "s[5:len(s)]\n",
    "s[-4:]\n"
   ]
  },
  {
   "cell_type": "code",
   "execution_count": 61,
   "metadata": {},
   "outputs": [
    {
     "data": {
      "text/plain": [
       "0        False\n",
       "1        False\n",
       "2        False\n",
       "3        False\n",
       "4        False\n",
       "         ...  \n",
       "24374    False\n",
       "24375    False\n",
       "24376    False\n",
       "24377    False\n",
       "24378    False\n",
       "Name: Date_Invoice, Length: 24379, dtype: bool"
      ]
     },
     "execution_count": 61,
     "metadata": {},
     "output_type": "execute_result"
    }
   ],
   "source": [
    "is_2019 = organized_df[\"Date_Invoice\"]==2019\n",
    "is_2019"
   ]
  },
  {
   "cell_type": "code",
   "execution_count": null,
   "metadata": {},
   "outputs": [],
   "source": []
  }
 ],
 "metadata": {
  "kernelspec": {
   "display_name": "Python 3",
   "language": "python",
   "name": "python3"
  },
  "language_info": {
   "codemirror_mode": {
    "name": "ipython",
    "version": 3
   },
   "file_extension": ".py",
   "mimetype": "text/x-python",
   "name": "python",
   "nbconvert_exporter": "python",
   "pygments_lexer": "ipython3",
   "version": "3.8.5"
  }
 },
 "nbformat": 4,
 "nbformat_minor": 2
}
